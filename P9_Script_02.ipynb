{
 "cells": [
  {
   "cell_type": "markdown",
   "metadata": {},
   "source": [
    "# Projet 9 : Réaliser une application de recommandation de contenu"
   ]
  },
  {
   "cell_type": "markdown",
   "metadata": {},
   "source": [
    "Problématique : My Content est une start-up qui veut encourager la lecture en recommandant des contenus pertinents pour ses utilisateurs. Le but est de développer un MVP grâce à des données disponible sur internet. L'application devra renvoyer une sélection de cinq articles."
   ]
  },
  {
   "cell_type": "markdown",
   "metadata": {},
   "source": [
    "Concernant l'architecture de l'application, il faudra avoir une architecture serverless : API + Azure Fonction ou Azure fonction. <br>\n",
    "Notre choix s'est porté sur l'azure fonction, car nous pouvons directement l'interroger via une requête http pour obtenir les recommandations. Il n'est donc pas nécessaire de réaliser une API en plus."
   ]
  },
  {
   "cell_type": "markdown",
   "metadata": {},
   "source": [
    "## Import des bibliothèques"
   ]
  },
  {
   "cell_type": "code",
   "execution_count": 23,
   "metadata": {},
   "outputs": [],
   "source": [
    "import pandas as pd"
   ]
  },
  {
   "cell_type": "code",
   "execution_count": 24,
   "metadata": {},
   "outputs": [
    {
     "name": "stderr",
     "output_type": "stream",
     "text": [
      "D:\\ProgramFiles\\Anaconda3\\envs\\venv_009_2\\lib\\site-packages\\gensim\\utils.py:860: UserWarning: detected Windows; aliasing chunkize to chunkize_serial\n",
      "  warnings.warn(\"detected Windows; aliasing chunkize to chunkize_serial\")\n",
      "Slow version of gensim.models.doc2vec is being used\n",
      "Slow version of Fasttext is being used\n"
     ]
    }
   ],
   "source": [
    "import sys\n",
    "# Insert the path of modules folder\n",
    "sys.path.insert(0, \"Package\")\n",
    "\n",
    "# Import the module0 directly since\n",
    "# the current path is of modules.\n",
    "import Scripts_Analyse01 as pk\n",
    "import Scripts_AnalyseMulti01 as pk_multi\n",
    "import Scripts_AnalyseMulti02_Unsupervised as pk_multi_unsp\n",
    "import Scripts_AnalyseMulti02_Supervised as pk_multi_sup"
   ]
  },
  {
   "cell_type": "markdown",
   "metadata": {},
   "source": [
    "## Import des données"
   ]
  },
  {
   "cell_type": "markdown",
   "metadata": {},
   "source": [
    "Commençons par la table article."
   ]
  },
  {
   "cell_type": "code",
   "execution_count": 25,
   "metadata": {},
   "outputs": [],
   "source": [
    "articles = pd.read_csv(\"Input\\\\articles_metadata.csv\")"
   ]
  },
  {
   "cell_type": "code",
   "execution_count": 4,
   "metadata": {},
   "outputs": [
    {
     "data": {
      "text/html": [
       "<div>\n",
       "<style scoped>\n",
       "    .dataframe tbody tr th:only-of-type {\n",
       "        vertical-align: middle;\n",
       "    }\n",
       "\n",
       "    .dataframe tbody tr th {\n",
       "        vertical-align: top;\n",
       "    }\n",
       "\n",
       "    .dataframe thead th {\n",
       "        text-align: right;\n",
       "    }\n",
       "</style>\n",
       "<table border=\"1\" class=\"dataframe\">\n",
       "  <thead>\n",
       "    <tr style=\"text-align: right;\">\n",
       "      <th></th>\n",
       "      <th>article_id</th>\n",
       "      <th>category_id</th>\n",
       "      <th>created_at_ts</th>\n",
       "      <th>publisher_id</th>\n",
       "      <th>words_count</th>\n",
       "    </tr>\n",
       "  </thead>\n",
       "  <tbody>\n",
       "    <tr>\n",
       "      <th>0</th>\n",
       "      <td>0</td>\n",
       "      <td>0</td>\n",
       "      <td>1513144419000</td>\n",
       "      <td>0</td>\n",
       "      <td>168</td>\n",
       "    </tr>\n",
       "    <tr>\n",
       "      <th>1</th>\n",
       "      <td>1</td>\n",
       "      <td>1</td>\n",
       "      <td>1405341936000</td>\n",
       "      <td>0</td>\n",
       "      <td>189</td>\n",
       "    </tr>\n",
       "    <tr>\n",
       "      <th>2</th>\n",
       "      <td>2</td>\n",
       "      <td>1</td>\n",
       "      <td>1408667706000</td>\n",
       "      <td>0</td>\n",
       "      <td>250</td>\n",
       "    </tr>\n",
       "    <tr>\n",
       "      <th>3</th>\n",
       "      <td>3</td>\n",
       "      <td>1</td>\n",
       "      <td>1408468313000</td>\n",
       "      <td>0</td>\n",
       "      <td>230</td>\n",
       "    </tr>\n",
       "    <tr>\n",
       "      <th>4</th>\n",
       "      <td>4</td>\n",
       "      <td>1</td>\n",
       "      <td>1407071171000</td>\n",
       "      <td>0</td>\n",
       "      <td>162</td>\n",
       "    </tr>\n",
       "    <tr>\n",
       "      <th>...</th>\n",
       "      <td>...</td>\n",
       "      <td>...</td>\n",
       "      <td>...</td>\n",
       "      <td>...</td>\n",
       "      <td>...</td>\n",
       "    </tr>\n",
       "    <tr>\n",
       "      <th>364042</th>\n",
       "      <td>364042</td>\n",
       "      <td>460</td>\n",
       "      <td>1434034118000</td>\n",
       "      <td>0</td>\n",
       "      <td>144</td>\n",
       "    </tr>\n",
       "    <tr>\n",
       "      <th>364043</th>\n",
       "      <td>364043</td>\n",
       "      <td>460</td>\n",
       "      <td>1434148472000</td>\n",
       "      <td>0</td>\n",
       "      <td>463</td>\n",
       "    </tr>\n",
       "    <tr>\n",
       "      <th>364044</th>\n",
       "      <td>364044</td>\n",
       "      <td>460</td>\n",
       "      <td>1457974279000</td>\n",
       "      <td>0</td>\n",
       "      <td>177</td>\n",
       "    </tr>\n",
       "    <tr>\n",
       "      <th>364045</th>\n",
       "      <td>364045</td>\n",
       "      <td>460</td>\n",
       "      <td>1515964737000</td>\n",
       "      <td>0</td>\n",
       "      <td>126</td>\n",
       "    </tr>\n",
       "    <tr>\n",
       "      <th>364046</th>\n",
       "      <td>364046</td>\n",
       "      <td>460</td>\n",
       "      <td>1505811330000</td>\n",
       "      <td>0</td>\n",
       "      <td>479</td>\n",
       "    </tr>\n",
       "  </tbody>\n",
       "</table>\n",
       "<p>364047 rows × 5 columns</p>\n",
       "</div>"
      ],
      "text/plain": [
       "        article_id  category_id  created_at_ts  publisher_id  words_count\n",
       "0                0            0  1513144419000             0          168\n",
       "1                1            1  1405341936000             0          189\n",
       "2                2            1  1408667706000             0          250\n",
       "3                3            1  1408468313000             0          230\n",
       "4                4            1  1407071171000             0          162\n",
       "...            ...          ...            ...           ...          ...\n",
       "364042      364042          460  1434034118000             0          144\n",
       "364043      364043          460  1434148472000             0          463\n",
       "364044      364044          460  1457974279000             0          177\n",
       "364045      364045          460  1515964737000             0          126\n",
       "364046      364046          460  1505811330000             0          479\n",
       "\n",
       "[364047 rows x 5 columns]"
      ]
     },
     "execution_count": 4,
     "metadata": {},
     "output_type": "execute_result"
    }
   ],
   "source": [
    "articles"
   ]
  },
  {
   "cell_type": "markdown",
   "metadata": {},
   "source": [
    "Nous avons 364 047 lignes et 5 variables."
   ]
  },
  {
   "cell_type": "markdown",
   "metadata": {},
   "source": [
    "Vérifions si nous avons des doublons."
   ]
  },
  {
   "cell_type": "code",
   "execution_count": 5,
   "metadata": {},
   "outputs": [
    {
     "data": {
      "text/plain": [
       "0"
      ]
     },
     "execution_count": 5,
     "metadata": {},
     "output_type": "execute_result"
    }
   ],
   "source": [
    "articles.duplicated().sum()"
   ]
  },
  {
   "cell_type": "code",
   "execution_count": 6,
   "metadata": {},
   "outputs": [
    {
     "data": {
      "text/plain": [
       "0"
      ]
     },
     "execution_count": 6,
     "metadata": {},
     "output_type": "execute_result"
    }
   ],
   "source": [
    "articles.duplicated([\"article_id\", \"category_id\"]).sum()"
   ]
  },
  {
   "cell_type": "markdown",
   "metadata": {},
   "source": [
    "Il n'y a aucun doublon dans cette table."
   ]
  },
  {
   "cell_type": "markdown",
   "metadata": {},
   "source": [
    "Importons les fichiers contenant les clicks des utilisateurs."
   ]
  },
  {
   "cell_type": "code",
   "execution_count": 26,
   "metadata": {},
   "outputs": [],
   "source": [
    "from pathlib import Path\n",
    "import pandas as pd\n",
    "import numpy as np\n",
    "\n",
    "path = r'Input\\\\clicks\\\\clicks'  # or unix / linux / mac path\n",
    "\n",
    "# get the files from the path provided in the OP\n",
    "files = Path(path).glob('*.csv')  # .rglob to get subdirectories"
   ]
  },
  {
   "cell_type": "code",
   "execution_count": 27,
   "metadata": {},
   "outputs": [
    {
     "name": "stdout",
     "output_type": "stream",
     "text": [
      "Input\\clicks\\clicks\\clicks_hour_000.csv\n",
      "Input\\clicks\\clicks\\clicks_hour_001.csv\n",
      "Input\\clicks\\clicks\\clicks_hour_002.csv\n",
      "Input\\clicks\\clicks\\clicks_hour_003.csv\n",
      "Input\\clicks\\clicks\\clicks_hour_004.csv\n",
      "Input\\clicks\\clicks\\clicks_hour_005.csv\n",
      "Input\\clicks\\clicks\\clicks_hour_006.csv\n",
      "Input\\clicks\\clicks\\clicks_hour_007.csv\n",
      "Input\\clicks\\clicks\\clicks_hour_008.csv\n",
      "Input\\clicks\\clicks\\clicks_hour_009.csv\n",
      "Input\\clicks\\clicks\\clicks_hour_010.csv\n",
      "Input\\clicks\\clicks\\clicks_hour_011.csv\n",
      "Input\\clicks\\clicks\\clicks_hour_012.csv\n",
      "Input\\clicks\\clicks\\clicks_hour_013.csv\n",
      "Input\\clicks\\clicks\\clicks_hour_014.csv\n",
      "Input\\clicks\\clicks\\clicks_hour_015.csv\n",
      "Input\\clicks\\clicks\\clicks_hour_016.csv\n",
      "Input\\clicks\\clicks\\clicks_hour_017.csv\n",
      "Input\\clicks\\clicks\\clicks_hour_018.csv\n",
      "Input\\clicks\\clicks\\clicks_hour_019.csv\n",
      "Input\\clicks\\clicks\\clicks_hour_020.csv\n",
      "Input\\clicks\\clicks\\clicks_hour_021.csv\n",
      "Input\\clicks\\clicks\\clicks_hour_022.csv\n",
      "Input\\clicks\\clicks\\clicks_hour_023.csv\n",
      "Input\\clicks\\clicks\\clicks_hour_024.csv\n",
      "Input\\clicks\\clicks\\clicks_hour_025.csv\n",
      "Input\\clicks\\clicks\\clicks_hour_026.csv\n",
      "Input\\clicks\\clicks\\clicks_hour_027.csv\n",
      "Input\\clicks\\clicks\\clicks_hour_028.csv\n",
      "Input\\clicks\\clicks\\clicks_hour_029.csv\n",
      "Input\\clicks\\clicks\\clicks_hour_030.csv\n",
      "Input\\clicks\\clicks\\clicks_hour_031.csv\n",
      "Input\\clicks\\clicks\\clicks_hour_032.csv\n",
      "Input\\clicks\\clicks\\clicks_hour_033.csv\n",
      "Input\\clicks\\clicks\\clicks_hour_034.csv\n",
      "Input\\clicks\\clicks\\clicks_hour_035.csv\n",
      "Input\\clicks\\clicks\\clicks_hour_036.csv\n",
      "Input\\clicks\\clicks\\clicks_hour_037.csv\n",
      "Input\\clicks\\clicks\\clicks_hour_038.csv\n",
      "Input\\clicks\\clicks\\clicks_hour_039.csv\n",
      "Input\\clicks\\clicks\\clicks_hour_040.csv\n",
      "Input\\clicks\\clicks\\clicks_hour_041.csv\n",
      "Input\\clicks\\clicks\\clicks_hour_042.csv\n",
      "Input\\clicks\\clicks\\clicks_hour_043.csv\n",
      "Input\\clicks\\clicks\\clicks_hour_044.csv\n",
      "Input\\clicks\\clicks\\clicks_hour_045.csv\n",
      "Input\\clicks\\clicks\\clicks_hour_046.csv\n",
      "Input\\clicks\\clicks\\clicks_hour_047.csv\n",
      "Input\\clicks\\clicks\\clicks_hour_048.csv\n",
      "Input\\clicks\\clicks\\clicks_hour_049.csv\n",
      "Input\\clicks\\clicks\\clicks_hour_050.csv\n",
      "Input\\clicks\\clicks\\clicks_hour_051.csv\n",
      "Input\\clicks\\clicks\\clicks_hour_052.csv\n",
      "Input\\clicks\\clicks\\clicks_hour_053.csv\n",
      "Input\\clicks\\clicks\\clicks_hour_054.csv\n",
      "Input\\clicks\\clicks\\clicks_hour_055.csv\n",
      "Input\\clicks\\clicks\\clicks_hour_056.csv\n",
      "Input\\clicks\\clicks\\clicks_hour_057.csv\n",
      "Input\\clicks\\clicks\\clicks_hour_058.csv\n",
      "Input\\clicks\\clicks\\clicks_hour_059.csv\n",
      "Input\\clicks\\clicks\\clicks_hour_060.csv\n",
      "Input\\clicks\\clicks\\clicks_hour_061.csv\n",
      "Input\\clicks\\clicks\\clicks_hour_062.csv\n",
      "Input\\clicks\\clicks\\clicks_hour_063.csv\n",
      "Input\\clicks\\clicks\\clicks_hour_064.csv\n",
      "Input\\clicks\\clicks\\clicks_hour_065.csv\n",
      "Input\\clicks\\clicks\\clicks_hour_066.csv\n",
      "Input\\clicks\\clicks\\clicks_hour_067.csv\n",
      "Input\\clicks\\clicks\\clicks_hour_068.csv\n",
      "Input\\clicks\\clicks\\clicks_hour_069.csv\n",
      "Input\\clicks\\clicks\\clicks_hour_070.csv\n",
      "Input\\clicks\\clicks\\clicks_hour_071.csv\n",
      "Input\\clicks\\clicks\\clicks_hour_072.csv\n",
      "Input\\clicks\\clicks\\clicks_hour_073.csv\n",
      "Input\\clicks\\clicks\\clicks_hour_074.csv\n",
      "Input\\clicks\\clicks\\clicks_hour_075.csv\n",
      "Input\\clicks\\clicks\\clicks_hour_076.csv\n",
      "Input\\clicks\\clicks\\clicks_hour_077.csv\n",
      "Input\\clicks\\clicks\\clicks_hour_078.csv\n",
      "Input\\clicks\\clicks\\clicks_hour_079.csv\n",
      "Input\\clicks\\clicks\\clicks_hour_080.csv\n",
      "Input\\clicks\\clicks\\clicks_hour_081.csv\n",
      "Input\\clicks\\clicks\\clicks_hour_082.csv\n",
      "Input\\clicks\\clicks\\clicks_hour_083.csv\n",
      "Input\\clicks\\clicks\\clicks_hour_084.csv\n",
      "Input\\clicks\\clicks\\clicks_hour_085.csv\n",
      "Input\\clicks\\clicks\\clicks_hour_086.csv\n",
      "Input\\clicks\\clicks\\clicks_hour_087.csv\n",
      "Input\\clicks\\clicks\\clicks_hour_088.csv\n",
      "Input\\clicks\\clicks\\clicks_hour_089.csv\n",
      "Input\\clicks\\clicks\\clicks_hour_090.csv\n",
      "Input\\clicks\\clicks\\clicks_hour_091.csv\n",
      "Input\\clicks\\clicks\\clicks_hour_092.csv\n",
      "Input\\clicks\\clicks\\clicks_hour_093.csv\n",
      "Input\\clicks\\clicks\\clicks_hour_094.csv\n",
      "Input\\clicks\\clicks\\clicks_hour_095.csv\n",
      "Input\\clicks\\clicks\\clicks_hour_096.csv\n",
      "Input\\clicks\\clicks\\clicks_hour_097.csv\n",
      "Input\\clicks\\clicks\\clicks_hour_098.csv\n",
      "Input\\clicks\\clicks\\clicks_hour_099.csv\n",
      "Input\\clicks\\clicks\\clicks_hour_100.csv\n",
      "Input\\clicks\\clicks\\clicks_hour_101.csv\n",
      "Input\\clicks\\clicks\\clicks_hour_102.csv\n",
      "Input\\clicks\\clicks\\clicks_hour_103.csv\n",
      "Input\\clicks\\clicks\\clicks_hour_104.csv\n",
      "Input\\clicks\\clicks\\clicks_hour_105.csv\n",
      "Input\\clicks\\clicks\\clicks_hour_106.csv\n",
      "Input\\clicks\\clicks\\clicks_hour_107.csv\n",
      "Input\\clicks\\clicks\\clicks_hour_108.csv\n",
      "Input\\clicks\\clicks\\clicks_hour_109.csv\n",
      "Input\\clicks\\clicks\\clicks_hour_110.csv\n",
      "Input\\clicks\\clicks\\clicks_hour_111.csv\n",
      "Input\\clicks\\clicks\\clicks_hour_112.csv\n",
      "Input\\clicks\\clicks\\clicks_hour_113.csv\n",
      "Input\\clicks\\clicks\\clicks_hour_114.csv\n",
      "Input\\clicks\\clicks\\clicks_hour_115.csv\n",
      "Input\\clicks\\clicks\\clicks_hour_116.csv\n",
      "Input\\clicks\\clicks\\clicks_hour_117.csv\n",
      "Input\\clicks\\clicks\\clicks_hour_118.csv\n",
      "Input\\clicks\\clicks\\clicks_hour_119.csv\n",
      "Input\\clicks\\clicks\\clicks_hour_120.csv\n",
      "Input\\clicks\\clicks\\clicks_hour_121.csv\n",
      "Input\\clicks\\clicks\\clicks_hour_122.csv\n",
      "Input\\clicks\\clicks\\clicks_hour_123.csv\n",
      "Input\\clicks\\clicks\\clicks_hour_124.csv\n",
      "Input\\clicks\\clicks\\clicks_hour_125.csv\n",
      "Input\\clicks\\clicks\\clicks_hour_126.csv\n",
      "Input\\clicks\\clicks\\clicks_hour_127.csv\n",
      "Input\\clicks\\clicks\\clicks_hour_128.csv\n",
      "Input\\clicks\\clicks\\clicks_hour_129.csv\n",
      "Input\\clicks\\clicks\\clicks_hour_130.csv\n",
      "Input\\clicks\\clicks\\clicks_hour_131.csv\n",
      "Input\\clicks\\clicks\\clicks_hour_132.csv\n",
      "Input\\clicks\\clicks\\clicks_hour_133.csv\n",
      "Input\\clicks\\clicks\\clicks_hour_134.csv\n",
      "Input\\clicks\\clicks\\clicks_hour_135.csv\n",
      "Input\\clicks\\clicks\\clicks_hour_136.csv\n",
      "Input\\clicks\\clicks\\clicks_hour_137.csv\n",
      "Input\\clicks\\clicks\\clicks_hour_138.csv\n",
      "Input\\clicks\\clicks\\clicks_hour_139.csv\n",
      "Input\\clicks\\clicks\\clicks_hour_140.csv\n",
      "Input\\clicks\\clicks\\clicks_hour_141.csv\n",
      "Input\\clicks\\clicks\\clicks_hour_142.csv\n",
      "Input\\clicks\\clicks\\clicks_hour_143.csv\n",
      "Input\\clicks\\clicks\\clicks_hour_144.csv\n",
      "Input\\clicks\\clicks\\clicks_hour_145.csv\n",
      "Input\\clicks\\clicks\\clicks_hour_146.csv\n",
      "Input\\clicks\\clicks\\clicks_hour_147.csv\n",
      "Input\\clicks\\clicks\\clicks_hour_148.csv\n",
      "Input\\clicks\\clicks\\clicks_hour_149.csv\n",
      "Input\\clicks\\clicks\\clicks_hour_150.csv\n",
      "Input\\clicks\\clicks\\clicks_hour_151.csv\n",
      "Input\\clicks\\clicks\\clicks_hour_152.csv\n",
      "Input\\clicks\\clicks\\clicks_hour_153.csv\n",
      "Input\\clicks\\clicks\\clicks_hour_154.csv\n",
      "Input\\clicks\\clicks\\clicks_hour_155.csv\n",
      "Input\\clicks\\clicks\\clicks_hour_156.csv\n",
      "Input\\clicks\\clicks\\clicks_hour_157.csv\n",
      "Input\\clicks\\clicks\\clicks_hour_158.csv\n",
      "Input\\clicks\\clicks\\clicks_hour_159.csv\n",
      "Input\\clicks\\clicks\\clicks_hour_160.csv\n",
      "Input\\clicks\\clicks\\clicks_hour_161.csv\n",
      "Input\\clicks\\clicks\\clicks_hour_162.csv\n",
      "Input\\clicks\\clicks\\clicks_hour_163.csv\n",
      "Input\\clicks\\clicks\\clicks_hour_164.csv\n",
      "Input\\clicks\\clicks\\clicks_hour_165.csv\n",
      "Input\\clicks\\clicks\\clicks_hour_166.csv\n",
      "Input\\clicks\\clicks\\clicks_hour_167.csv\n",
      "Input\\clicks\\clicks\\clicks_hour_168.csv\n",
      "Input\\clicks\\clicks\\clicks_hour_169.csv\n",
      "Input\\clicks\\clicks\\clicks_hour_170.csv\n",
      "Input\\clicks\\clicks\\clicks_hour_171.csv\n",
      "Input\\clicks\\clicks\\clicks_hour_172.csv\n",
      "Input\\clicks\\clicks\\clicks_hour_173.csv\n",
      "Input\\clicks\\clicks\\clicks_hour_174.csv\n",
      "Input\\clicks\\clicks\\clicks_hour_175.csv\n",
      "Input\\clicks\\clicks\\clicks_hour_176.csv\n",
      "Input\\clicks\\clicks\\clicks_hour_177.csv\n",
      "Input\\clicks\\clicks\\clicks_hour_178.csv\n",
      "Input\\clicks\\clicks\\clicks_hour_179.csv\n",
      "Input\\clicks\\clicks\\clicks_hour_180.csv\n",
      "Input\\clicks\\clicks\\clicks_hour_181.csv\n",
      "Input\\clicks\\clicks\\clicks_hour_182.csv\n",
      "Input\\clicks\\clicks\\clicks_hour_183.csv\n",
      "Input\\clicks\\clicks\\clicks_hour_184.csv\n",
      "Input\\clicks\\clicks\\clicks_hour_185.csv\n",
      "Input\\clicks\\clicks\\clicks_hour_186.csv\n",
      "Input\\clicks\\clicks\\clicks_hour_187.csv\n",
      "Input\\clicks\\clicks\\clicks_hour_188.csv\n",
      "Input\\clicks\\clicks\\clicks_hour_189.csv\n",
      "Input\\clicks\\clicks\\clicks_hour_190.csv\n",
      "Input\\clicks\\clicks\\clicks_hour_191.csv\n",
      "Input\\clicks\\clicks\\clicks_hour_192.csv\n",
      "Input\\clicks\\clicks\\clicks_hour_193.csv\n",
      "Input\\clicks\\clicks\\clicks_hour_194.csv\n",
      "Input\\clicks\\clicks\\clicks_hour_195.csv\n",
      "Input\\clicks\\clicks\\clicks_hour_196.csv\n",
      "Input\\clicks\\clicks\\clicks_hour_197.csv\n",
      "Input\\clicks\\clicks\\clicks_hour_198.csv\n",
      "Input\\clicks\\clicks\\clicks_hour_199.csv\n",
      "Input\\clicks\\clicks\\clicks_hour_200.csv\n",
      "Input\\clicks\\clicks\\clicks_hour_201.csv\n",
      "Input\\clicks\\clicks\\clicks_hour_202.csv\n",
      "Input\\clicks\\clicks\\clicks_hour_203.csv\n",
      "Input\\clicks\\clicks\\clicks_hour_204.csv\n",
      "Input\\clicks\\clicks\\clicks_hour_205.csv\n",
      "Input\\clicks\\clicks\\clicks_hour_206.csv\n",
      "Input\\clicks\\clicks\\clicks_hour_207.csv\n",
      "Input\\clicks\\clicks\\clicks_hour_208.csv\n",
      "Input\\clicks\\clicks\\clicks_hour_209.csv\n",
      "Input\\clicks\\clicks\\clicks_hour_210.csv\n",
      "Input\\clicks\\clicks\\clicks_hour_211.csv\n",
      "Input\\clicks\\clicks\\clicks_hour_212.csv\n",
      "Input\\clicks\\clicks\\clicks_hour_213.csv\n",
      "Input\\clicks\\clicks\\clicks_hour_214.csv\n",
      "Input\\clicks\\clicks\\clicks_hour_215.csv\n",
      "Input\\clicks\\clicks\\clicks_hour_216.csv\n",
      "Input\\clicks\\clicks\\clicks_hour_217.csv\n",
      "Input\\clicks\\clicks\\clicks_hour_218.csv\n",
      "Input\\clicks\\clicks\\clicks_hour_219.csv\n",
      "Input\\clicks\\clicks\\clicks_hour_220.csv\n",
      "Input\\clicks\\clicks\\clicks_hour_221.csv\n",
      "Input\\clicks\\clicks\\clicks_hour_222.csv\n",
      "Input\\clicks\\clicks\\clicks_hour_223.csv\n",
      "Input\\clicks\\clicks\\clicks_hour_224.csv\n",
      "Input\\clicks\\clicks\\clicks_hour_225.csv\n",
      "Input\\clicks\\clicks\\clicks_hour_226.csv\n",
      "Input\\clicks\\clicks\\clicks_hour_227.csv\n",
      "Input\\clicks\\clicks\\clicks_hour_228.csv\n",
      "Input\\clicks\\clicks\\clicks_hour_229.csv\n",
      "Input\\clicks\\clicks\\clicks_hour_230.csv\n",
      "Input\\clicks\\clicks\\clicks_hour_231.csv\n",
      "Input\\clicks\\clicks\\clicks_hour_232.csv\n",
      "Input\\clicks\\clicks\\clicks_hour_233.csv\n",
      "Input\\clicks\\clicks\\clicks_hour_234.csv\n",
      "Input\\clicks\\clicks\\clicks_hour_235.csv\n",
      "Input\\clicks\\clicks\\clicks_hour_236.csv\n",
      "Input\\clicks\\clicks\\clicks_hour_237.csv\n",
      "Input\\clicks\\clicks\\clicks_hour_238.csv\n",
      "Input\\clicks\\clicks\\clicks_hour_239.csv\n",
      "Input\\clicks\\clicks\\clicks_hour_240.csv\n",
      "Input\\clicks\\clicks\\clicks_hour_241.csv\n",
      "Input\\clicks\\clicks\\clicks_hour_242.csv\n",
      "Input\\clicks\\clicks\\clicks_hour_243.csv\n",
      "Input\\clicks\\clicks\\clicks_hour_244.csv\n",
      "Input\\clicks\\clicks\\clicks_hour_245.csv\n",
      "Input\\clicks\\clicks\\clicks_hour_246.csv\n",
      "Input\\clicks\\clicks\\clicks_hour_247.csv\n",
      "Input\\clicks\\clicks\\clicks_hour_248.csv\n",
      "Input\\clicks\\clicks\\clicks_hour_249.csv\n",
      "Input\\clicks\\clicks\\clicks_hour_250.csv\n",
      "Input\\clicks\\clicks\\clicks_hour_251.csv\n",
      "Input\\clicks\\clicks\\clicks_hour_252.csv\n",
      "Input\\clicks\\clicks\\clicks_hour_253.csv\n",
      "Input\\clicks\\clicks\\clicks_hour_254.csv\n",
      "Input\\clicks\\clicks\\clicks_hour_255.csv\n",
      "Input\\clicks\\clicks\\clicks_hour_256.csv\n",
      "Input\\clicks\\clicks\\clicks_hour_257.csv\n",
      "Input\\clicks\\clicks\\clicks_hour_258.csv\n",
      "Input\\clicks\\clicks\\clicks_hour_259.csv\n",
      "Input\\clicks\\clicks\\clicks_hour_260.csv\n",
      "Input\\clicks\\clicks\\clicks_hour_261.csv\n",
      "Input\\clicks\\clicks\\clicks_hour_262.csv\n",
      "Input\\clicks\\clicks\\clicks_hour_263.csv\n",
      "Input\\clicks\\clicks\\clicks_hour_264.csv\n",
      "Input\\clicks\\clicks\\clicks_hour_265.csv\n",
      "Input\\clicks\\clicks\\clicks_hour_266.csv\n",
      "Input\\clicks\\clicks\\clicks_hour_267.csv\n",
      "Input\\clicks\\clicks\\clicks_hour_268.csv\n",
      "Input\\clicks\\clicks\\clicks_hour_269.csv\n",
      "Input\\clicks\\clicks\\clicks_hour_270.csv\n",
      "Input\\clicks\\clicks\\clicks_hour_271.csv\n",
      "Input\\clicks\\clicks\\clicks_hour_272.csv\n",
      "Input\\clicks\\clicks\\clicks_hour_273.csv\n",
      "Input\\clicks\\clicks\\clicks_hour_274.csv\n",
      "Input\\clicks\\clicks\\clicks_hour_275.csv\n",
      "Input\\clicks\\clicks\\clicks_hour_276.csv\n",
      "Input\\clicks\\clicks\\clicks_hour_277.csv\n",
      "Input\\clicks\\clicks\\clicks_hour_278.csv\n",
      "Input\\clicks\\clicks\\clicks_hour_279.csv\n",
      "Input\\clicks\\clicks\\clicks_hour_280.csv\n",
      "Input\\clicks\\clicks\\clicks_hour_281.csv\n",
      "Input\\clicks\\clicks\\clicks_hour_282.csv\n",
      "Input\\clicks\\clicks\\clicks_hour_283.csv\n",
      "Input\\clicks\\clicks\\clicks_hour_284.csv\n",
      "Input\\clicks\\clicks\\clicks_hour_285.csv\n",
      "Input\\clicks\\clicks\\clicks_hour_286.csv\n",
      "Input\\clicks\\clicks\\clicks_hour_287.csv\n",
      "Input\\clicks\\clicks\\clicks_hour_288.csv\n",
      "Input\\clicks\\clicks\\clicks_hour_289.csv\n",
      "Input\\clicks\\clicks\\clicks_hour_290.csv\n",
      "Input\\clicks\\clicks\\clicks_hour_291.csv\n",
      "Input\\clicks\\clicks\\clicks_hour_292.csv\n",
      "Input\\clicks\\clicks\\clicks_hour_293.csv\n",
      "Input\\clicks\\clicks\\clicks_hour_294.csv\n",
      "Input\\clicks\\clicks\\clicks_hour_295.csv\n",
      "Input\\clicks\\clicks\\clicks_hour_296.csv\n",
      "Input\\clicks\\clicks\\clicks_hour_297.csv\n",
      "Input\\clicks\\clicks\\clicks_hour_298.csv\n",
      "Input\\clicks\\clicks\\clicks_hour_299.csv\n",
      "Input\\clicks\\clicks\\clicks_hour_300.csv\n",
      "Input\\clicks\\clicks\\clicks_hour_301.csv\n",
      "Input\\clicks\\clicks\\clicks_hour_302.csv\n",
      "Input\\clicks\\clicks\\clicks_hour_303.csv\n",
      "Input\\clicks\\clicks\\clicks_hour_304.csv\n",
      "Input\\clicks\\clicks\\clicks_hour_305.csv\n",
      "Input\\clicks\\clicks\\clicks_hour_306.csv\n",
      "Input\\clicks\\clicks\\clicks_hour_307.csv\n",
      "Input\\clicks\\clicks\\clicks_hour_308.csv\n",
      "Input\\clicks\\clicks\\clicks_hour_309.csv\n",
      "Input\\clicks\\clicks\\clicks_hour_310.csv\n",
      "Input\\clicks\\clicks\\clicks_hour_311.csv\n",
      "Input\\clicks\\clicks\\clicks_hour_312.csv\n",
      "Input\\clicks\\clicks\\clicks_hour_313.csv\n",
      "Input\\clicks\\clicks\\clicks_hour_314.csv\n",
      "Input\\clicks\\clicks\\clicks_hour_315.csv\n",
      "Input\\clicks\\clicks\\clicks_hour_316.csv\n",
      "Input\\clicks\\clicks\\clicks_hour_317.csv\n",
      "Input\\clicks\\clicks\\clicks_hour_318.csv\n",
      "Input\\clicks\\clicks\\clicks_hour_319.csv\n",
      "Input\\clicks\\clicks\\clicks_hour_320.csv\n",
      "Input\\clicks\\clicks\\clicks_hour_321.csv\n",
      "Input\\clicks\\clicks\\clicks_hour_322.csv\n",
      "Input\\clicks\\clicks\\clicks_hour_323.csv\n",
      "Input\\clicks\\clicks\\clicks_hour_324.csv\n",
      "Input\\clicks\\clicks\\clicks_hour_325.csv\n",
      "Input\\clicks\\clicks\\clicks_hour_326.csv\n",
      "Input\\clicks\\clicks\\clicks_hour_327.csv\n",
      "Input\\clicks\\clicks\\clicks_hour_328.csv\n",
      "Input\\clicks\\clicks\\clicks_hour_329.csv\n",
      "Input\\clicks\\clicks\\clicks_hour_330.csv\n",
      "Input\\clicks\\clicks\\clicks_hour_331.csv\n",
      "Input\\clicks\\clicks\\clicks_hour_332.csv\n",
      "Input\\clicks\\clicks\\clicks_hour_333.csv\n",
      "Input\\clicks\\clicks\\clicks_hour_334.csv\n",
      "Input\\clicks\\clicks\\clicks_hour_335.csv\n",
      "Input\\clicks\\clicks\\clicks_hour_336.csv\n",
      "Input\\clicks\\clicks\\clicks_hour_337.csv\n",
      "Input\\clicks\\clicks\\clicks_hour_338.csv\n",
      "Input\\clicks\\clicks\\clicks_hour_339.csv\n",
      "Input\\clicks\\clicks\\clicks_hour_340.csv\n",
      "Input\\clicks\\clicks\\clicks_hour_341.csv\n",
      "Input\\clicks\\clicks\\clicks_hour_342.csv\n",
      "Input\\clicks\\clicks\\clicks_hour_343.csv\n",
      "Input\\clicks\\clicks\\clicks_hour_344.csv\n",
      "Input\\clicks\\clicks\\clicks_hour_345.csv\n",
      "Input\\clicks\\clicks\\clicks_hour_346.csv\n",
      "Input\\clicks\\clicks\\clicks_hour_347.csv\n",
      "Input\\clicks\\clicks\\clicks_hour_348.csv\n",
      "Input\\clicks\\clicks\\clicks_hour_349.csv\n",
      "Input\\clicks\\clicks\\clicks_hour_350.csv\n",
      "Input\\clicks\\clicks\\clicks_hour_351.csv\n",
      "Input\\clicks\\clicks\\clicks_hour_352.csv\n",
      "Input\\clicks\\clicks\\clicks_hour_353.csv\n",
      "Input\\clicks\\clicks\\clicks_hour_354.csv\n",
      "Input\\clicks\\clicks\\clicks_hour_355.csv\n",
      "Input\\clicks\\clicks\\clicks_hour_356.csv\n",
      "Input\\clicks\\clicks\\clicks_hour_357.csv\n",
      "Input\\clicks\\clicks\\clicks_hour_358.csv\n",
      "Input\\clicks\\clicks\\clicks_hour_359.csv\n",
      "Input\\clicks\\clicks\\clicks_hour_360.csv\n",
      "Input\\clicks\\clicks\\clicks_hour_361.csv\n",
      "Input\\clicks\\clicks\\clicks_hour_362.csv\n",
      "Input\\clicks\\clicks\\clicks_hour_363.csv\n",
      "Input\\clicks\\clicks\\clicks_hour_364.csv\n",
      "Input\\clicks\\clicks\\clicks_hour_365.csv\n",
      "Input\\clicks\\clicks\\clicks_hour_366.csv\n",
      "Input\\clicks\\clicks\\clicks_hour_367.csv\n",
      "Input\\clicks\\clicks\\clicks_hour_368.csv\n",
      "Input\\clicks\\clicks\\clicks_hour_369.csv\n",
      "Input\\clicks\\clicks\\clicks_hour_370.csv\n",
      "Input\\clicks\\clicks\\clicks_hour_371.csv\n",
      "Input\\clicks\\clicks\\clicks_hour_372.csv\n",
      "Input\\clicks\\clicks\\clicks_hour_373.csv\n",
      "Input\\clicks\\clicks\\clicks_hour_374.csv\n",
      "Input\\clicks\\clicks\\clicks_hour_375.csv\n",
      "Input\\clicks\\clicks\\clicks_hour_376.csv\n",
      "Input\\clicks\\clicks\\clicks_hour_377.csv\n",
      "Input\\clicks\\clicks\\clicks_hour_378.csv\n",
      "Input\\clicks\\clicks\\clicks_hour_379.csv\n",
      "Input\\clicks\\clicks\\clicks_hour_380.csv\n",
      "Input\\clicks\\clicks\\clicks_hour_381.csv\n",
      "Input\\clicks\\clicks\\clicks_hour_382.csv\n",
      "Input\\clicks\\clicks\\clicks_hour_383.csv\n",
      "Input\\clicks\\clicks\\clicks_hour_384.csv\n"
     ]
    }
   ],
   "source": [
    "dfs = list()\n",
    "for f in files:\n",
    "    print(f)\n",
    "    data = pd.read_csv(f)\n",
    "        ## .stem is method for pathlib objects to get the filename w/o the extension\n",
    "    data['file'] = f\n",
    "    if 'df' in locals():\n",
    "        df = pd.concat([df , data], ignore_index=True)\n",
    "    else:\n",
    "        df=data"
   ]
  },
  {
   "cell_type": "markdown",
   "metadata": {},
   "source": [
    "Regardons la table."
   ]
  },
  {
   "cell_type": "code",
   "execution_count": 28,
   "metadata": {},
   "outputs": [
    {
     "data": {
      "text/html": [
       "<div>\n",
       "<style scoped>\n",
       "    .dataframe tbody tr th:only-of-type {\n",
       "        vertical-align: middle;\n",
       "    }\n",
       "\n",
       "    .dataframe tbody tr th {\n",
       "        vertical-align: top;\n",
       "    }\n",
       "\n",
       "    .dataframe thead th {\n",
       "        text-align: right;\n",
       "    }\n",
       "</style>\n",
       "<table border=\"1\" class=\"dataframe\">\n",
       "  <thead>\n",
       "    <tr style=\"text-align: right;\">\n",
       "      <th></th>\n",
       "      <th>user_id</th>\n",
       "      <th>session_id</th>\n",
       "      <th>session_start</th>\n",
       "      <th>session_size</th>\n",
       "      <th>click_article_id</th>\n",
       "      <th>click_timestamp</th>\n",
       "      <th>click_environment</th>\n",
       "      <th>click_deviceGroup</th>\n",
       "      <th>click_os</th>\n",
       "      <th>click_country</th>\n",
       "      <th>click_region</th>\n",
       "      <th>click_referrer_type</th>\n",
       "      <th>file</th>\n",
       "    </tr>\n",
       "  </thead>\n",
       "  <tbody>\n",
       "    <tr>\n",
       "      <th>0</th>\n",
       "      <td>0</td>\n",
       "      <td>1506825423271737</td>\n",
       "      <td>1506825423000</td>\n",
       "      <td>2</td>\n",
       "      <td>157541</td>\n",
       "      <td>1506826828020</td>\n",
       "      <td>4</td>\n",
       "      <td>3</td>\n",
       "      <td>20</td>\n",
       "      <td>1</td>\n",
       "      <td>20</td>\n",
       "      <td>2</td>\n",
       "      <td>Input\\clicks\\clicks\\clicks_hour_000.csv</td>\n",
       "    </tr>\n",
       "    <tr>\n",
       "      <th>1</th>\n",
       "      <td>0</td>\n",
       "      <td>1506825423271737</td>\n",
       "      <td>1506825423000</td>\n",
       "      <td>2</td>\n",
       "      <td>68866</td>\n",
       "      <td>1506826858020</td>\n",
       "      <td>4</td>\n",
       "      <td>3</td>\n",
       "      <td>20</td>\n",
       "      <td>1</td>\n",
       "      <td>20</td>\n",
       "      <td>2</td>\n",
       "      <td>Input\\clicks\\clicks\\clicks_hour_000.csv</td>\n",
       "    </tr>\n",
       "  </tbody>\n",
       "</table>\n",
       "</div>"
      ],
      "text/plain": [
       "  user_id        session_id  session_start session_size click_article_id  \\\n",
       "0       0  1506825423271737  1506825423000            2           157541   \n",
       "1       0  1506825423271737  1506825423000            2            68866   \n",
       "\n",
       "  click_timestamp click_environment click_deviceGroup click_os click_country  \\\n",
       "0   1506826828020                 4                 3       20             1   \n",
       "1   1506826858020                 4                 3       20             1   \n",
       "\n",
       "  click_region click_referrer_type                                     file  \n",
       "0           20                   2  Input\\clicks\\clicks\\clicks_hour_000.csv  \n",
       "1           20                   2  Input\\clicks\\clicks\\clicks_hour_000.csv  "
      ]
     },
     "execution_count": 28,
     "metadata": {},
     "output_type": "execute_result"
    }
   ],
   "source": [
    "df.head(2)"
   ]
  },
  {
   "cell_type": "code",
   "execution_count": 29,
   "metadata": {},
   "outputs": [
    {
     "data": {
      "text/plain": [
       "(2988181, 13)"
      ]
     },
     "execution_count": 29,
     "metadata": {},
     "output_type": "execute_result"
    }
   ],
   "source": [
    "df.shape"
   ]
  },
  {
   "cell_type": "markdown",
   "metadata": {},
   "source": [
    "Nous avons 2 988 181 lignes et 13 variables."
   ]
  },
  {
   "cell_type": "markdown",
   "metadata": {},
   "source": [
    "Vérifions les doublons."
   ]
  },
  {
   "cell_type": "code",
   "execution_count": 10,
   "metadata": {},
   "outputs": [
    {
     "data": {
      "text/plain": [
       "0"
      ]
     },
     "execution_count": 10,
     "metadata": {},
     "output_type": "execute_result"
    }
   ],
   "source": [
    "df.duplicated().sum()"
   ]
  },
  {
   "cell_type": "code",
   "execution_count": 11,
   "metadata": {},
   "outputs": [
    {
     "data": {
      "text/plain": [
       "0"
      ]
     },
     "execution_count": 11,
     "metadata": {},
     "output_type": "execute_result"
    }
   ],
   "source": [
    "df.duplicated([\"user_id\", \"session_id\", \"click_article_id\", \"click_timestamp\"]).sum()"
   ]
  },
  {
   "cell_type": "markdown",
   "metadata": {},
   "source": [
    "Nous avons aucun doublon."
   ]
  },
  {
   "cell_type": "markdown",
   "metadata": {},
   "source": [
    "Importons le fichier d'embeddings des articles : c'est la matrice qui contient les incorporations de contenu des articles (vecteurs à 250 dimensions), qui ont été entrainées sur le texte et les métadonnées des articles par le module ACR de Chamelon (cf le document https://arxiv.org/abs/1808.00076)"
   ]
  },
  {
   "cell_type": "code",
   "execution_count": 31,
   "metadata": {},
   "outputs": [
    {
     "data": {
      "text/plain": [
       "(364047, 250)"
      ]
     },
     "execution_count": 31,
     "metadata": {},
     "output_type": "execute_result"
    }
   ],
   "source": [
    "art_embed = pd.read_pickle('Input\\\\articles_embeddings.pickle')\n",
    "art_embed.shape"
   ]
  },
  {
   "cell_type": "markdown",
   "metadata": {},
   "source": [
    "La matrice contient bien les 364 047 articles et a 250 dimensions."
   ]
  },
  {
   "cell_type": "code",
   "execution_count": 13,
   "metadata": {},
   "outputs": [
    {
     "data": {
      "text/plain": [
       "array([[-0.16118301, -0.95723313, -0.13794445, ..., -0.231686  ,\n",
       "         0.5974159 ,  0.40962312],\n",
       "       [-0.52321565, -0.974058  ,  0.73860806, ...,  0.18282819,\n",
       "         0.39708954, -0.83436364],\n",
       "       [-0.61961854, -0.9729604 , -0.20736018, ..., -0.44758022,\n",
       "         0.8059317 , -0.28528407],\n",
       "       ...,\n",
       "       [-0.25139043, -0.9762427 ,  0.58609664, ..., -0.14372464,\n",
       "         0.06809307, -0.7050104 ],\n",
       "       [ 0.22434181, -0.92328775, -0.38174152, ...,  0.6871319 ,\n",
       "        -0.5315117 ,  0.01072566],\n",
       "       [-0.25713393, -0.9946313 ,  0.9837918 , ...,  0.98387307,\n",
       "        -0.8381829 , -0.1792827 ]], dtype=float32)"
      ]
     },
     "execution_count": 13,
     "metadata": {},
     "output_type": "execute_result"
    }
   ],
   "source": [
    "art_embed"
   ]
  },
  {
   "cell_type": "markdown",
   "metadata": {},
   "source": [
    "Maintenant que nous avons importé nos données, nous pouvons passer à l'étape suivante."
   ]
  },
  {
   "cell_type": "markdown",
   "metadata": {},
   "source": [
    "## Construction de la base de données"
   ]
  },
  {
   "cell_type": "markdown",
   "metadata": {},
   "source": [
    "### Création de notre jeu de données : jointure des tables"
   ]
  },
  {
   "cell_type": "markdown",
   "metadata": {},
   "source": [
    "Fusionnons nos deux tables."
   ]
  },
  {
   "cell_type": "code",
   "execution_count": 15,
   "metadata": {},
   "outputs": [
    {
     "data": {
      "text/html": [
       "<div>\n",
       "<style scoped>\n",
       "    .dataframe tbody tr th:only-of-type {\n",
       "        vertical-align: middle;\n",
       "    }\n",
       "\n",
       "    .dataframe tbody tr th {\n",
       "        vertical-align: top;\n",
       "    }\n",
       "\n",
       "    .dataframe thead th {\n",
       "        text-align: right;\n",
       "    }\n",
       "</style>\n",
       "<table border=\"1\" class=\"dataframe\">\n",
       "  <thead>\n",
       "    <tr style=\"text-align: right;\">\n",
       "      <th></th>\n",
       "      <th>user_id</th>\n",
       "      <th>session_id</th>\n",
       "      <th>session_start</th>\n",
       "      <th>session_size</th>\n",
       "      <th>click_article_id</th>\n",
       "      <th>click_timestamp</th>\n",
       "      <th>click_environment</th>\n",
       "      <th>click_deviceGroup</th>\n",
       "      <th>click_os</th>\n",
       "      <th>click_country</th>\n",
       "      <th>click_region</th>\n",
       "      <th>click_referrer_type</th>\n",
       "      <th>file</th>\n",
       "    </tr>\n",
       "  </thead>\n",
       "  <tbody>\n",
       "    <tr>\n",
       "      <th>0</th>\n",
       "      <td>0</td>\n",
       "      <td>1506825423271737</td>\n",
       "      <td>1506825423000</td>\n",
       "      <td>2</td>\n",
       "      <td>157541</td>\n",
       "      <td>1506826828020</td>\n",
       "      <td>4</td>\n",
       "      <td>3</td>\n",
       "      <td>20</td>\n",
       "      <td>1</td>\n",
       "      <td>20</td>\n",
       "      <td>2</td>\n",
       "      <td>Input\\clicks\\clicks\\clicks_hour_000.csv</td>\n",
       "    </tr>\n",
       "    <tr>\n",
       "      <th>1</th>\n",
       "      <td>0</td>\n",
       "      <td>1506825423271737</td>\n",
       "      <td>1506825423000</td>\n",
       "      <td>2</td>\n",
       "      <td>68866</td>\n",
       "      <td>1506826858020</td>\n",
       "      <td>4</td>\n",
       "      <td>3</td>\n",
       "      <td>20</td>\n",
       "      <td>1</td>\n",
       "      <td>20</td>\n",
       "      <td>2</td>\n",
       "      <td>Input\\clicks\\clicks\\clicks_hour_000.csv</td>\n",
       "    </tr>\n",
       "    <tr>\n",
       "      <th>2</th>\n",
       "      <td>1</td>\n",
       "      <td>1506825426267738</td>\n",
       "      <td>1506825426000</td>\n",
       "      <td>2</td>\n",
       "      <td>235840</td>\n",
       "      <td>1506827017951</td>\n",
       "      <td>4</td>\n",
       "      <td>1</td>\n",
       "      <td>17</td>\n",
       "      <td>1</td>\n",
       "      <td>16</td>\n",
       "      <td>2</td>\n",
       "      <td>Input\\clicks\\clicks\\clicks_hour_000.csv</td>\n",
       "    </tr>\n",
       "    <tr>\n",
       "      <th>3</th>\n",
       "      <td>1</td>\n",
       "      <td>1506825426267738</td>\n",
       "      <td>1506825426000</td>\n",
       "      <td>2</td>\n",
       "      <td>96663</td>\n",
       "      <td>1506827047951</td>\n",
       "      <td>4</td>\n",
       "      <td>1</td>\n",
       "      <td>17</td>\n",
       "      <td>1</td>\n",
       "      <td>16</td>\n",
       "      <td>2</td>\n",
       "      <td>Input\\clicks\\clicks\\clicks_hour_000.csv</td>\n",
       "    </tr>\n",
       "    <tr>\n",
       "      <th>4</th>\n",
       "      <td>2</td>\n",
       "      <td>1506825435299739</td>\n",
       "      <td>1506825435000</td>\n",
       "      <td>2</td>\n",
       "      <td>119592</td>\n",
       "      <td>1506827090575</td>\n",
       "      <td>4</td>\n",
       "      <td>1</td>\n",
       "      <td>17</td>\n",
       "      <td>1</td>\n",
       "      <td>24</td>\n",
       "      <td>2</td>\n",
       "      <td>Input\\clicks\\clicks\\clicks_hour_000.csv</td>\n",
       "    </tr>\n",
       "    <tr>\n",
       "      <th>...</th>\n",
       "      <td>...</td>\n",
       "      <td>...</td>\n",
       "      <td>...</td>\n",
       "      <td>...</td>\n",
       "      <td>...</td>\n",
       "      <td>...</td>\n",
       "      <td>...</td>\n",
       "      <td>...</td>\n",
       "      <td>...</td>\n",
       "      <td>...</td>\n",
       "      <td>...</td>\n",
       "      <td>...</td>\n",
       "      <td>...</td>\n",
       "    </tr>\n",
       "    <tr>\n",
       "      <th>2988176</th>\n",
       "      <td>10051</td>\n",
       "      <td>1508211372158328</td>\n",
       "      <td>1508211372000</td>\n",
       "      <td>2</td>\n",
       "      <td>84911</td>\n",
       "      <td>1508211557302</td>\n",
       "      <td>4</td>\n",
       "      <td>3</td>\n",
       "      <td>2</td>\n",
       "      <td>1</td>\n",
       "      <td>25</td>\n",
       "      <td>1</td>\n",
       "      <td>Input\\clicks\\clicks\\clicks_hour_384.csv</td>\n",
       "    </tr>\n",
       "    <tr>\n",
       "      <th>2988177</th>\n",
       "      <td>322896</td>\n",
       "      <td>1508211376302329</td>\n",
       "      <td>1508211376000</td>\n",
       "      <td>2</td>\n",
       "      <td>30760</td>\n",
       "      <td>1508211672520</td>\n",
       "      <td>4</td>\n",
       "      <td>1</td>\n",
       "      <td>17</td>\n",
       "      <td>1</td>\n",
       "      <td>25</td>\n",
       "      <td>2</td>\n",
       "      <td>Input\\clicks\\clicks\\clicks_hour_384.csv</td>\n",
       "    </tr>\n",
       "    <tr>\n",
       "      <th>2988178</th>\n",
       "      <td>322896</td>\n",
       "      <td>1508211376302329</td>\n",
       "      <td>1508211376000</td>\n",
       "      <td>2</td>\n",
       "      <td>157507</td>\n",
       "      <td>1508211702520</td>\n",
       "      <td>4</td>\n",
       "      <td>1</td>\n",
       "      <td>17</td>\n",
       "      <td>1</td>\n",
       "      <td>25</td>\n",
       "      <td>2</td>\n",
       "      <td>Input\\clicks\\clicks\\clicks_hour_384.csv</td>\n",
       "    </tr>\n",
       "    <tr>\n",
       "      <th>2988179</th>\n",
       "      <td>123718</td>\n",
       "      <td>1508211379189330</td>\n",
       "      <td>1508211379000</td>\n",
       "      <td>2</td>\n",
       "      <td>234481</td>\n",
       "      <td>1508211513583</td>\n",
       "      <td>4</td>\n",
       "      <td>3</td>\n",
       "      <td>2</td>\n",
       "      <td>1</td>\n",
       "      <td>25</td>\n",
       "      <td>2</td>\n",
       "      <td>Input\\clicks\\clicks\\clicks_hour_384.csv</td>\n",
       "    </tr>\n",
       "    <tr>\n",
       "      <th>2988180</th>\n",
       "      <td>123718</td>\n",
       "      <td>1508211379189330</td>\n",
       "      <td>1508211379000</td>\n",
       "      <td>2</td>\n",
       "      <td>233578</td>\n",
       "      <td>1508211543583</td>\n",
       "      <td>4</td>\n",
       "      <td>3</td>\n",
       "      <td>2</td>\n",
       "      <td>1</td>\n",
       "      <td>25</td>\n",
       "      <td>2</td>\n",
       "      <td>Input\\clicks\\clicks\\clicks_hour_384.csv</td>\n",
       "    </tr>\n",
       "  </tbody>\n",
       "</table>\n",
       "<p>2988181 rows × 13 columns</p>\n",
       "</div>"
      ],
      "text/plain": [
       "        user_id        session_id  session_start session_size  \\\n",
       "0             0  1506825423271737  1506825423000            2   \n",
       "1             0  1506825423271737  1506825423000            2   \n",
       "2             1  1506825426267738  1506825426000            2   \n",
       "3             1  1506825426267738  1506825426000            2   \n",
       "4             2  1506825435299739  1506825435000            2   \n",
       "...         ...               ...            ...          ...   \n",
       "2988176   10051  1508211372158328  1508211372000            2   \n",
       "2988177  322896  1508211376302329  1508211376000            2   \n",
       "2988178  322896  1508211376302329  1508211376000            2   \n",
       "2988179  123718  1508211379189330  1508211379000            2   \n",
       "2988180  123718  1508211379189330  1508211379000            2   \n",
       "\n",
       "        click_article_id click_timestamp click_environment click_deviceGroup  \\\n",
       "0                 157541   1506826828020                 4                 3   \n",
       "1                  68866   1506826858020                 4                 3   \n",
       "2                 235840   1506827017951                 4                 1   \n",
       "3                  96663   1506827047951                 4                 1   \n",
       "4                 119592   1506827090575                 4                 1   \n",
       "...                  ...             ...               ...               ...   \n",
       "2988176            84911   1508211557302                 4                 3   \n",
       "2988177            30760   1508211672520                 4                 1   \n",
       "2988178           157507   1508211702520                 4                 1   \n",
       "2988179           234481   1508211513583                 4                 3   \n",
       "2988180           233578   1508211543583                 4                 3   \n",
       "\n",
       "        click_os click_country click_region click_referrer_type  \\\n",
       "0             20             1           20                   2   \n",
       "1             20             1           20                   2   \n",
       "2             17             1           16                   2   \n",
       "3             17             1           16                   2   \n",
       "4             17             1           24                   2   \n",
       "...          ...           ...          ...                 ...   \n",
       "2988176        2             1           25                   1   \n",
       "2988177       17             1           25                   2   \n",
       "2988178       17             1           25                   2   \n",
       "2988179        2             1           25                   2   \n",
       "2988180        2             1           25                   2   \n",
       "\n",
       "                                            file  \n",
       "0        Input\\clicks\\clicks\\clicks_hour_000.csv  \n",
       "1        Input\\clicks\\clicks\\clicks_hour_000.csv  \n",
       "2        Input\\clicks\\clicks\\clicks_hour_000.csv  \n",
       "3        Input\\clicks\\clicks\\clicks_hour_000.csv  \n",
       "4        Input\\clicks\\clicks\\clicks_hour_000.csv  \n",
       "...                                          ...  \n",
       "2988176  Input\\clicks\\clicks\\clicks_hour_384.csv  \n",
       "2988177  Input\\clicks\\clicks\\clicks_hour_384.csv  \n",
       "2988178  Input\\clicks\\clicks\\clicks_hour_384.csv  \n",
       "2988179  Input\\clicks\\clicks\\clicks_hour_384.csv  \n",
       "2988180  Input\\clicks\\clicks\\clicks_hour_384.csv  \n",
       "\n",
       "[2988181 rows x 13 columns]"
      ]
     },
     "execution_count": 15,
     "metadata": {},
     "output_type": "execute_result"
    }
   ],
   "source": [
    "df"
   ]
  },
  {
   "cell_type": "code",
   "execution_count": 32,
   "metadata": {},
   "outputs": [],
   "source": [
    "articles.columns = [\"click_article_id\", \"category_id\", \"created_at_ts\", \"publisher_id\", \"words_count\"]"
   ]
  },
  {
   "cell_type": "code",
   "execution_count": 33,
   "metadata": {},
   "outputs": [
    {
     "data": {
      "text/html": [
       "<div>\n",
       "<style scoped>\n",
       "    .dataframe tbody tr th:only-of-type {\n",
       "        vertical-align: middle;\n",
       "    }\n",
       "\n",
       "    .dataframe tbody tr th {\n",
       "        vertical-align: top;\n",
       "    }\n",
       "\n",
       "    .dataframe thead th {\n",
       "        text-align: right;\n",
       "    }\n",
       "</style>\n",
       "<table border=\"1\" class=\"dataframe\">\n",
       "  <thead>\n",
       "    <tr style=\"text-align: right;\">\n",
       "      <th></th>\n",
       "      <th>click_article_id</th>\n",
       "      <th>category_id</th>\n",
       "      <th>created_at_ts</th>\n",
       "      <th>publisher_id</th>\n",
       "      <th>words_count</th>\n",
       "    </tr>\n",
       "  </thead>\n",
       "  <tbody>\n",
       "    <tr>\n",
       "      <th>0</th>\n",
       "      <td>0</td>\n",
       "      <td>0</td>\n",
       "      <td>1513144419000</td>\n",
       "      <td>0</td>\n",
       "      <td>168</td>\n",
       "    </tr>\n",
       "    <tr>\n",
       "      <th>1</th>\n",
       "      <td>1</td>\n",
       "      <td>1</td>\n",
       "      <td>1405341936000</td>\n",
       "      <td>0</td>\n",
       "      <td>189</td>\n",
       "    </tr>\n",
       "    <tr>\n",
       "      <th>2</th>\n",
       "      <td>2</td>\n",
       "      <td>1</td>\n",
       "      <td>1408667706000</td>\n",
       "      <td>0</td>\n",
       "      <td>250</td>\n",
       "    </tr>\n",
       "    <tr>\n",
       "      <th>3</th>\n",
       "      <td>3</td>\n",
       "      <td>1</td>\n",
       "      <td>1408468313000</td>\n",
       "      <td>0</td>\n",
       "      <td>230</td>\n",
       "    </tr>\n",
       "    <tr>\n",
       "      <th>4</th>\n",
       "      <td>4</td>\n",
       "      <td>1</td>\n",
       "      <td>1407071171000</td>\n",
       "      <td>0</td>\n",
       "      <td>162</td>\n",
       "    </tr>\n",
       "    <tr>\n",
       "      <th>...</th>\n",
       "      <td>...</td>\n",
       "      <td>...</td>\n",
       "      <td>...</td>\n",
       "      <td>...</td>\n",
       "      <td>...</td>\n",
       "    </tr>\n",
       "    <tr>\n",
       "      <th>364042</th>\n",
       "      <td>364042</td>\n",
       "      <td>460</td>\n",
       "      <td>1434034118000</td>\n",
       "      <td>0</td>\n",
       "      <td>144</td>\n",
       "    </tr>\n",
       "    <tr>\n",
       "      <th>364043</th>\n",
       "      <td>364043</td>\n",
       "      <td>460</td>\n",
       "      <td>1434148472000</td>\n",
       "      <td>0</td>\n",
       "      <td>463</td>\n",
       "    </tr>\n",
       "    <tr>\n",
       "      <th>364044</th>\n",
       "      <td>364044</td>\n",
       "      <td>460</td>\n",
       "      <td>1457974279000</td>\n",
       "      <td>0</td>\n",
       "      <td>177</td>\n",
       "    </tr>\n",
       "    <tr>\n",
       "      <th>364045</th>\n",
       "      <td>364045</td>\n",
       "      <td>460</td>\n",
       "      <td>1515964737000</td>\n",
       "      <td>0</td>\n",
       "      <td>126</td>\n",
       "    </tr>\n",
       "    <tr>\n",
       "      <th>364046</th>\n",
       "      <td>364046</td>\n",
       "      <td>460</td>\n",
       "      <td>1505811330000</td>\n",
       "      <td>0</td>\n",
       "      <td>479</td>\n",
       "    </tr>\n",
       "  </tbody>\n",
       "</table>\n",
       "<p>364047 rows × 5 columns</p>\n",
       "</div>"
      ],
      "text/plain": [
       "        click_article_id  category_id  created_at_ts  publisher_id  \\\n",
       "0                      0            0  1513144419000             0   \n",
       "1                      1            1  1405341936000             0   \n",
       "2                      2            1  1408667706000             0   \n",
       "3                      3            1  1408468313000             0   \n",
       "4                      4            1  1407071171000             0   \n",
       "...                  ...          ...            ...           ...   \n",
       "364042            364042          460  1434034118000             0   \n",
       "364043            364043          460  1434148472000             0   \n",
       "364044            364044          460  1457974279000             0   \n",
       "364045            364045          460  1515964737000             0   \n",
       "364046            364046          460  1505811330000             0   \n",
       "\n",
       "        words_count  \n",
       "0               168  \n",
       "1               189  \n",
       "2               250  \n",
       "3               230  \n",
       "4               162  \n",
       "...             ...  \n",
       "364042          144  \n",
       "364043          463  \n",
       "364044          177  \n",
       "364045          126  \n",
       "364046          479  \n",
       "\n",
       "[364047 rows x 5 columns]"
      ]
     },
     "execution_count": 33,
     "metadata": {},
     "output_type": "execute_result"
    }
   ],
   "source": [
    "articles"
   ]
  },
  {
   "cell_type": "code",
   "execution_count": 34,
   "metadata": {},
   "outputs": [],
   "source": [
    "dfs = df.join(articles, how='left', on='click_article_id', lsuffix=\"_1\")"
   ]
  },
  {
   "cell_type": "code",
   "execution_count": 41,
   "metadata": {},
   "outputs": [
    {
     "data": {
      "text/plain": [
       "(2988181, 17)"
      ]
     },
     "execution_count": 41,
     "metadata": {},
     "output_type": "execute_result"
    }
   ],
   "source": [
    "dfs.shape"
   ]
  },
  {
   "cell_type": "markdown",
   "metadata": {},
   "source": [
    "Nous retrouvons les  2 988 181 lignes."
   ]
  },
  {
   "cell_type": "markdown",
   "metadata": {},
   "source": [
    "Supprimons la colonne inutile"
   ]
  },
  {
   "cell_type": "code",
   "execution_count": 35,
   "metadata": {},
   "outputs": [],
   "source": [
    "del dfs[\"click_article_id_1\"]"
   ]
  },
  {
   "cell_type": "code",
   "execution_count": 36,
   "metadata": {},
   "outputs": [
    {
     "data": {
      "text/plain": [
       "364046"
      ]
     },
     "execution_count": 36,
     "metadata": {},
     "output_type": "execute_result"
    }
   ],
   "source": [
    "max(dfs[\"click_article_id\"])"
   ]
  },
  {
   "cell_type": "code",
   "execution_count": 37,
   "metadata": {},
   "outputs": [
    {
     "data": {
      "text/plain": [
       "364046"
      ]
     },
     "execution_count": 37,
     "metadata": {},
     "output_type": "execute_result"
    }
   ],
   "source": [
    "max(articles[\"click_article_id\"])"
   ]
  },
  {
   "cell_type": "markdown",
   "metadata": {},
   "source": [
    "Vérification des données manquantes"
   ]
  },
  {
   "cell_type": "code",
   "execution_count": 24,
   "metadata": {},
   "outputs": [],
   "source": [
    "tab = pk.del_Nan(dfs, 0.0000000001, 0, 0)"
   ]
  },
  {
   "cell_type": "code",
   "execution_count": 25,
   "metadata": {},
   "outputs": [
    {
     "data": {
      "text/html": [
       "<div>\n",
       "<style scoped>\n",
       "    .dataframe tbody tr th:only-of-type {\n",
       "        vertical-align: middle;\n",
       "    }\n",
       "\n",
       "    .dataframe tbody tr th {\n",
       "        vertical-align: top;\n",
       "    }\n",
       "\n",
       "    .dataframe thead th {\n",
       "        text-align: right;\n",
       "    }\n",
       "</style>\n",
       "<table border=\"1\" class=\"dataframe\">\n",
       "  <thead>\n",
       "    <tr style=\"text-align: right;\">\n",
       "      <th></th>\n",
       "      <th>index</th>\n",
       "      <th>freq</th>\n",
       "    </tr>\n",
       "  </thead>\n",
       "  <tbody>\n",
       "  </tbody>\n",
       "</table>\n",
       "</div>"
      ],
      "text/plain": [
       "Empty DataFrame\n",
       "Columns: [index, freq]\n",
       "Index: []"
      ]
     },
     "execution_count": 25,
     "metadata": {},
     "output_type": "execute_result"
    }
   ],
   "source": [
    "tab"
   ]
  },
  {
   "cell_type": "code",
   "execution_count": 26,
   "metadata": {},
   "outputs": [
    {
     "data": {
      "image/png": "[encoded data removed]",
      "text/plain": [
       "<Figure size 1152x576 with 1 Axes>"
      ]
     },
     "metadata": {
      "needs_background": "light"
     },
     "output_type": "display_data"
    }
   ],
   "source": [
    "pk.matrix_vm(dfs, (16, 8), (0.60, 0.64, 0.49))"
   ]
  },
  {
   "cell_type": "markdown",
   "metadata": {},
   "source": [
    "Aucune donnée manquante"
   ]
  },
  {
   "cell_type": "markdown",
   "metadata": {},
   "source": [
    "### Création d'indicateurs"
   ]
  },
  {
   "cell_type": "markdown",
   "metadata": {},
   "source": [
    "Créons des indicateurs comme le nombre de clicks par utilisateur et le nombre de clicks par utilisateur et par catégorie."
   ]
  },
  {
   "cell_type": "markdown",
   "metadata": {},
   "source": [
    "Commençons par le nombre de clicks par utilisateur"
   ]
  },
  {
   "cell_type": "code",
   "execution_count": 10,
   "metadata": {},
   "outputs": [],
   "source": [
    "dfs_agg = pd.DataFrame( dfs.groupby(['user_id'])['click_article_id'].count().reset_index(name=\"total_click\"))\n"
   ]
  },
  {
   "cell_type": "code",
   "execution_count": 29,
   "metadata": {},
   "outputs": [
    {
     "data": {
      "text/html": [
       "<div>\n",
       "<style scoped>\n",
       "    .dataframe tbody tr th:only-of-type {\n",
       "        vertical-align: middle;\n",
       "    }\n",
       "\n",
       "    .dataframe tbody tr th {\n",
       "        vertical-align: top;\n",
       "    }\n",
       "\n",
       "    .dataframe thead th {\n",
       "        text-align: right;\n",
       "    }\n",
       "</style>\n",
       "<table border=\"1\" class=\"dataframe\">\n",
       "  <thead>\n",
       "    <tr style=\"text-align: right;\">\n",
       "      <th></th>\n",
       "      <th>user_id</th>\n",
       "      <th>total_click</th>\n",
       "    </tr>\n",
       "  </thead>\n",
       "  <tbody>\n",
       "    <tr>\n",
       "      <th>0</th>\n",
       "      <td>0</td>\n",
       "      <td>8</td>\n",
       "    </tr>\n",
       "    <tr>\n",
       "      <th>1</th>\n",
       "      <td>1</td>\n",
       "      <td>12</td>\n",
       "    </tr>\n",
       "    <tr>\n",
       "      <th>2</th>\n",
       "      <td>2</td>\n",
       "      <td>4</td>\n",
       "    </tr>\n",
       "    <tr>\n",
       "      <th>3</th>\n",
       "      <td>3</td>\n",
       "      <td>17</td>\n",
       "    </tr>\n",
       "    <tr>\n",
       "      <th>4</th>\n",
       "      <td>4</td>\n",
       "      <td>7</td>\n",
       "    </tr>\n",
       "    <tr>\n",
       "      <th>...</th>\n",
       "      <td>...</td>\n",
       "      <td>...</td>\n",
       "    </tr>\n",
       "    <tr>\n",
       "      <th>322892</th>\n",
       "      <td>322892</td>\n",
       "      <td>2</td>\n",
       "    </tr>\n",
       "    <tr>\n",
       "      <th>322893</th>\n",
       "      <td>322893</td>\n",
       "      <td>2</td>\n",
       "    </tr>\n",
       "    <tr>\n",
       "      <th>322894</th>\n",
       "      <td>322894</td>\n",
       "      <td>2</td>\n",
       "    </tr>\n",
       "    <tr>\n",
       "      <th>322895</th>\n",
       "      <td>322895</td>\n",
       "      <td>2</td>\n",
       "    </tr>\n",
       "    <tr>\n",
       "      <th>322896</th>\n",
       "      <td>322896</td>\n",
       "      <td>2</td>\n",
       "    </tr>\n",
       "  </tbody>\n",
       "</table>\n",
       "<p>322897 rows × 2 columns</p>\n",
       "</div>"
      ],
      "text/plain": [
       "        user_id  total_click\n",
       "0             0            8\n",
       "1             1           12\n",
       "2             2            4\n",
       "3             3           17\n",
       "4             4            7\n",
       "...         ...          ...\n",
       "322892   322892            2\n",
       "322893   322893            2\n",
       "322894   322894            2\n",
       "322895   322895            2\n",
       "322896   322896            2\n",
       "\n",
       "[322897 rows x 2 columns]"
      ]
     },
     "execution_count": 29,
     "metadata": {},
     "output_type": "execute_result"
    }
   ],
   "source": [
    "dfs_agg"
   ]
  },
  {
   "cell_type": "markdown",
   "metadata": {},
   "source": [
    "Ajoutons à présent le nombre de clicks par catégorie et par utilisateur"
   ]
  },
  {
   "cell_type": "code",
   "execution_count": 11,
   "metadata": {},
   "outputs": [],
   "source": [
    "dfs_agg_2 = pd.DataFrame(dfs.groupby(['user_id','category_id' ])['click_article_id'].count().reset_index(name=\"total_click_by_cat\"))\n"
   ]
  },
  {
   "cell_type": "code",
   "execution_count": 31,
   "metadata": {},
   "outputs": [
    {
     "data": {
      "text/html": [
       "<div>\n",
       "<style scoped>\n",
       "    .dataframe tbody tr th:only-of-type {\n",
       "        vertical-align: middle;\n",
       "    }\n",
       "\n",
       "    .dataframe tbody tr th {\n",
       "        vertical-align: top;\n",
       "    }\n",
       "\n",
       "    .dataframe thead th {\n",
       "        text-align: right;\n",
       "    }\n",
       "</style>\n",
       "<table border=\"1\" class=\"dataframe\">\n",
       "  <thead>\n",
       "    <tr style=\"text-align: right;\">\n",
       "      <th></th>\n",
       "      <th>user_id</th>\n",
       "      <th>category_id</th>\n",
       "      <th>total_click_by_cat</th>\n",
       "    </tr>\n",
       "  </thead>\n",
       "  <tbody>\n",
       "    <tr>\n",
       "      <th>0</th>\n",
       "      <td>0</td>\n",
       "      <td>136</td>\n",
       "      <td>1</td>\n",
       "    </tr>\n",
       "    <tr>\n",
       "      <th>1</th>\n",
       "      <td>0</td>\n",
       "      <td>186</td>\n",
       "      <td>2</td>\n",
       "    </tr>\n",
       "    <tr>\n",
       "      <th>2</th>\n",
       "      <td>0</td>\n",
       "      <td>209</td>\n",
       "      <td>1</td>\n",
       "    </tr>\n",
       "    <tr>\n",
       "      <th>3</th>\n",
       "      <td>0</td>\n",
       "      <td>281</td>\n",
       "      <td>2</td>\n",
       "    </tr>\n",
       "    <tr>\n",
       "      <th>4</th>\n",
       "      <td>0</td>\n",
       "      <td>375</td>\n",
       "      <td>1</td>\n",
       "    </tr>\n",
       "    <tr>\n",
       "      <th>...</th>\n",
       "      <td>...</td>\n",
       "      <td>...</td>\n",
       "      <td>...</td>\n",
       "    </tr>\n",
       "    <tr>\n",
       "      <th>1882297</th>\n",
       "      <td>322894</td>\n",
       "      <td>297</td>\n",
       "      <td>1</td>\n",
       "    </tr>\n",
       "    <tr>\n",
       "      <th>1882298</th>\n",
       "      <td>322895</td>\n",
       "      <td>133</td>\n",
       "      <td>1</td>\n",
       "    </tr>\n",
       "    <tr>\n",
       "      <th>1882299</th>\n",
       "      <td>322895</td>\n",
       "      <td>418</td>\n",
       "      <td>1</td>\n",
       "    </tr>\n",
       "    <tr>\n",
       "      <th>1882300</th>\n",
       "      <td>322896</td>\n",
       "      <td>26</td>\n",
       "      <td>1</td>\n",
       "    </tr>\n",
       "    <tr>\n",
       "      <th>1882301</th>\n",
       "      <td>322896</td>\n",
       "      <td>281</td>\n",
       "      <td>1</td>\n",
       "    </tr>\n",
       "  </tbody>\n",
       "</table>\n",
       "<p>1882302 rows × 3 columns</p>\n",
       "</div>"
      ],
      "text/plain": [
       "         user_id  category_id  total_click_by_cat\n",
       "0              0          136                   1\n",
       "1              0          186                   2\n",
       "2              0          209                   1\n",
       "3              0          281                   2\n",
       "4              0          375                   1\n",
       "...          ...          ...                 ...\n",
       "1882297   322894          297                   1\n",
       "1882298   322895          133                   1\n",
       "1882299   322895          418                   1\n",
       "1882300   322896           26                   1\n",
       "1882301   322896          281                   1\n",
       "\n",
       "[1882302 rows x 3 columns]"
      ]
     },
     "execution_count": 31,
     "metadata": {},
     "output_type": "execute_result"
    }
   ],
   "source": [
    "dfs_agg_2"
   ]
  },
  {
   "cell_type": "code",
   "execution_count": 12,
   "metadata": {},
   "outputs": [
    {
     "data": {
      "text/html": [
       "<div>\n",
       "<style scoped>\n",
       "    .dataframe tbody tr th:only-of-type {\n",
       "        vertical-align: middle;\n",
       "    }\n",
       "\n",
       "    .dataframe tbody tr th {\n",
       "        vertical-align: top;\n",
       "    }\n",
       "\n",
       "    .dataframe thead th {\n",
       "        text-align: right;\n",
       "    }\n",
       "</style>\n",
       "<table border=\"1\" class=\"dataframe\">\n",
       "  <thead>\n",
       "    <tr style=\"text-align: right;\">\n",
       "      <th></th>\n",
       "      <th>user_id</th>\n",
       "      <th>category_id</th>\n",
       "      <th>total_click_by_cat</th>\n",
       "    </tr>\n",
       "  </thead>\n",
       "  <tbody>\n",
       "    <tr>\n",
       "      <th>0</th>\n",
       "      <td>0</td>\n",
       "      <td>136</td>\n",
       "      <td>1</td>\n",
       "    </tr>\n",
       "    <tr>\n",
       "      <th>1</th>\n",
       "      <td>0</td>\n",
       "      <td>186</td>\n",
       "      <td>2</td>\n",
       "    </tr>\n",
       "    <tr>\n",
       "      <th>2</th>\n",
       "      <td>0</td>\n",
       "      <td>209</td>\n",
       "      <td>1</td>\n",
       "    </tr>\n",
       "    <tr>\n",
       "      <th>3</th>\n",
       "      <td>0</td>\n",
       "      <td>281</td>\n",
       "      <td>2</td>\n",
       "    </tr>\n",
       "    <tr>\n",
       "      <th>4</th>\n",
       "      <td>0</td>\n",
       "      <td>375</td>\n",
       "      <td>1</td>\n",
       "    </tr>\n",
       "    <tr>\n",
       "      <th>5</th>\n",
       "      <td>0</td>\n",
       "      <td>431</td>\n",
       "      <td>1</td>\n",
       "    </tr>\n",
       "  </tbody>\n",
       "</table>\n",
       "</div>"
      ],
      "text/plain": [
       "   user_id  category_id  total_click_by_cat\n",
       "0        0          136                   1\n",
       "1        0          186                   2\n",
       "2        0          209                   1\n",
       "3        0          281                   2\n",
       "4        0          375                   1\n",
       "5        0          431                   1"
      ]
     },
     "execution_count": 12,
     "metadata": {},
     "output_type": "execute_result"
    }
   ],
   "source": [
    "dfs_agg_2.loc[dfs_agg_2[\"user_id\"]==0]"
   ]
  },
  {
   "cell_type": "code",
   "execution_count": 13,
   "metadata": {},
   "outputs": [],
   "source": [
    "dfs_agg_3 = dfs_agg_2.join(dfs_agg, how='left', on='user_id', lsuffix=\"_1\")"
   ]
  },
  {
   "cell_type": "code",
   "execution_count": 34,
   "metadata": {},
   "outputs": [
    {
     "data": {
      "text/html": [
       "<div>\n",
       "<style scoped>\n",
       "    .dataframe tbody tr th:only-of-type {\n",
       "        vertical-align: middle;\n",
       "    }\n",
       "\n",
       "    .dataframe tbody tr th {\n",
       "        vertical-align: top;\n",
       "    }\n",
       "\n",
       "    .dataframe thead th {\n",
       "        text-align: right;\n",
       "    }\n",
       "</style>\n",
       "<table border=\"1\" class=\"dataframe\">\n",
       "  <thead>\n",
       "    <tr style=\"text-align: right;\">\n",
       "      <th></th>\n",
       "      <th>user_id_1</th>\n",
       "      <th>category_id</th>\n",
       "      <th>total_click_by_cat</th>\n",
       "      <th>user_id</th>\n",
       "      <th>total_click</th>\n",
       "    </tr>\n",
       "  </thead>\n",
       "  <tbody>\n",
       "    <tr>\n",
       "      <th>0</th>\n",
       "      <td>0</td>\n",
       "      <td>136</td>\n",
       "      <td>1</td>\n",
       "      <td>0</td>\n",
       "      <td>8</td>\n",
       "    </tr>\n",
       "    <tr>\n",
       "      <th>1</th>\n",
       "      <td>0</td>\n",
       "      <td>186</td>\n",
       "      <td>2</td>\n",
       "      <td>0</td>\n",
       "      <td>8</td>\n",
       "    </tr>\n",
       "    <tr>\n",
       "      <th>2</th>\n",
       "      <td>0</td>\n",
       "      <td>209</td>\n",
       "      <td>1</td>\n",
       "      <td>0</td>\n",
       "      <td>8</td>\n",
       "    </tr>\n",
       "    <tr>\n",
       "      <th>3</th>\n",
       "      <td>0</td>\n",
       "      <td>281</td>\n",
       "      <td>2</td>\n",
       "      <td>0</td>\n",
       "      <td>8</td>\n",
       "    </tr>\n",
       "    <tr>\n",
       "      <th>4</th>\n",
       "      <td>0</td>\n",
       "      <td>375</td>\n",
       "      <td>1</td>\n",
       "      <td>0</td>\n",
       "      <td>8</td>\n",
       "    </tr>\n",
       "    <tr>\n",
       "      <th>5</th>\n",
       "      <td>0</td>\n",
       "      <td>431</td>\n",
       "      <td>1</td>\n",
       "      <td>0</td>\n",
       "      <td>8</td>\n",
       "    </tr>\n",
       "  </tbody>\n",
       "</table>\n",
       "</div>"
      ],
      "text/plain": [
       "   user_id_1  category_id  total_click_by_cat  user_id  total_click\n",
       "0          0          136                   1        0            8\n",
       "1          0          186                   2        0            8\n",
       "2          0          209                   1        0            8\n",
       "3          0          281                   2        0            8\n",
       "4          0          375                   1        0            8\n",
       "5          0          431                   1        0            8"
      ]
     },
     "execution_count": 34,
     "metadata": {},
     "output_type": "execute_result"
    }
   ],
   "source": [
    "dfs_agg_3.loc[dfs_agg_3[\"user_id\"]==0]"
   ]
  },
  {
   "cell_type": "code",
   "execution_count": 14,
   "metadata": {},
   "outputs": [],
   "source": [
    "del dfs_agg_3[\"user_id_1\"]"
   ]
  },
  {
   "cell_type": "code",
   "execution_count": 15,
   "metadata": {},
   "outputs": [],
   "source": [
    "dfs_agg = dfs_agg_3.copy()"
   ]
  },
  {
   "cell_type": "code",
   "execution_count": 37,
   "metadata": {},
   "outputs": [
    {
     "data": {
      "text/html": [
       "<div>\n",
       "<style scoped>\n",
       "    .dataframe tbody tr th:only-of-type {\n",
       "        vertical-align: middle;\n",
       "    }\n",
       "\n",
       "    .dataframe tbody tr th {\n",
       "        vertical-align: top;\n",
       "    }\n",
       "\n",
       "    .dataframe thead th {\n",
       "        text-align: right;\n",
       "    }\n",
       "</style>\n",
       "<table border=\"1\" class=\"dataframe\">\n",
       "  <thead>\n",
       "    <tr style=\"text-align: right;\">\n",
       "      <th></th>\n",
       "      <th>category_id</th>\n",
       "      <th>total_click_by_cat</th>\n",
       "      <th>user_id</th>\n",
       "      <th>total_click</th>\n",
       "    </tr>\n",
       "  </thead>\n",
       "  <tbody>\n",
       "    <tr>\n",
       "      <th>0</th>\n",
       "      <td>136</td>\n",
       "      <td>1</td>\n",
       "      <td>0</td>\n",
       "      <td>8</td>\n",
       "    </tr>\n",
       "    <tr>\n",
       "      <th>1</th>\n",
       "      <td>186</td>\n",
       "      <td>2</td>\n",
       "      <td>0</td>\n",
       "      <td>8</td>\n",
       "    </tr>\n",
       "    <tr>\n",
       "      <th>2</th>\n",
       "      <td>209</td>\n",
       "      <td>1</td>\n",
       "      <td>0</td>\n",
       "      <td>8</td>\n",
       "    </tr>\n",
       "    <tr>\n",
       "      <th>3</th>\n",
       "      <td>281</td>\n",
       "      <td>2</td>\n",
       "      <td>0</td>\n",
       "      <td>8</td>\n",
       "    </tr>\n",
       "    <tr>\n",
       "      <th>4</th>\n",
       "      <td>375</td>\n",
       "      <td>1</td>\n",
       "      <td>0</td>\n",
       "      <td>8</td>\n",
       "    </tr>\n",
       "    <tr>\n",
       "      <th>...</th>\n",
       "      <td>...</td>\n",
       "      <td>...</td>\n",
       "      <td>...</td>\n",
       "      <td>...</td>\n",
       "    </tr>\n",
       "    <tr>\n",
       "      <th>1882297</th>\n",
       "      <td>297</td>\n",
       "      <td>1</td>\n",
       "      <td>322894</td>\n",
       "      <td>2</td>\n",
       "    </tr>\n",
       "    <tr>\n",
       "      <th>1882298</th>\n",
       "      <td>133</td>\n",
       "      <td>1</td>\n",
       "      <td>322895</td>\n",
       "      <td>2</td>\n",
       "    </tr>\n",
       "    <tr>\n",
       "      <th>1882299</th>\n",
       "      <td>418</td>\n",
       "      <td>1</td>\n",
       "      <td>322895</td>\n",
       "      <td>2</td>\n",
       "    </tr>\n",
       "    <tr>\n",
       "      <th>1882300</th>\n",
       "      <td>26</td>\n",
       "      <td>1</td>\n",
       "      <td>322896</td>\n",
       "      <td>2</td>\n",
       "    </tr>\n",
       "    <tr>\n",
       "      <th>1882301</th>\n",
       "      <td>281</td>\n",
       "      <td>1</td>\n",
       "      <td>322896</td>\n",
       "      <td>2</td>\n",
       "    </tr>\n",
       "  </tbody>\n",
       "</table>\n",
       "<p>1882302 rows × 4 columns</p>\n",
       "</div>"
      ],
      "text/plain": [
       "         category_id  total_click_by_cat  user_id  total_click\n",
       "0                136                   1        0            8\n",
       "1                186                   2        0            8\n",
       "2                209                   1        0            8\n",
       "3                281                   2        0            8\n",
       "4                375                   1        0            8\n",
       "...              ...                 ...      ...          ...\n",
       "1882297          297                   1   322894            2\n",
       "1882298          133                   1   322895            2\n",
       "1882299          418                   1   322895            2\n",
       "1882300           26                   1   322896            2\n",
       "1882301          281                   1   322896            2\n",
       "\n",
       "[1882302 rows x 4 columns]"
      ]
     },
     "execution_count": 37,
     "metadata": {},
     "output_type": "execute_result"
    }
   ],
   "source": [
    "dfs_agg"
   ]
  },
  {
   "cell_type": "markdown",
   "metadata": {},
   "source": [
    "Créons un taux en fonction du nombre de clicks par catégorie"
   ]
  },
  {
   "cell_type": "code",
   "execution_count": 16,
   "metadata": {},
   "outputs": [],
   "source": [
    "dfs_agg['rating'] = dfs_agg['total_click_by_cat'] / dfs_agg['total_click']\n"
   ]
  },
  {
   "cell_type": "code",
   "execution_count": 39,
   "metadata": {},
   "outputs": [
    {
     "data": {
      "text/html": [
       "<div>\n",
       "<style scoped>\n",
       "    .dataframe tbody tr th:only-of-type {\n",
       "        vertical-align: middle;\n",
       "    }\n",
       "\n",
       "    .dataframe tbody tr th {\n",
       "        vertical-align: top;\n",
       "    }\n",
       "\n",
       "    .dataframe thead th {\n",
       "        text-align: right;\n",
       "    }\n",
       "</style>\n",
       "<table border=\"1\" class=\"dataframe\">\n",
       "  <thead>\n",
       "    <tr style=\"text-align: right;\">\n",
       "      <th></th>\n",
       "      <th>category_id</th>\n",
       "      <th>total_click_by_cat</th>\n",
       "      <th>user_id</th>\n",
       "      <th>total_click</th>\n",
       "      <th>rating</th>\n",
       "    </tr>\n",
       "  </thead>\n",
       "  <tbody>\n",
       "    <tr>\n",
       "      <th>0</th>\n",
       "      <td>136</td>\n",
       "      <td>1</td>\n",
       "      <td>0</td>\n",
       "      <td>8</td>\n",
       "      <td>0.125</td>\n",
       "    </tr>\n",
       "    <tr>\n",
       "      <th>1</th>\n",
       "      <td>186</td>\n",
       "      <td>2</td>\n",
       "      <td>0</td>\n",
       "      <td>8</td>\n",
       "      <td>0.250</td>\n",
       "    </tr>\n",
       "    <tr>\n",
       "      <th>2</th>\n",
       "      <td>209</td>\n",
       "      <td>1</td>\n",
       "      <td>0</td>\n",
       "      <td>8</td>\n",
       "      <td>0.125</td>\n",
       "    </tr>\n",
       "    <tr>\n",
       "      <th>3</th>\n",
       "      <td>281</td>\n",
       "      <td>2</td>\n",
       "      <td>0</td>\n",
       "      <td>8</td>\n",
       "      <td>0.250</td>\n",
       "    </tr>\n",
       "    <tr>\n",
       "      <th>4</th>\n",
       "      <td>375</td>\n",
       "      <td>1</td>\n",
       "      <td>0</td>\n",
       "      <td>8</td>\n",
       "      <td>0.125</td>\n",
       "    </tr>\n",
       "    <tr>\n",
       "      <th>5</th>\n",
       "      <td>431</td>\n",
       "      <td>1</td>\n",
       "      <td>0</td>\n",
       "      <td>8</td>\n",
       "      <td>0.125</td>\n",
       "    </tr>\n",
       "  </tbody>\n",
       "</table>\n",
       "</div>"
      ],
      "text/plain": [
       "   category_id  total_click_by_cat  user_id  total_click  rating\n",
       "0          136                   1        0            8   0.125\n",
       "1          186                   2        0            8   0.250\n",
       "2          209                   1        0            8   0.125\n",
       "3          281                   2        0            8   0.250\n",
       "4          375                   1        0            8   0.125\n",
       "5          431                   1        0            8   0.125"
      ]
     },
     "execution_count": 39,
     "metadata": {},
     "output_type": "execute_result"
    }
   ],
   "source": [
    "dfs_agg.loc[dfs_agg[\"user_id\"]==0]"
   ]
  },
  {
   "cell_type": "markdown",
   "metadata": {},
   "source": [
    "Maintenant que nous avons notre jeu de données, nous pouvons essayer d'en apprendre plus dessus."
   ]
  },
  {
   "cell_type": "markdown",
   "metadata": {},
   "source": [
    "## Exploration des données"
   ]
  },
  {
   "cell_type": "markdown",
   "metadata": {},
   "source": [
    "### Statistiques descriptives"
   ]
  },
  {
   "cell_type": "code",
   "execution_count": 40,
   "metadata": {},
   "outputs": [
    {
     "data": {
      "text/plain": [
       "316"
      ]
     },
     "execution_count": 40,
     "metadata": {},
     "output_type": "execute_result"
    }
   ],
   "source": [
    "dfs_agg[\"category_id\"].nunique()"
   ]
  },
  {
   "cell_type": "markdown",
   "metadata": {},
   "source": [
    "Nous avons 316 catégories d'article qui ont été au moins cliqué par un utilisateur"
   ]
  },
  {
   "cell_type": "code",
   "execution_count": 41,
   "metadata": {},
   "outputs": [
    {
     "data": {
      "text/plain": [
       "322897"
      ]
     },
     "execution_count": 41,
     "metadata": {},
     "output_type": "execute_result"
    }
   ],
   "source": [
    "dfs_agg[\"user_id\"].nunique()"
   ]
  },
  {
   "cell_type": "markdown",
   "metadata": {},
   "source": [
    "Nous avons 322 897 utilisateurs qui ont au moins cliqué sur un article."
   ]
  },
  {
   "cell_type": "code",
   "execution_count": 42,
   "metadata": {},
   "outputs": [
    {
     "data": {
      "text/html": [
       "<div>\n",
       "<style scoped>\n",
       "    .dataframe tbody tr th:only-of-type {\n",
       "        vertical-align: middle;\n",
       "    }\n",
       "\n",
       "    .dataframe tbody tr th {\n",
       "        vertical-align: top;\n",
       "    }\n",
       "\n",
       "    .dataframe thead th {\n",
       "        text-align: right;\n",
       "    }\n",
       "</style>\n",
       "<table border=\"1\" class=\"dataframe\">\n",
       "  <thead>\n",
       "    <tr style=\"text-align: right;\">\n",
       "      <th></th>\n",
       "      <th>category_id</th>\n",
       "      <th>total_click_by_cat</th>\n",
       "      <th>user_id</th>\n",
       "      <th>total_click</th>\n",
       "      <th>rating</th>\n",
       "    </tr>\n",
       "  </thead>\n",
       "  <tbody>\n",
       "    <tr>\n",
       "      <th>count</th>\n",
       "      <td>1.882302e+06</td>\n",
       "      <td>1.882302e+06</td>\n",
       "      <td>1.882302e+06</td>\n",
       "      <td>1.882302e+06</td>\n",
       "      <td>1.882302e+06</td>\n",
       "    </tr>\n",
       "    <tr>\n",
       "      <th>mean</th>\n",
       "      <td>3.016577e+02</td>\n",
       "      <td>1.587514e+00</td>\n",
       "      <td>1.205252e+05</td>\n",
       "      <td>2.289332e+01</td>\n",
       "      <td>1.715437e-01</td>\n",
       "    </tr>\n",
       "    <tr>\n",
       "      <th>std</th>\n",
       "      <td>1.191309e+02</td>\n",
       "      <td>1.921600e+00</td>\n",
       "      <td>8.726865e+04</td>\n",
       "      <td>3.391055e+01</td>\n",
       "      <td>1.844344e-01</td>\n",
       "    </tr>\n",
       "    <tr>\n",
       "      <th>min</th>\n",
       "      <td>1.000000e+00</td>\n",
       "      <td>1.000000e+00</td>\n",
       "      <td>0.000000e+00</td>\n",
       "      <td>2.000000e+00</td>\n",
       "      <td>8.116883e-04</td>\n",
       "    </tr>\n",
       "    <tr>\n",
       "      <th>25%</th>\n",
       "      <td>2.470000e+02</td>\n",
       "      <td>1.000000e+00</td>\n",
       "      <td>4.710600e+04</td>\n",
       "      <td>6.000000e+00</td>\n",
       "      <td>4.761905e-02</td>\n",
       "    </tr>\n",
       "    <tr>\n",
       "      <th>50%</th>\n",
       "      <td>3.270000e+02</td>\n",
       "      <td>1.000000e+00</td>\n",
       "      <td>1.037510e+05</td>\n",
       "      <td>1.300000e+01</td>\n",
       "      <td>1.000000e-01</td>\n",
       "    </tr>\n",
       "    <tr>\n",
       "      <th>75%</th>\n",
       "      <td>4.090000e+02</td>\n",
       "      <td>2.000000e+00</td>\n",
       "      <td>1.837410e+05</td>\n",
       "      <td>2.800000e+01</td>\n",
       "      <td>2.307692e-01</td>\n",
       "    </tr>\n",
       "    <tr>\n",
       "      <th>max</th>\n",
       "      <td>4.600000e+02</td>\n",
       "      <td>5.350000e+02</td>\n",
       "      <td>3.228960e+05</td>\n",
       "      <td>1.232000e+03</td>\n",
       "      <td>1.000000e+00</td>\n",
       "    </tr>\n",
       "  </tbody>\n",
       "</table>\n",
       "</div>"
      ],
      "text/plain": [
       "        category_id  total_click_by_cat       user_id   total_click  \\\n",
       "count  1.882302e+06        1.882302e+06  1.882302e+06  1.882302e+06   \n",
       "mean   3.016577e+02        1.587514e+00  1.205252e+05  2.289332e+01   \n",
       "std    1.191309e+02        1.921600e+00  8.726865e+04  3.391055e+01   \n",
       "min    1.000000e+00        1.000000e+00  0.000000e+00  2.000000e+00   \n",
       "25%    2.470000e+02        1.000000e+00  4.710600e+04  6.000000e+00   \n",
       "50%    3.270000e+02        1.000000e+00  1.037510e+05  1.300000e+01   \n",
       "75%    4.090000e+02        2.000000e+00  1.837410e+05  2.800000e+01   \n",
       "max    4.600000e+02        5.350000e+02  3.228960e+05  1.232000e+03   \n",
       "\n",
       "             rating  \n",
       "count  1.882302e+06  \n",
       "mean   1.715437e-01  \n",
       "std    1.844344e-01  \n",
       "min    8.116883e-04  \n",
       "25%    4.761905e-02  \n",
       "50%    1.000000e-01  \n",
       "75%    2.307692e-01  \n",
       "max    1.000000e+00  "
      ]
     },
     "execution_count": 42,
     "metadata": {},
     "output_type": "execute_result"
    }
   ],
   "source": [
    "dfs_agg.describe()"
   ]
  },
  {
   "cell_type": "markdown",
   "metadata": {},
   "source": [
    "Nous avons 322 897 d'utilisateurs. Ils ont fait en moyenne 22 clicks au total. 50% des utilisateurs ont fait plus de 13 clicks au total environs.<br>\n",
    "Le nombre de click total en moyenne par catégorie est de 1.6 sachant que nous disposons de 316 catégories."
   ]
  },
  {
   "cell_type": "markdown",
   "metadata": {},
   "source": [
    "Vérifions s'il existe des valeurs aberrantes grâce à des nuages de point"
   ]
  },
  {
   "cell_type": "code",
   "execution_count": 18,
   "metadata": {},
   "outputs": [
    {
     "data": {
      "image/png": "[encoded data removed]",
      "text/plain": [
       "<Figure size 360x216 with 1 Axes>"
      ]
     },
     "metadata": {},
     "output_type": "display_data"
    },
    {
     "data": {
      "image/png": "[encoded data removed]",
      "text/plain": [
       "<Figure size 360x216 with 1 Axes>"
      ]
     },
     "metadata": {},
     "output_type": "display_data"
    },
    {
     "data": {
      "image/png": "[encoded data removed]",
      "text/plain": [
       "<Figure size 360x216 with 1 Axes>"
      ]
     },
     "metadata": {},
     "output_type": "display_data"
    },
    {
     "data": {
      "image/png": "[encoded data removed]",
      "text/plain": [
       "<Figure size 360x216 with 1 Axes>"
      ]
     },
     "metadata": {},
     "output_type": "display_data"
    },
    {
     "data": {
      "image/png": "[encoded data removed]",
      "text/plain": [
       "<Figure size 360x216 with 1 Axes>"
      ]
     },
     "metadata": {},
     "output_type": "display_data"
    }
   ],
   "source": [
    "for col in dfs_agg.select_dtypes(include=['float64', 'int']).columns:\n",
    "    pk.graph_stripplot(dfs_agg,col, \"Nuage de point de la variable \"+col,(5,3),\"#32AEB8\")"
   ]
  },
  {
   "cell_type": "markdown",
   "metadata": {},
   "source": [
    "Nous observons quelques clicks important par rapport aux autres données,  mais cela reste raisonnable. <br>Traçons des boites à moustache pour avoir plus d'informations sur la dispersion des données au sein des variables"
   ]
  },
  {
   "cell_type": "code",
   "execution_count": 19,
   "metadata": {},
   "outputs": [
    {
     "data": {
      "image/png": "[encoded data removed]",
      "text/plain": [
       "<Figure size 1008x576 with 1 Axes>"
      ]
     },
     "metadata": {},
     "output_type": "display_data"
    },
    {
     "data": {
      "image/png": "[encoded data removed]",
      "text/plain": [
       "<Figure size 1008x576 with 1 Axes>"
      ]
     },
     "metadata": {},
     "output_type": "display_data"
    },
    {
     "data": {
      "image/png": "[encoded data removed]",
      "text/plain": [
       "<Figure size 1008x576 with 1 Axes>"
      ]
     },
     "metadata": {},
     "output_type": "display_data"
    },
    {
     "data": {
      "image/png": "[encoded data removed]",
      "text/plain": [
       "<Figure size 1008x576 with 1 Axes>"
      ]
     },
     "metadata": {},
     "output_type": "display_data"
    },
    {
     "data": {
      "image/png": "[encoded data removed]",
      "text/plain": [
       "<Figure size 1008x576 with 1 Axes>"
      ]
     },
     "metadata": {},
     "output_type": "display_data"
    }
   ],
   "source": [
    "for col in dfs_agg.select_dtypes(include=['float64', 'int']).columns:\n",
    "    pk.graph_boxplot(dfs_agg, col, \"Boite à moustache de la variable \"+col, \"#32AEB8\", (14,8))"
   ]
  },
  {
   "cell_type": "markdown",
   "metadata": {},
   "source": [
    "Les données sont peu dispersées au sein de nos variables les boites sont plutôt aplaties. Il existe quelques valeurs extrêmes. Mais nous décidons de les conserver car elles semblent possible."
   ]
  },
  {
   "cell_type": "code",
   "execution_count": null,
   "metadata": {},
   "outputs": [
    {
     "data": {
      "text/html": [
       "<div>\n",
       "<style scoped>\n",
       "    .dataframe tbody tr th:only-of-type {\n",
       "        vertical-align: middle;\n",
       "    }\n",
       "\n",
       "    .dataframe tbody tr th {\n",
       "        vertical-align: top;\n",
       "    }\n",
       "\n",
       "    .dataframe thead th {\n",
       "        text-align: right;\n",
       "    }\n",
       "</style>\n",
       "<table border=\"1\" class=\"dataframe\">\n",
       "  <thead>\n",
       "    <tr style=\"text-align: right;\">\n",
       "      <th></th>\n",
       "      <th>total_click</th>\n",
       "      <th>user_id</th>\n",
       "      <th>category_id</th>\n",
       "      <th>total_click_by_cat</th>\n",
       "      <th>rating</th>\n",
       "    </tr>\n",
       "  </thead>\n",
       "  <tbody>\n",
       "    <tr>\n",
       "      <th>count</th>\n",
       "      <td>322897.000000</td>\n",
       "      <td>322897.000000</td>\n",
       "      <td>322897.000000</td>\n",
       "      <td>322897.000000</td>\n",
       "      <td>322897.000000</td>\n",
       "    </tr>\n",
       "    <tr>\n",
       "      <th>mean</th>\n",
       "      <td>9.254285</td>\n",
       "      <td>14478.941093</td>\n",
       "      <td>298.650474</td>\n",
       "      <td>1.872575</td>\n",
       "      <td>0.483945</td>\n",
       "    </tr>\n",
       "    <tr>\n",
       "      <th>std</th>\n",
       "      <td>14.946358</td>\n",
       "      <td>8737.849175</td>\n",
       "      <td>119.283795</td>\n",
       "      <td>2.893215</td>\n",
       "      <td>1.030742</td>\n",
       "    </tr>\n",
       "    <tr>\n",
       "      <th>min</th>\n",
       "      <td>2.000000</td>\n",
       "      <td>0.000000</td>\n",
       "      <td>1.000000</td>\n",
       "      <td>1.000000</td>\n",
       "      <td>0.001111</td>\n",
       "    </tr>\n",
       "    <tr>\n",
       "      <th>25%</th>\n",
       "      <td>2.000000</td>\n",
       "      <td>6856.000000</td>\n",
       "      <td>231.000000</td>\n",
       "      <td>1.000000</td>\n",
       "      <td>0.125000</td>\n",
       "    </tr>\n",
       "    <tr>\n",
       "      <th>50%</th>\n",
       "      <td>4.000000</td>\n",
       "      <td>14229.000000</td>\n",
       "      <td>327.000000</td>\n",
       "      <td>1.000000</td>\n",
       "      <td>0.285714</td>\n",
       "    </tr>\n",
       "    <tr>\n",
       "      <th>75%</th>\n",
       "      <td>10.000000</td>\n",
       "      <td>22061.000000</td>\n",
       "      <td>409.000000</td>\n",
       "      <td>2.000000</td>\n",
       "      <td>0.500000</td>\n",
       "    </tr>\n",
       "    <tr>\n",
       "      <th>max</th>\n",
       "      <td>1232.000000</td>\n",
       "      <td>30279.000000</td>\n",
       "      <td>460.000000</td>\n",
       "      <td>535.000000</td>\n",
       "      <td>267.500000</td>\n",
       "    </tr>\n",
       "  </tbody>\n",
       "</table>\n",
       "</div>"
      ],
      "text/plain": [
       "         total_click        user_id    category_id  total_click_by_cat  \\\n",
       "count  322897.000000  322897.000000  322897.000000       322897.000000   \n",
       "mean        9.254285   14478.941093     298.650474            1.872575   \n",
       "std        14.946358    8737.849175     119.283795            2.893215   \n",
       "min         2.000000       0.000000       1.000000            1.000000   \n",
       "25%         2.000000    6856.000000     231.000000            1.000000   \n",
       "50%         4.000000   14229.000000     327.000000            1.000000   \n",
       "75%        10.000000   22061.000000     409.000000            2.000000   \n",
       "max      1232.000000   30279.000000     460.000000          535.000000   \n",
       "\n",
       "              rating  \n",
       "count  322897.000000  \n",
       "mean        0.483945  \n",
       "std         1.030742  \n",
       "min         0.001111  \n",
       "25%         0.125000  \n",
       "50%         0.285714  \n",
       "75%         0.500000  \n",
       "max       267.500000  "
      ]
     },
     "execution_count": 32,
     "metadata": {},
     "output_type": "execute_result"
    }
   ],
   "source": [
    "dfs_agg.describe()"
   ]
  },
  {
   "cell_type": "markdown",
   "metadata": {},
   "source": [
    "Regardons la distribution de la variable total_click"
   ]
  },
  {
   "cell_type": "code",
   "execution_count": 20,
   "metadata": {},
   "outputs": [
    {
     "data": {
      "image/png": "[encoded data removed]",
      "text/plain": [
       "<Figure size 792x504 with 1 Axes>"
      ]
     },
     "metadata": {},
     "output_type": "display_data"
    }
   ],
   "source": [
    "pk.graph_hist_interval_auto(dfs_agg['total_click'],\n",
    "                                \"Distribution des clients en fonction de la variable total_click\",\n",
    "                                \"#32AEB8\",\"total_click\", \"Fréquence\")"
   ]
  },
  {
   "cell_type": "markdown",
   "metadata": {},
   "source": [
    "La distribution est concentrée à gauche du graphique."
   ]
  },
  {
   "cell_type": "markdown",
   "metadata": {},
   "source": [
    "Etudions la distribution de la variable rating (le taux de clicks par catégorie des clients)"
   ]
  },
  {
   "cell_type": "code",
   "execution_count": 21,
   "metadata": {},
   "outputs": [
    {
     "data": {
      "image/png": "[encoded data removed]",
      "text/plain": [
       "<Figure size 792x504 with 1 Axes>"
      ]
     },
     "metadata": {},
     "output_type": "display_data"
    }
   ],
   "source": [
    "pk.graph_hist_interval_auto(dfs_agg['rating'],\n",
    "                                \"Distribution des clients en fonction de la variable rating\",\n",
    "                                \"#32AEB8\",\"rating\", \"Fréquence\")"
   ]
  },
  {
   "cell_type": "markdown",
   "metadata": {},
   "source": [
    "Nous observons que les clients regardent en général beaucoup de catégories différentes. En effet, plus de 80% des clients ont un taux de clicks entre 0 et 10%. "
   ]
  },
  {
   "cell_type": "markdown",
   "metadata": {},
   "source": [
    "Etudions les catégories les plus visitées par les utilisateurs."
   ]
  },
  {
   "cell_type": "code",
   "execution_count": null,
   "metadata": {},
   "outputs": [
    {
     "data": {
      "text/plain": [
       "281    0.079034\n",
       "375    0.065527\n",
       "412    0.052364\n",
       "437    0.048775\n",
       "399    0.036973\n",
       "250    0.035248\n",
       "331    0.032025\n",
       "209    0.029016\n",
       "418    0.026094\n",
       "323    0.024484\n",
       "421    0.023483\n",
       "118    0.022748\n",
       "26     0.019889\n",
       "409    0.019243\n",
       "431    0.018379\n",
       "136    0.018360\n",
       "428    0.018346\n",
       "442    0.017808\n",
       "327    0.017589\n",
       "301    0.016392\n",
       "Name: category_id, dtype: float64"
      ]
     },
     "execution_count": 37,
     "metadata": {},
     "output_type": "execute_result"
    }
   ],
   "source": [
    "dfs_agg[\"category_id\"].value_counts(normalize=True).head(20)"
   ]
  },
  {
   "cell_type": "markdown",
   "metadata": {},
   "source": [
    "Les visites des utilisateurs semblent assez dispersées dans les catégories."
   ]
  },
  {
   "cell_type": "markdown",
   "metadata": {},
   "source": [
    "Faisons un regroupement."
   ]
  },
  {
   "cell_type": "code",
   "execution_count": 43,
   "metadata": {},
   "outputs": [],
   "source": [
    "info_lib=(dfs_agg[\"category_id\"].value_counts(normalize=True)>=0.02)"
   ]
  },
  {
   "cell_type": "code",
   "execution_count": 44,
   "metadata": {},
   "outputs": [
    {
     "data": {
      "text/plain": [
       "False    0.962025\n",
       "True     0.037975\n",
       "Name: category_id, dtype: float64"
      ]
     },
     "execution_count": 44,
     "metadata": {},
     "output_type": "execute_result"
    }
   ],
   "source": [
    "info_lib.value_counts(normalize=True)"
   ]
  },
  {
   "cell_type": "code",
   "execution_count": 45,
   "metadata": {},
   "outputs": [],
   "source": [
    "info_lib=list(info_lib.loc[info_lib== True].index)"
   ]
  },
  {
   "cell_type": "code",
   "execution_count": 46,
   "metadata": {},
   "outputs": [],
   "source": [
    "def map_lib(lib):\n",
    "    if lib in info_lib:\n",
    "        return lib\n",
    "    else:\n",
    "        return \"99\""
   ]
  },
  {
   "cell_type": "code",
   "execution_count": 47,
   "metadata": {},
   "outputs": [],
   "source": [
    "dfs_agg[\"category_id_reg\"]=dfs_agg[\"category_id\"].map(map_lib, na_action=None)"
   ]
  },
  {
   "cell_type": "code",
   "execution_count": 48,
   "metadata": {},
   "outputs": [
    {
     "data": {
      "text/plain": [
       "99     0.524230\n",
       "281    0.079034\n",
       "375    0.065527\n",
       "412    0.052364\n",
       "437    0.048775\n",
       "399    0.036973\n",
       "250    0.035248\n",
       "331    0.032025\n",
       "209    0.029016\n",
       "418    0.026094\n",
       "323    0.024484\n",
       "421    0.023483\n",
       "118    0.022748\n",
       "Name: category_id_reg, dtype: float64"
      ]
     },
     "execution_count": 48,
     "metadata": {},
     "output_type": "execute_result"
    }
   ],
   "source": [
    "dfs_agg[\"category_id_reg\"].value_counts(normalize=True)"
   ]
  },
  {
   "cell_type": "code",
   "execution_count": 54,
   "metadata": {},
   "outputs": [
    {
     "data": {
      "image/png": "[encoded data removed]",
      "text/plain": [
       "<Figure size 1296x576 with 1 Axes>"
      ]
     },
     "metadata": {},
     "output_type": "display_data"
    }
   ],
   "source": [
    "pk.graph_circle(dfs_agg[\"category_id_reg\"], \"category_id_reg\", \"Répartition des user en fonction de leur category_id_reg\")"
   ]
  },
  {
   "cell_type": "markdown",
   "metadata": {},
   "source": [
    "Les catégorie les plus visitées sont 375 et 281. En effet, la catégorie 375 est visitée par 7% des clients et la catégorie 281 par 8% des clients."
   ]
  },
  {
   "cell_type": "code",
   "execution_count": 49,
   "metadata": {},
   "outputs": [
    {
     "data": {
      "text/plain": [
       "4788"
      ]
     },
     "execution_count": 49,
     "metadata": {},
     "output_type": "execute_result"
    }
   ],
   "source": [
    "import gc\n",
    "\n",
    "gc.collect()"
   ]
  },
  {
   "cell_type": "markdown",
   "metadata": {},
   "source": [
    "Maintenant que nous connaissons nos données, nous pouvons passer à la réalisation du système de recommandation."
   ]
  },
  {
   "cell_type": "markdown",
   "metadata": {},
   "source": [
    "## Système de recommandation"
   ]
  },
  {
   "cell_type": "markdown",
   "metadata": {},
   "source": [
    "Il existe plusieurs types de recommandation dont :\n",
    "- Content-based : le but est de suggérer des éléments similaires en fonction d'un élément particulier. Ce système utilise des métadonnées d'éléments, telles que le genre, l'auteur, la description etc. des livres, pour faire ces recommandations. L'idée générale derrière ces systèmes de recommandation est que si une personne aime un article particulier, elle aimera également un article qui lui est similaire. Et pour le recommander, il utilisera les métadonnées des éléments passés de l'utilisateur. \n",
    "- Collaborative filtered : ces systèmes sont largement utilisés et tentent de prédire la note ou la préférence qu'un utilisateur donnerait à un élément en fonction des notes et des préférences passées des autres utilisateurs. Les filtres collaboratifs ne nécessitent pas de métadonnées d'élément comme les systèmes basés sur le contenu.\n",
    "\n",
    "Ici nous allons tester ces deux types de recommandation."
   ]
  },
  {
   "cell_type": "markdown",
   "metadata": {},
   "source": [
    "### Content based system recommendation"
   ]
  },
  {
   "cell_type": "markdown",
   "metadata": {},
   "source": [
    "Nous allons utiliser ici l'embedding importé précédemment"
   ]
  },
  {
   "cell_type": "code",
   "execution_count": 43,
   "metadata": {},
   "outputs": [
    {
     "data": {
      "text/plain": [
       "(364047, 250)"
      ]
     },
     "execution_count": 43,
     "metadata": {},
     "output_type": "execute_result"
    }
   ],
   "source": [
    "art_embed.shape"
   ]
  },
  {
   "cell_type": "markdown",
   "metadata": {},
   "source": [
    "Nous allons uniquement conserver les articles qui ont été cliqués au moins une fois."
   ]
  },
  {
   "cell_type": "code",
   "execution_count": 46,
   "metadata": {},
   "outputs": [],
   "source": [
    "arts = dfs[\"click_article_id\"].value_counts().index"
   ]
  },
  {
   "cell_type": "code",
   "execution_count": 51,
   "metadata": {},
   "outputs": [
    {
     "data": {
      "text/plain": [
       "160974    37213\n",
       "272143    28943\n",
       "336221    23851\n",
       "234698    23499\n",
       "123909    23122\n",
       "          ...  \n",
       "3306          1\n",
       "166713        1\n",
       "214721        1\n",
       "350088        1\n",
       "98243         1\n",
       "Name: click_article_id, Length: 46033, dtype: int64"
      ]
     },
     "execution_count": 51,
     "metadata": {},
     "output_type": "execute_result"
    }
   ],
   "source": [
    "dfs[\"click_article_id\"].value_counts()"
   ]
  },
  {
   "cell_type": "code",
   "execution_count": 52,
   "metadata": {},
   "outputs": [
    {
     "data": {
      "text/plain": [
       "0         1\n",
       "242727    1\n",
       "242703    1\n",
       "242702    1\n",
       "242701    1\n",
       "         ..\n",
       "121347    1\n",
       "121346    1\n",
       "121345    1\n",
       "121344    1\n",
       "364046    1\n",
       "Name: click_article_id, Length: 364047, dtype: int64"
      ]
     },
     "execution_count": 52,
     "metadata": {},
     "output_type": "execute_result"
    }
   ],
   "source": [
    "articles[\"click_article_id\"].value_counts()"
   ]
  },
  {
   "cell_type": "code",
   "execution_count": 47,
   "metadata": {},
   "outputs": [
    {
     "data": {
      "text/plain": [
       "Int64Index([160974, 272143, 336221, 234698, 123909, 336223,  96210, 162655,\n",
       "            183176, 168623,\n",
       "            ...\n",
       "             15321, 296434, 296397, 350748, 106815,   3306, 166713, 214721,\n",
       "            350088,  98243],\n",
       "           dtype='int64', length=46033)"
      ]
     },
     "execution_count": 47,
     "metadata": {},
     "output_type": "execute_result"
    }
   ],
   "source": [
    "arts"
   ]
  },
  {
   "cell_type": "code",
   "execution_count": 44,
   "metadata": {},
   "outputs": [
    {
     "data": {
      "text/plain": [
       "468"
      ]
     },
     "execution_count": 44,
     "metadata": {},
     "output_type": "execute_result"
    }
   ],
   "source": [
    "import gc\n",
    "\n",
    "gc.collect()"
   ]
  },
  {
   "cell_type": "code",
   "execution_count": 55,
   "metadata": {},
   "outputs": [
    {
     "data": {
      "text/plain": [
       "1"
      ]
     },
     "execution_count": 55,
     "metadata": {},
     "output_type": "execute_result"
    }
   ],
   "source": [
    "articles[\"publisher_id\"].nunique()"
   ]
  },
  {
   "cell_type": "code",
   "execution_count": 56,
   "metadata": {},
   "outputs": [],
   "source": [
    "del articles[\"publisher_id\"]"
   ]
  },
  {
   "cell_type": "code",
   "execution_count": 57,
   "metadata": {},
   "outputs": [
    {
     "data": {
      "text/plain": [
       "(364047, 250)"
      ]
     },
     "execution_count": 57,
     "metadata": {},
     "output_type": "execute_result"
    }
   ],
   "source": [
    "art_embed.shape"
   ]
  },
  {
   "cell_type": "code",
   "execution_count": 48,
   "metadata": {},
   "outputs": [
    {
     "data": {
      "text/plain": [
       "Int64Index([160974, 272143, 336221, 234698, 123909, 336223,  96210, 162655,\n",
       "            183176, 168623,\n",
       "            ...\n",
       "             15321, 296434, 296397, 350748, 106815,   3306, 166713, 214721,\n",
       "            350088,  98243],\n",
       "           dtype='int64', length=46033)"
      ]
     },
     "execution_count": 48,
     "metadata": {},
     "output_type": "execute_result"
    }
   ],
   "source": [
    "arts"
   ]
  },
  {
   "cell_type": "code",
   "execution_count": 59,
   "metadata": {},
   "outputs": [
    {
     "data": {
      "text/plain": [
       "(46033, 250)"
      ]
     },
     "execution_count": 59,
     "metadata": {},
     "output_type": "execute_result"
    }
   ],
   "source": [
    "art_embed = art_embed[arts]\n",
    "art_embed.shape"
   ]
  },
  {
   "cell_type": "markdown",
   "metadata": {},
   "source": [
    "Pour réduire notre embedding, nous pouvons réaliser une ACP. En effet, sur Azure, il nous sera impossible d'importer gratuitement le fichier de base."
   ]
  },
  {
   "cell_type": "markdown",
   "metadata": {},
   "source": [
    "Essayons de visualiser nos données grâce à une analyse en composante principale. Ceci nous permettra de voir combien de dimensions il nous faudrait pour expliquer nos données. "
   ]
  },
  {
   "cell_type": "code",
   "execution_count": 60,
   "metadata": {},
   "outputs": [],
   "source": [
    "Z=pk_multi.amulti_acp_standard(art_embed)"
   ]
  },
  {
   "cell_type": "code",
   "execution_count": 61,
   "metadata": {},
   "outputs": [
    {
     "name": "stdout",
     "output_type": "stream",
     "text": [
      "250\n",
      "[2.40739479e+01 1.78660774e+01 1.62346420e+01 1.33008299e+01\n",
      " 1.07090616e+01 1.04431839e+01 8.69035149e+00 8.07654667e+00\n",
      " 7.93012333e+00 6.87234879e+00 6.64398527e+00 6.41533279e+00\n",
      " 5.87584305e+00 5.82609797e+00 5.18944168e+00 5.12258625e+00\n",
      " 4.82030106e+00 4.36716795e+00 4.20207214e+00 4.00714922e+00\n",
      " 3.85181713e+00 3.56260180e+00 3.46776319e+00 3.29411602e+00\n",
      " 3.05131054e+00 2.96187019e+00 2.83383489e+00 2.61336112e+00\n",
      " 2.46915364e+00 2.34730935e+00 2.30101132e+00 2.04780412e+00\n",
      " 2.03015685e+00 1.88269591e+00 1.83394945e+00 1.73276639e+00\n",
      " 1.66845810e+00 1.64226341e+00 1.55971181e+00 1.44403243e+00\n",
      " 1.35433328e+00 1.31429684e+00 1.22606397e+00 1.10551155e+00\n",
      " 1.08171523e+00 1.06757557e+00 9.94001567e-01 9.42357779e-01\n",
      " 8.59958053e-01 8.31448615e-01 7.63228416e-01 7.08506942e-01\n",
      " 6.54280603e-01 5.96485913e-01 5.90217650e-01 5.46654046e-01\n",
      " 5.25260746e-01 4.72392857e-01 4.41375226e-01 4.07439679e-01\n",
      " 3.52047831e-01 3.47139299e-01 3.13106179e-01 2.92558104e-01\n",
      " 2.74097979e-01 2.54586339e-01 2.37929761e-01 2.30342567e-01\n",
      " 2.06043258e-01 1.86181709e-01 1.72771662e-01 1.64125994e-01\n",
      " 1.54031947e-01 1.32507741e-01 1.27602175e-01 1.26046360e-01\n",
      " 1.09817445e-01 1.01857312e-01 1.01227403e-01 9.66866985e-02\n",
      " 9.07032266e-02 8.63720700e-02 8.47870708e-02 7.95971751e-02\n",
      " 7.26438239e-02 7.05703050e-02 6.69166222e-02 6.54833689e-02\n",
      " 6.12578765e-02 5.92740737e-02 5.81178516e-02 5.52863739e-02\n",
      " 5.27364388e-02 5.03142402e-02 4.84239720e-02 4.76936288e-02\n",
      " 4.71476205e-02 4.58492450e-02 4.51839268e-02 4.49661352e-02\n",
      " 4.32680920e-02 4.19891551e-02 4.15019393e-02 3.82618308e-02\n",
      " 3.79873738e-02 3.69725153e-02 3.67589183e-02 3.62932160e-02\n",
      " 3.54430228e-02 3.47226709e-02 3.44705097e-02 3.35710980e-02\n",
      " 3.29649150e-02 3.27998362e-02 3.21460404e-02 3.19598690e-02\n",
      " 3.10303923e-02 3.07502653e-02 3.05559207e-02 3.02380212e-02\n",
      " 3.00603099e-02 2.96540167e-02 2.89995223e-02 2.86931247e-02\n",
      " 2.84109823e-02 2.79876925e-02 2.78204661e-02 2.74010282e-02\n",
      " 2.70214435e-02 2.68470999e-02 2.67711058e-02 2.63548400e-02\n",
      " 2.60427408e-02 2.58588828e-02 2.57088300e-02 2.56552752e-02\n",
      " 2.52640918e-02 2.48608124e-02 2.45831106e-02 2.43780427e-02\n",
      " 2.42615305e-02 2.40211897e-02 2.38782726e-02 2.37297248e-02\n",
      " 2.34003868e-02 2.33445019e-02 2.31202655e-02 2.30171774e-02\n",
      " 2.27885712e-02 2.25516967e-02 2.24536955e-02 2.22637858e-02\n",
      " 2.21964829e-02 2.20067278e-02 2.18697060e-02 2.18039770e-02\n",
      " 2.16659158e-02 2.13837083e-02 2.11698934e-02 2.11425964e-02\n",
      " 2.10744478e-02 2.09306479e-02 2.05845926e-02 2.05113403e-02\n",
      " 2.03229673e-02 2.02043410e-02 2.01987345e-02 2.00516563e-02\n",
      " 1.97988972e-02 1.97644550e-02 1.97074283e-02 1.94466226e-02\n",
      " 1.93254836e-02 1.93078239e-02 1.91220772e-02 1.90670881e-02\n",
      " 1.89569835e-02 1.88077353e-02 1.87074225e-02 1.86251514e-02\n",
      " 1.84793063e-02 1.83462650e-02 1.81374084e-02 1.80687346e-02\n",
      " 1.80080645e-02 1.79402102e-02 1.78875774e-02 1.77883357e-02\n",
      " 1.75991710e-02 1.74531639e-02 1.73996780e-02 1.72398835e-02\n",
      " 1.71247404e-02 1.70281548e-02 1.69927478e-02 1.68583784e-02\n",
      " 1.66931078e-02 1.66260432e-02 1.64875574e-02 1.64734945e-02\n",
      " 1.63681433e-02 1.61643289e-02 1.60853323e-02 1.60290878e-02\n",
      " 1.59312636e-02 1.58631671e-02 1.57350097e-02 1.56717673e-02\n",
      " 1.56341232e-02 1.55041553e-02 1.53709166e-02 1.53440684e-02\n",
      " 1.52902771e-02 1.52383670e-02 1.52240302e-02 1.51155144e-02\n",
      " 1.50303263e-02 1.48994941e-02 1.47548737e-02 1.46399504e-02\n",
      " 1.45846242e-02 1.45280631e-02 1.44674825e-02 1.43652540e-02\n",
      " 1.42470021e-02 1.40776411e-02 1.39954984e-02 1.38790710e-02\n",
      " 1.37566114e-02 1.36325667e-02 1.36002069e-02 1.34813655e-02\n",
      " 1.33389384e-02 1.32769262e-02 1.30991135e-02 1.29544120e-02\n",
      " 1.28477784e-02 1.27653293e-02 1.23860678e-02 9.49247926e-03\n",
      " 7.90641457e-03 6.64656656e-03 4.69882041e-03 2.60020979e-03\n",
      " 2.50065234e-03 1.63656613e-03 1.24979380e-03 8.49203148e-04\n",
      " 6.76852011e-04 5.09148987e-04]\n",
      "[9.62937027e-02 7.14627579e-02 6.49371594e-02 5.32021672e-02\n",
      " 4.28353176e-02 4.17718291e-02 3.47606540e-02 3.23054865e-02\n",
      " 3.17198075e-02 2.74887998e-02 2.65753660e-02 2.56607756e-02\n",
      " 2.35028621e-02 2.33038869e-02 2.07573175e-02 2.04899013e-02\n",
      " 1.92807857e-02 1.74682941e-02 1.68079250e-02 1.60282496e-02\n",
      " 1.54069345e-02 1.42500987e-02 1.38707524e-02 1.31761786e-02\n",
      " 1.22049777e-02 1.18472241e-02 1.13350935e-02 1.04532177e-02\n",
      " 9.87640023e-03 9.38903354e-03 9.20384564e-03 8.19103885e-03\n",
      " 8.12045112e-03 7.53062032e-03 7.33563863e-03 6.93091517e-03\n",
      " 6.67368760e-03 6.56891149e-03 6.23871200e-03 5.77600440e-03\n",
      " 5.41721564e-03 5.25707332e-03 4.90414957e-03 4.42195032e-03\n",
      " 4.32676729e-03 4.27020993e-03 3.97591991e-03 3.76934954e-03\n",
      " 3.43975774e-03 3.32572241e-03 3.05284746e-03 2.83396640e-03\n",
      " 2.61706579e-03 2.38589197e-03 2.36081937e-03 2.18656892e-03\n",
      " 2.10099737e-03 1.88953045e-03 1.76546269e-03 1.62972335e-03\n",
      " 1.40816078e-03 1.38852710e-03 1.25239755e-03 1.17020705e-03\n",
      " 1.09636819e-03 1.01832324e-03 9.51698399e-04 9.21350322e-04\n",
      " 8.24155170e-04 7.44710676e-04 6.91071677e-04 6.56489749e-04\n",
      " 6.16114412e-04 5.30019461e-04 5.10397658e-04 5.04174503e-04\n",
      " 4.39260271e-04 4.07420419e-04 4.04900842e-04 3.86738422e-04\n",
      " 3.62805033e-04 3.45480803e-04 3.39140941e-04 3.18381790e-04\n",
      " 2.90569005e-04 2.82275112e-04 2.67660682e-04 2.61927809e-04\n",
      " 2.45026196e-04 2.37091153e-04 2.32466366e-04 2.21140697e-04\n",
      " 2.10941187e-04 2.01252595e-04 1.93691696e-04 1.90770385e-04\n",
      " 1.88586389e-04 1.83393000e-04 1.80731789e-04 1.79860639e-04\n",
      " 1.73068620e-04 1.67952981e-04 1.66004160e-04 1.53044006e-04\n",
      " 1.51946209e-04 1.47886851e-04 1.47032493e-04 1.45169717e-04\n",
      " 1.41769022e-04 1.38887670e-04 1.37879048e-04 1.34281479e-04\n",
      " 1.31856810e-04 1.31196502e-04 1.28581378e-04 1.27836713e-04\n",
      " 1.24118873e-04 1.22998390e-04 1.22221041e-04 1.20949466e-04\n",
      " 1.20238634e-04 1.18613498e-04 1.15995579e-04 1.14770010e-04\n",
      " 1.13641465e-04 1.11948342e-04 1.11279456e-04 1.09601737e-04\n",
      " 1.08083434e-04 1.07386069e-04 1.07082102e-04 1.05417079e-04\n",
      " 1.04168706e-04 1.03433289e-04 1.02833095e-04 1.02618877e-04\n",
      " 1.01054175e-04 9.94410948e-05 9.83303107e-05 9.75100556e-05\n",
      " 9.70440160e-05 9.60826801e-05 9.55110227e-05 9.49168461e-05\n",
      " 9.35995195e-05 9.33759875e-05 9.24790584e-05 9.20667153e-05\n",
      " 9.11523093e-05 9.02048341e-05 8.98128346e-05 8.90532101e-05\n",
      " 8.87840069e-05 8.80250009e-05 8.74769321e-05 8.72140154e-05\n",
      " 8.66617847e-05 8.55329781e-05 8.46777402e-05 8.45685499e-05\n",
      " 8.42959635e-05 8.37207772e-05 8.23365845e-05 8.20435816e-05\n",
      " 8.12901053e-05 8.08156110e-05 8.07931865e-05 8.02048889e-05\n",
      " 7.91938728e-05 7.90561098e-05 7.88280086e-05 7.77848036e-05\n",
      " 7.73002612e-05 7.72296189e-05 7.64866490e-05 7.62666969e-05\n",
      " 7.58262904e-05 7.52293126e-05 7.48280654e-05 7.44989884e-05\n",
      " 7.39156239e-05 7.33834677e-05 7.25480641e-05 7.22733748e-05\n",
      " 7.20306998e-05 7.17592848e-05 7.15487622e-05 7.11518005e-05\n",
      " 7.03951591e-05 6.98111398e-05 6.95972049e-05 6.89580411e-05\n",
      " 6.84974802e-05 6.81111414e-05 6.79695149e-05 6.74320545e-05\n",
      " 6.67709828e-05 6.65027328e-05 6.59487996e-05 6.58925492e-05\n",
      " 6.54711548e-05 6.46559129e-05 6.43399326e-05 6.41149600e-05\n",
      " 6.37236735e-05 6.34512908e-05 6.29386777e-05 6.26857145e-05\n",
      " 6.25351386e-05 6.20152787e-05 6.14823366e-05 6.13749435e-05\n",
      " 6.11597861e-05 6.09521485e-05 6.08948030e-05 6.04607485e-05\n",
      " 6.01200009e-05 5.95966849e-05 5.90182171e-05 5.85585331e-05\n",
      " 5.83372312e-05 5.81109925e-05 5.78686777e-05 5.74597725e-05\n",
      " 5.69867734e-05 5.63093454e-05 5.59807813e-05 5.55150800e-05\n",
      " 5.50252516e-05 5.45290859e-05 5.43996503e-05 5.39242938e-05\n",
      " 5.33545972e-05 5.31065525e-05 5.23953204e-05 5.18165252e-05\n",
      " 5.13900013e-05 5.10602113e-05 4.95431959e-05 3.79690937e-05\n",
      " 3.16249716e-05 2.65856906e-05 1.87948735e-05 1.04006140e-05\n",
      " 1.00023926e-05 6.54612268e-06 4.99906673e-06 3.39673898e-06\n",
      " 2.70734949e-06 2.03655190e-06]\n",
      "    Dimension  Valeurs propres  % variance expliquée  % cum. var. expliquée\n",
      "0        Dim1        24.073425                  10.0                   10.0\n",
      "1        Dim2        17.865690                   7.0                   17.0\n",
      "2        Dim3        16.234289                   6.0                   23.0\n",
      "3        Dim4        13.300541                   5.0                   29.0\n",
      "4        Dim5        10.708829                   4.0                   33.0\n",
      "..        ...              ...                   ...                    ...\n",
      "245    Dim246         0.001637                   0.0                  100.0\n",
      "246    Dim247         0.001250                   0.0                  100.0\n",
      "247    Dim248         0.000849                   0.0                  100.0\n",
      "248    Dim249         0.000677                   0.0                  100.0\n",
      "249    Dim250         0.000509                   0.0                  100.0\n",
      "\n",
      "[250 rows x 4 columns]\n"
     ]
    },
    {
     "data": {
      "image/png": "[encoded data removed]",
      "text/plain": [
       "<Figure size 432x288 with 1 Axes>"
      ]
     },
     "metadata": {
      "needs_background": "light"
     },
     "output_type": "display_data"
    },
    {
     "data": {
      "image/png": "[encoded data removed]",
      "text/plain": [
       "<Figure size 432x288 with 1 Axes>"
      ]
     },
     "metadata": {
      "needs_background": "light"
     },
     "output_type": "display_data"
    }
   ],
   "source": [
    "pk_multi.amulti_acp_choice_dim(art_embed, Z)"
   ]
  },
  {
   "cell_type": "markdown",
   "metadata": {},
   "source": [
    "Il faudrait selon la méthode du coude, conserver 50 dimensions. Cependant, le fichier sera encore trop lourd pour Azure. Nous conservons donc 80% de la variance expliquée"
   ]
  },
  {
   "cell_type": "code",
   "execution_count": 62,
   "metadata": {},
   "outputs": [],
   "source": [
    "import matplotlib.pyplot as plt\n",
    "from sklearn.decomposition import PCA\n",
    "\n",
    "def amultiacp_visualizer_without_sticker(Z, dim):\n",
    "    \"\"\"\n",
    "    Trace les graphiques pour visualiser les dimensions soit en 3d soit du premier plan factoriel\n",
    "    \n",
    "    Args:\n",
    "        data_acp ([type]): données\n",
    "        Z ([type]): données transformées\n",
    "        dim([type]): nombre de dimensions retenues\n",
    "        data_study([type]): toutes les données (qui contient les étiquettes)    \n",
    "    \"\"\"   \n",
    "    pca = PCA(n_components=dim)\n",
    "    #calculs\n",
    "    WGI_pca = pca.fit_transform(Z)\n",
    "    # Transformation en DataFrame pandas\n",
    "    WGI_pca_df = pd.DataFrame({\n",
    "        \"Dim1\" : WGI_pca[:,0], \n",
    "        \"Dim2\" : WGI_pca[:,1],\n",
    "        \"Dim3\" : WGI_pca[:,2]\n",
    "    })\n",
    "\n",
    "    # Résultat (premières lignes)\n",
    "    #WGI_pca_df.head()\n",
    "    WGI_pca_df.plot.scatter(\"Dim1\", \"Dim2\") # nuage de points\n",
    "    plt.xlabel(\"Dimension 1 \") # modification du nom de l'axe X\n",
    "    plt.ylabel(\"Dimension 2 \") # idem pour axe Y\n",
    "    plt.suptitle(\"Premier plan factoriel\") # titre général\n",
    "    plt.show()\n",
    "    \n",
    "    ax = plt.figure(figsize=(16,10))\n",
    "    ax = plt.axes(projection='3d')\n",
    "    ax.scatter(\n",
    "        xs=WGI_pca_df[\"Dim1\"], \n",
    "        ys=WGI_pca_df[\"Dim2\"], \n",
    "        zs=WGI_pca_df[\"Dim3\"]\n",
    "    )\n",
    "    ax.set_xlabel('Dim 1 ')\n",
    "    ax.set_ylabel('Dim 2')\n",
    "    ax.set_zlabel('Dim 3')\n",
    "    plt.show()\n",
    "    return WGI_pca"
   ]
  },
  {
   "cell_type": "code",
   "execution_count": 63,
   "metadata": {},
   "outputs": [
    {
     "name": "stderr",
     "output_type": "stream",
     "text": [
      "*c* argument looks like a single numeric RGB or RGBA sequence, which should be avoided as value-mapping will have precedence in case its length matches with *x* & *y*.  Please use the *color* keyword-argument or provide a 2D array with a single row if you intend to specify the same RGB or RGBA value for all points.\n"
     ]
    },
    {
     "data": {
      "image/png": "[encoded data removed]",
      "text/plain": [
       "<Figure size 432x288 with 1 Axes>"
      ]
     },
     "metadata": {
      "needs_background": "light"
     },
     "output_type": "display_data"
    },
    {
     "data": {
      "image/png": "[encoded data removed]",
      "text/plain": [
       "<Figure size 1152x720 with 1 Axes>"
      ]
     },
     "metadata": {
      "needs_background": "light"
     },
     "output_type": "display_data"
    }
   ],
   "source": [
    "df_reduced = amultiacp_visualizer_without_sticker(Z, 0.80)"
   ]
  },
  {
   "cell_type": "code",
   "execution_count": 64,
   "metadata": {},
   "outputs": [
    {
     "data": {
      "text/plain": [
       "(46033, 28)"
      ]
     },
     "execution_count": 64,
     "metadata": {},
     "output_type": "execute_result"
    }
   ],
   "source": [
    "df_reduced.shape"
   ]
  },
  {
   "cell_type": "code",
   "execution_count": 65,
   "metadata": {},
   "outputs": [
    {
     "data": {
      "text/plain": [
       "array([[ 4.4098177 , -6.6391215 ,  0.9264275 , ...,  0.09995237,\n",
       "         1.1843977 , -0.944156  ],\n",
       "       [ 0.36574778, -1.0395323 , -5.7289834 , ..., -3.1537986 ,\n",
       "        -0.30937946, -0.4867472 ],\n",
       "       [ 1.9663274 , -0.41570544,  1.0472239 , ...,  2.9465492 ,\n",
       "        -0.86912507, -0.1443288 ],\n",
       "       ...,\n",
       "       [ 3.5872054 , -4.1287723 ,  5.1783967 , ..., -0.15219103,\n",
       "         1.8937479 , -1.25646   ],\n",
       "       [-6.28472   , -2.794149  ,  1.3202729 , ..., -1.4334401 ,\n",
       "         2.691557  ,  0.3305952 ],\n",
       "       [18.77465   , 22.010057  ,  0.1623888 , ..., -0.44788945,\n",
       "        -0.3230339 , -1.3871859 ]], dtype=float32)"
      ]
     },
     "execution_count": 65,
     "metadata": {},
     "output_type": "execute_result"
    }
   ],
   "source": [
    "df_reduced"
   ]
  },
  {
   "cell_type": "markdown",
   "metadata": {},
   "source": [
    "Maintenant que nous avons notre réduction de données, nous pouvons faire les jointures avec les articles."
   ]
  },
  {
   "cell_type": "code",
   "execution_count": 66,
   "metadata": {},
   "outputs": [],
   "source": [
    "df_reduced_2 = pd.DataFrame(df_reduced)"
   ]
  },
  {
   "cell_type": "code",
   "execution_count": 67,
   "metadata": {},
   "outputs": [],
   "source": [
    "df_reduced_2 = df_reduced_2.reset_index()"
   ]
  },
  {
   "cell_type": "code",
   "execution_count": 68,
   "metadata": {},
   "outputs": [
    {
     "data": {
      "text/plain": [
       "(364047, 4)"
      ]
     },
     "execution_count": 68,
     "metadata": {},
     "output_type": "execute_result"
    }
   ],
   "source": [
    "articles.shape"
   ]
  },
  {
   "cell_type": "code",
   "execution_count": 69,
   "metadata": {},
   "outputs": [
    {
     "data": {
      "text/plain": [
       "(46033,)"
      ]
     },
     "execution_count": 69,
     "metadata": {},
     "output_type": "execute_result"
    }
   ],
   "source": [
    "arts.shape"
   ]
  },
  {
   "cell_type": "code",
   "execution_count": 70,
   "metadata": {},
   "outputs": [],
   "source": [
    "df_arts = pd.DataFrame(arts)"
   ]
  },
  {
   "cell_type": "code",
   "execution_count": 71,
   "metadata": {},
   "outputs": [
    {
     "data": {
      "text/html": [
       "<div>\n",
       "<style scoped>\n",
       "    .dataframe tbody tr th:only-of-type {\n",
       "        vertical-align: middle;\n",
       "    }\n",
       "\n",
       "    .dataframe tbody tr th {\n",
       "        vertical-align: top;\n",
       "    }\n",
       "\n",
       "    .dataframe thead th {\n",
       "        text-align: right;\n",
       "    }\n",
       "</style>\n",
       "<table border=\"1\" class=\"dataframe\">\n",
       "  <thead>\n",
       "    <tr style=\"text-align: right;\">\n",
       "      <th></th>\n",
       "      <th>0</th>\n",
       "    </tr>\n",
       "  </thead>\n",
       "  <tbody>\n",
       "    <tr>\n",
       "      <th>0</th>\n",
       "      <td>160974</td>\n",
       "    </tr>\n",
       "    <tr>\n",
       "      <th>1</th>\n",
       "      <td>272143</td>\n",
       "    </tr>\n",
       "    <tr>\n",
       "      <th>2</th>\n",
       "      <td>336221</td>\n",
       "    </tr>\n",
       "    <tr>\n",
       "      <th>3</th>\n",
       "      <td>234698</td>\n",
       "    </tr>\n",
       "    <tr>\n",
       "      <th>4</th>\n",
       "      <td>123909</td>\n",
       "    </tr>\n",
       "    <tr>\n",
       "      <th>...</th>\n",
       "      <td>...</td>\n",
       "    </tr>\n",
       "    <tr>\n",
       "      <th>46028</th>\n",
       "      <td>3306</td>\n",
       "    </tr>\n",
       "    <tr>\n",
       "      <th>46029</th>\n",
       "      <td>166713</td>\n",
       "    </tr>\n",
       "    <tr>\n",
       "      <th>46030</th>\n",
       "      <td>214721</td>\n",
       "    </tr>\n",
       "    <tr>\n",
       "      <th>46031</th>\n",
       "      <td>350088</td>\n",
       "    </tr>\n",
       "    <tr>\n",
       "      <th>46032</th>\n",
       "      <td>98243</td>\n",
       "    </tr>\n",
       "  </tbody>\n",
       "</table>\n",
       "<p>46033 rows × 1 columns</p>\n",
       "</div>"
      ],
      "text/plain": [
       "            0\n",
       "0      160974\n",
       "1      272143\n",
       "2      336221\n",
       "3      234698\n",
       "4      123909\n",
       "...       ...\n",
       "46028    3306\n",
       "46029  166713\n",
       "46030  214721\n",
       "46031  350088\n",
       "46032   98243\n",
       "\n",
       "[46033 rows x 1 columns]"
      ]
     },
     "execution_count": 71,
     "metadata": {},
     "output_type": "execute_result"
    }
   ],
   "source": [
    "df_arts"
   ]
  },
  {
   "cell_type": "code",
   "execution_count": 72,
   "metadata": {},
   "outputs": [],
   "source": [
    "df_arts = df_arts.reset_index()"
   ]
  },
  {
   "cell_type": "code",
   "execution_count": 73,
   "metadata": {},
   "outputs": [],
   "source": [
    "df_arts.columns= ['index', 'article_id']"
   ]
  },
  {
   "cell_type": "code",
   "execution_count": 74,
   "metadata": {},
   "outputs": [],
   "source": [
    "df_arts_embedd_acp = df_arts.join(df_reduced_2, how='left', on='index', lsuffix=\"_1\")\n"
   ]
  },
  {
   "cell_type": "code",
   "execution_count": 75,
   "metadata": {},
   "outputs": [],
   "source": [
    "del df_arts_embedd_acp[\"index_1\"]"
   ]
  },
  {
   "cell_type": "code",
   "execution_count": 76,
   "metadata": {},
   "outputs": [],
   "source": [
    "del df_arts_embedd_acp[\"index\"]"
   ]
  },
  {
   "cell_type": "code",
   "execution_count": 77,
   "metadata": {},
   "outputs": [
    {
     "data": {
      "text/plain": [
       "46685"
      ]
     },
     "execution_count": 77,
     "metadata": {},
     "output_type": "execute_result"
    }
   ],
   "source": [
    "gc.collect()"
   ]
  },
  {
   "cell_type": "code",
   "execution_count": 78,
   "metadata": {},
   "outputs": [
    {
     "data": {
      "text/html": [
       "<div>\n",
       "<style scoped>\n",
       "    .dataframe tbody tr th:only-of-type {\n",
       "        vertical-align: middle;\n",
       "    }\n",
       "\n",
       "    .dataframe tbody tr th {\n",
       "        vertical-align: top;\n",
       "    }\n",
       "\n",
       "    .dataframe thead th {\n",
       "        text-align: right;\n",
       "    }\n",
       "</style>\n",
       "<table border=\"1\" class=\"dataframe\">\n",
       "  <thead>\n",
       "    <tr style=\"text-align: right;\">\n",
       "      <th></th>\n",
       "      <th>article_id</th>\n",
       "      <th>0</th>\n",
       "      <th>1</th>\n",
       "      <th>2</th>\n",
       "      <th>3</th>\n",
       "      <th>4</th>\n",
       "      <th>5</th>\n",
       "      <th>6</th>\n",
       "      <th>7</th>\n",
       "      <th>8</th>\n",
       "      <th>...</th>\n",
       "      <th>18</th>\n",
       "      <th>19</th>\n",
       "      <th>20</th>\n",
       "      <th>21</th>\n",
       "      <th>22</th>\n",
       "      <th>23</th>\n",
       "      <th>24</th>\n",
       "      <th>25</th>\n",
       "      <th>26</th>\n",
       "      <th>27</th>\n",
       "    </tr>\n",
       "  </thead>\n",
       "  <tbody>\n",
       "    <tr>\n",
       "      <th>0</th>\n",
       "      <td>160974</td>\n",
       "      <td>4.409818</td>\n",
       "      <td>-6.639122</td>\n",
       "      <td>0.926427</td>\n",
       "      <td>2.431026</td>\n",
       "      <td>0.762038</td>\n",
       "      <td>1.969448</td>\n",
       "      <td>-5.136955</td>\n",
       "      <td>-6.181464</td>\n",
       "      <td>0.567569</td>\n",
       "      <td>...</td>\n",
       "      <td>-1.453939</td>\n",
       "      <td>0.118815</td>\n",
       "      <td>0.335479</td>\n",
       "      <td>-0.070646</td>\n",
       "      <td>1.174920</td>\n",
       "      <td>-0.108625</td>\n",
       "      <td>-1.098951</td>\n",
       "      <td>0.099952</td>\n",
       "      <td>1.184398</td>\n",
       "      <td>-0.944156</td>\n",
       "    </tr>\n",
       "    <tr>\n",
       "      <th>1</th>\n",
       "      <td>272143</td>\n",
       "      <td>0.365748</td>\n",
       "      <td>-1.039532</td>\n",
       "      <td>-5.728983</td>\n",
       "      <td>1.457015</td>\n",
       "      <td>1.994284</td>\n",
       "      <td>-2.534556</td>\n",
       "      <td>1.640267</td>\n",
       "      <td>-0.554919</td>\n",
       "      <td>0.891390</td>\n",
       "      <td>...</td>\n",
       "      <td>-1.248821</td>\n",
       "      <td>5.384028</td>\n",
       "      <td>1.423406</td>\n",
       "      <td>2.994571</td>\n",
       "      <td>-0.059741</td>\n",
       "      <td>0.665796</td>\n",
       "      <td>0.391135</td>\n",
       "      <td>-3.153799</td>\n",
       "      <td>-0.309379</td>\n",
       "      <td>-0.486747</td>\n",
       "    </tr>\n",
       "  </tbody>\n",
       "</table>\n",
       "<p>2 rows × 29 columns</p>\n",
       "</div>"
      ],
      "text/plain": [
       "   article_id         0         1         2         3         4         5  \\\n",
       "0      160974  4.409818 -6.639122  0.926427  2.431026  0.762038  1.969448   \n",
       "1      272143  0.365748 -1.039532 -5.728983  1.457015  1.994284 -2.534556   \n",
       "\n",
       "          6         7         8  ...        18        19        20        21  \\\n",
       "0 -5.136955 -6.181464  0.567569  ... -1.453939  0.118815  0.335479 -0.070646   \n",
       "1  1.640267 -0.554919  0.891390  ... -1.248821  5.384028  1.423406  2.994571   \n",
       "\n",
       "         22        23        24        25        26        27  \n",
       "0  1.174920 -0.108625 -1.098951  0.099952  1.184398 -0.944156  \n",
       "1 -0.059741  0.665796  0.391135 -3.153799 -0.309379 -0.486747  \n",
       "\n",
       "[2 rows x 29 columns]"
      ]
     },
     "execution_count": 78,
     "metadata": {},
     "output_type": "execute_result"
    }
   ],
   "source": [
    "df_arts_embedd_acp.head(2)"
   ]
  },
  {
   "cell_type": "markdown",
   "metadata": {},
   "source": [
    "Sauvegardons nos données en csv pour l'import sous Azure."
   ]
  },
  {
   "cell_type": "code",
   "execution_count": 80,
   "metadata": {},
   "outputs": [],
   "source": [
    "#df_arts_embedd_acp.to_csv(\"Output\\\\data\\\\df_arts_embedd_acp_v2.csv\")"
   ]
  },
  {
   "cell_type": "code",
   "execution_count": 5,
   "metadata": {},
   "outputs": [],
   "source": [
    "import pandas as pd\n",
    "import numpy as np"
   ]
  },
  {
   "cell_type": "code",
   "execution_count": 6,
   "metadata": {},
   "outputs": [],
   "source": [
    "df_arts_embedd_acp = pd.read_csv(\"Output\\\\data\\\\df_arts_embedd_acp_v2.csv\", dtype=np.float32)"
   ]
  },
  {
   "cell_type": "code",
   "execution_count": 8,
   "metadata": {},
   "outputs": [
    {
     "data": {
      "text/html": [
       "<div>\n",
       "<style scoped>\n",
       "    .dataframe tbody tr th:only-of-type {\n",
       "        vertical-align: middle;\n",
       "    }\n",
       "\n",
       "    .dataframe tbody tr th {\n",
       "        vertical-align: top;\n",
       "    }\n",
       "\n",
       "    .dataframe thead th {\n",
       "        text-align: right;\n",
       "    }\n",
       "</style>\n",
       "<table border=\"1\" class=\"dataframe\">\n",
       "  <thead>\n",
       "    <tr style=\"text-align: right;\">\n",
       "      <th></th>\n",
       "      <th>Unnamed: 0</th>\n",
       "      <th>article_id</th>\n",
       "      <th>0</th>\n",
       "      <th>1</th>\n",
       "      <th>2</th>\n",
       "      <th>3</th>\n",
       "      <th>4</th>\n",
       "      <th>5</th>\n",
       "      <th>6</th>\n",
       "      <th>7</th>\n",
       "      <th>...</th>\n",
       "      <th>18</th>\n",
       "      <th>19</th>\n",
       "      <th>20</th>\n",
       "      <th>21</th>\n",
       "      <th>22</th>\n",
       "      <th>23</th>\n",
       "      <th>24</th>\n",
       "      <th>25</th>\n",
       "      <th>26</th>\n",
       "      <th>27</th>\n",
       "    </tr>\n",
       "  </thead>\n",
       "  <tbody>\n",
       "    <tr>\n",
       "      <th>0</th>\n",
       "      <td>0.0</td>\n",
       "      <td>160974.0</td>\n",
       "      <td>4.409818</td>\n",
       "      <td>-6.639121</td>\n",
       "      <td>0.926427</td>\n",
       "      <td>2.431026</td>\n",
       "      <td>0.762038</td>\n",
       "      <td>1.969448</td>\n",
       "      <td>-5.136955</td>\n",
       "      <td>-6.181464</td>\n",
       "      <td>...</td>\n",
       "      <td>-1.453939</td>\n",
       "      <td>0.118815</td>\n",
       "      <td>0.335479</td>\n",
       "      <td>-0.070646</td>\n",
       "      <td>1.174920</td>\n",
       "      <td>-0.108625</td>\n",
       "      <td>-1.098951</td>\n",
       "      <td>0.099952</td>\n",
       "      <td>1.184398</td>\n",
       "      <td>-0.944156</td>\n",
       "    </tr>\n",
       "    <tr>\n",
       "      <th>1</th>\n",
       "      <td>1.0</td>\n",
       "      <td>272143.0</td>\n",
       "      <td>0.365748</td>\n",
       "      <td>-1.039532</td>\n",
       "      <td>-5.728983</td>\n",
       "      <td>1.457015</td>\n",
       "      <td>1.994284</td>\n",
       "      <td>-2.534556</td>\n",
       "      <td>1.640267</td>\n",
       "      <td>-0.554919</td>\n",
       "      <td>...</td>\n",
       "      <td>-1.248821</td>\n",
       "      <td>5.384028</td>\n",
       "      <td>1.423406</td>\n",
       "      <td>2.994571</td>\n",
       "      <td>-0.059741</td>\n",
       "      <td>0.665796</td>\n",
       "      <td>0.391135</td>\n",
       "      <td>-3.153799</td>\n",
       "      <td>-0.309379</td>\n",
       "      <td>-0.486747</td>\n",
       "    </tr>\n",
       "  </tbody>\n",
       "</table>\n",
       "<p>2 rows × 30 columns</p>\n",
       "</div>"
      ],
      "text/plain": [
       "   Unnamed: 0  article_id         0         1         2         3         4  \\\n",
       "0         0.0    160974.0  4.409818 -6.639121  0.926427  2.431026  0.762038   \n",
       "1         1.0    272143.0  0.365748 -1.039532 -5.728983  1.457015  1.994284   \n",
       "\n",
       "          5         6         7  ...        18        19        20        21  \\\n",
       "0  1.969448 -5.136955 -6.181464  ... -1.453939  0.118815  0.335479 -0.070646   \n",
       "1 -2.534556  1.640267 -0.554919  ... -1.248821  5.384028  1.423406  2.994571   \n",
       "\n",
       "         22        23        24        25        26        27  \n",
       "0  1.174920 -0.108625 -1.098951  0.099952  1.184398 -0.944156  \n",
       "1 -0.059741  0.665796  0.391135 -3.153799 -0.309379 -0.486747  \n",
       "\n",
       "[2 rows x 30 columns]"
      ]
     },
     "execution_count": 8,
     "metadata": {},
     "output_type": "execute_result"
    }
   ],
   "source": [
    "df_arts_embedd_acp.head(2)"
   ]
  },
  {
   "cell_type": "code",
   "execution_count": 9,
   "metadata": {},
   "outputs": [],
   "source": [
    "del df_arts_embedd_acp[\"Unnamed: 0\"]"
   ]
  },
  {
   "cell_type": "code",
   "execution_count": 10,
   "metadata": {},
   "outputs": [],
   "source": [
    "arts_embedd_acp = df_arts_embedd_acp[[ '0', '1', '2', '3', '4', '5', '6', '7', '8', '9', '10',\n",
    "       '11', '12', '13', '14', '15', '16', '17', '18', '19', '20', '21', '22',\n",
    "       '23', '24', '25', '26', '27']].to_numpy(dtype = np.float32)"
   ]
  },
  {
   "cell_type": "markdown",
   "metadata": {},
   "source": [
    "Nous créons une fonction pour récupérer un utilisateur"
   ]
  },
  {
   "cell_type": "code",
   "execution_count": null,
   "metadata": {},
   "outputs": [
    {
     "data": {
      "text/html": [
       "<div>\n",
       "<style scoped>\n",
       "    .dataframe tbody tr th:only-of-type {\n",
       "        vertical-align: middle;\n",
       "    }\n",
       "\n",
       "    .dataframe tbody tr th {\n",
       "        vertical-align: top;\n",
       "    }\n",
       "\n",
       "    .dataframe thead th {\n",
       "        text-align: right;\n",
       "    }\n",
       "</style>\n",
       "<table border=\"1\" class=\"dataframe\">\n",
       "  <thead>\n",
       "    <tr style=\"text-align: right;\">\n",
       "      <th></th>\n",
       "      <th>user_id</th>\n",
       "      <th>session_id</th>\n",
       "      <th>session_start</th>\n",
       "      <th>session_size</th>\n",
       "      <th>click_timestamp</th>\n",
       "      <th>click_environment</th>\n",
       "      <th>click_deviceGroup</th>\n",
       "      <th>click_os</th>\n",
       "      <th>click_country</th>\n",
       "      <th>click_region</th>\n",
       "      <th>click_referrer_type</th>\n",
       "      <th>file</th>\n",
       "      <th>click_article_id</th>\n",
       "      <th>category_id</th>\n",
       "      <th>created_at_ts</th>\n",
       "      <th>publisher_id</th>\n",
       "      <th>words_count</th>\n",
       "    </tr>\n",
       "  </thead>\n",
       "  <tbody>\n",
       "    <tr>\n",
       "      <th>0</th>\n",
       "      <td>0</td>\n",
       "      <td>1506825423271737</td>\n",
       "      <td>1506825423000</td>\n",
       "      <td>2</td>\n",
       "      <td>1506826828020</td>\n",
       "      <td>4</td>\n",
       "      <td>3</td>\n",
       "      <td>20</td>\n",
       "      <td>1</td>\n",
       "      <td>20</td>\n",
       "      <td>2</td>\n",
       "      <td>Input\\clicks\\clicks\\clicks_hour_000.csv</td>\n",
       "      <td>157541</td>\n",
       "      <td>281</td>\n",
       "      <td>1506800518000</td>\n",
       "      <td>0</td>\n",
       "      <td>280</td>\n",
       "    </tr>\n",
       "    <tr>\n",
       "      <th>1</th>\n",
       "      <td>0</td>\n",
       "      <td>1506825423271737</td>\n",
       "      <td>1506825423000</td>\n",
       "      <td>2</td>\n",
       "      <td>1506826858020</td>\n",
       "      <td>4</td>\n",
       "      <td>3</td>\n",
       "      <td>20</td>\n",
       "      <td>1</td>\n",
       "      <td>20</td>\n",
       "      <td>2</td>\n",
       "      <td>Input\\clicks\\clicks\\clicks_hour_000.csv</td>\n",
       "      <td>68866</td>\n",
       "      <td>136</td>\n",
       "      <td>1506816482000</td>\n",
       "      <td>0</td>\n",
       "      <td>226</td>\n",
       "    </tr>\n",
       "    <tr>\n",
       "      <th>2</th>\n",
       "      <td>1</td>\n",
       "      <td>1506825426267738</td>\n",
       "      <td>1506825426000</td>\n",
       "      <td>2</td>\n",
       "      <td>1506827017951</td>\n",
       "      <td>4</td>\n",
       "      <td>1</td>\n",
       "      <td>17</td>\n",
       "      <td>1</td>\n",
       "      <td>16</td>\n",
       "      <td>2</td>\n",
       "      <td>Input\\clicks\\clicks\\clicks_hour_000.csv</td>\n",
       "      <td>235840</td>\n",
       "      <td>375</td>\n",
       "      <td>1506807839000</td>\n",
       "      <td>0</td>\n",
       "      <td>159</td>\n",
       "    </tr>\n",
       "    <tr>\n",
       "      <th>3</th>\n",
       "      <td>1</td>\n",
       "      <td>1506825426267738</td>\n",
       "      <td>1506825426000</td>\n",
       "      <td>2</td>\n",
       "      <td>1506827047951</td>\n",
       "      <td>4</td>\n",
       "      <td>1</td>\n",
       "      <td>17</td>\n",
       "      <td>1</td>\n",
       "      <td>16</td>\n",
       "      <td>2</td>\n",
       "      <td>Input\\clicks\\clicks\\clicks_hour_000.csv</td>\n",
       "      <td>96663</td>\n",
       "      <td>209</td>\n",
       "      <td>1506788025000</td>\n",
       "      <td>0</td>\n",
       "      <td>206</td>\n",
       "    </tr>\n",
       "    <tr>\n",
       "      <th>4</th>\n",
       "      <td>2</td>\n",
       "      <td>1506825435299739</td>\n",
       "      <td>1506825435000</td>\n",
       "      <td>2</td>\n",
       "      <td>1506827090575</td>\n",
       "      <td>4</td>\n",
       "      <td>1</td>\n",
       "      <td>17</td>\n",
       "      <td>1</td>\n",
       "      <td>24</td>\n",
       "      <td>2</td>\n",
       "      <td>Input\\clicks\\clicks\\clicks_hour_000.csv</td>\n",
       "      <td>119592</td>\n",
       "      <td>247</td>\n",
       "      <td>1506784316000</td>\n",
       "      <td>0</td>\n",
       "      <td>239</td>\n",
       "    </tr>\n",
       "    <tr>\n",
       "      <th>...</th>\n",
       "      <td>...</td>\n",
       "      <td>...</td>\n",
       "      <td>...</td>\n",
       "      <td>...</td>\n",
       "      <td>...</td>\n",
       "      <td>...</td>\n",
       "      <td>...</td>\n",
       "      <td>...</td>\n",
       "      <td>...</td>\n",
       "      <td>...</td>\n",
       "      <td>...</td>\n",
       "      <td>...</td>\n",
       "      <td>...</td>\n",
       "      <td>...</td>\n",
       "      <td>...</td>\n",
       "      <td>...</td>\n",
       "      <td>...</td>\n",
       "    </tr>\n",
       "    <tr>\n",
       "      <th>2988176</th>\n",
       "      <td>10051</td>\n",
       "      <td>1508211372158328</td>\n",
       "      <td>1508211372000</td>\n",
       "      <td>2</td>\n",
       "      <td>1508211557302</td>\n",
       "      <td>4</td>\n",
       "      <td>3</td>\n",
       "      <td>2</td>\n",
       "      <td>1</td>\n",
       "      <td>25</td>\n",
       "      <td>1</td>\n",
       "      <td>Input\\clicks\\clicks\\clicks_hour_384.csv</td>\n",
       "      <td>84911</td>\n",
       "      <td>174</td>\n",
       "      <td>1508187619000</td>\n",
       "      <td>0</td>\n",
       "      <td>171</td>\n",
       "    </tr>\n",
       "    <tr>\n",
       "      <th>2988177</th>\n",
       "      <td>322896</td>\n",
       "      <td>1508211376302329</td>\n",
       "      <td>1508211376000</td>\n",
       "      <td>2</td>\n",
       "      <td>1508211672520</td>\n",
       "      <td>4</td>\n",
       "      <td>1</td>\n",
       "      <td>17</td>\n",
       "      <td>1</td>\n",
       "      <td>25</td>\n",
       "      <td>2</td>\n",
       "      <td>Input\\clicks\\clicks\\clicks_hour_384.csv</td>\n",
       "      <td>30760</td>\n",
       "      <td>26</td>\n",
       "      <td>1508185091000</td>\n",
       "      <td>0</td>\n",
       "      <td>162</td>\n",
       "    </tr>\n",
       "    <tr>\n",
       "      <th>2988178</th>\n",
       "      <td>322896</td>\n",
       "      <td>1508211376302329</td>\n",
       "      <td>1508211376000</td>\n",
       "      <td>2</td>\n",
       "      <td>1508211702520</td>\n",
       "      <td>4</td>\n",
       "      <td>1</td>\n",
       "      <td>17</td>\n",
       "      <td>1</td>\n",
       "      <td>25</td>\n",
       "      <td>2</td>\n",
       "      <td>Input\\clicks\\clicks\\clicks_hour_384.csv</td>\n",
       "      <td>157507</td>\n",
       "      <td>281</td>\n",
       "      <td>1508236945000</td>\n",
       "      <td>0</td>\n",
       "      <td>370</td>\n",
       "    </tr>\n",
       "    <tr>\n",
       "      <th>2988179</th>\n",
       "      <td>123718</td>\n",
       "      <td>1508211379189330</td>\n",
       "      <td>1508211379000</td>\n",
       "      <td>2</td>\n",
       "      <td>1508211513583</td>\n",
       "      <td>4</td>\n",
       "      <td>3</td>\n",
       "      <td>2</td>\n",
       "      <td>1</td>\n",
       "      <td>25</td>\n",
       "      <td>2</td>\n",
       "      <td>Input\\clicks\\clicks\\clicks_hour_384.csv</td>\n",
       "      <td>234481</td>\n",
       "      <td>375</td>\n",
       "      <td>1508181572000</td>\n",
       "      <td>0</td>\n",
       "      <td>212</td>\n",
       "    </tr>\n",
       "    <tr>\n",
       "      <th>2988180</th>\n",
       "      <td>123718</td>\n",
       "      <td>1508211379189330</td>\n",
       "      <td>1508211379000</td>\n",
       "      <td>2</td>\n",
       "      <td>1508211543583</td>\n",
       "      <td>4</td>\n",
       "      <td>3</td>\n",
       "      <td>2</td>\n",
       "      <td>1</td>\n",
       "      <td>25</td>\n",
       "      <td>2</td>\n",
       "      <td>Input\\clicks\\clicks\\clicks_hour_384.csv</td>\n",
       "      <td>233578</td>\n",
       "      <td>375</td>\n",
       "      <td>1508176010000</td>\n",
       "      <td>0</td>\n",
       "      <td>174</td>\n",
       "    </tr>\n",
       "  </tbody>\n",
       "</table>\n",
       "<p>2988181 rows × 17 columns</p>\n",
       "</div>"
      ],
      "text/plain": [
       "        user_id        session_id  session_start session_size click_timestamp  \\\n",
       "0             0  1506825423271737  1506825423000            2   1506826828020   \n",
       "1             0  1506825423271737  1506825423000            2   1506826858020   \n",
       "2             1  1506825426267738  1506825426000            2   1506827017951   \n",
       "3             1  1506825426267738  1506825426000            2   1506827047951   \n",
       "4             2  1506825435299739  1506825435000            2   1506827090575   \n",
       "...         ...               ...            ...          ...             ...   \n",
       "2988176   10051  1508211372158328  1508211372000            2   1508211557302   \n",
       "2988177  322896  1508211376302329  1508211376000            2   1508211672520   \n",
       "2988178  322896  1508211376302329  1508211376000            2   1508211702520   \n",
       "2988179  123718  1508211379189330  1508211379000            2   1508211513583   \n",
       "2988180  123718  1508211379189330  1508211379000            2   1508211543583   \n",
       "\n",
       "        click_environment click_deviceGroup click_os click_country  \\\n",
       "0                       4                 3       20             1   \n",
       "1                       4                 3       20             1   \n",
       "2                       4                 1       17             1   \n",
       "3                       4                 1       17             1   \n",
       "4                       4                 1       17             1   \n",
       "...                   ...               ...      ...           ...   \n",
       "2988176                 4                 3        2             1   \n",
       "2988177                 4                 1       17             1   \n",
       "2988178                 4                 1       17             1   \n",
       "2988179                 4                 3        2             1   \n",
       "2988180                 4                 3        2             1   \n",
       "\n",
       "        click_region click_referrer_type  \\\n",
       "0                 20                   2   \n",
       "1                 20                   2   \n",
       "2                 16                   2   \n",
       "3                 16                   2   \n",
       "4                 24                   2   \n",
       "...              ...                 ...   \n",
       "2988176           25                   1   \n",
       "2988177           25                   2   \n",
       "2988178           25                   2   \n",
       "2988179           25                   2   \n",
       "2988180           25                   2   \n",
       "\n",
       "                                            file click_article_id  \\\n",
       "0        Input\\clicks\\clicks\\clicks_hour_000.csv           157541   \n",
       "1        Input\\clicks\\clicks\\clicks_hour_000.csv            68866   \n",
       "2        Input\\clicks\\clicks\\clicks_hour_000.csv           235840   \n",
       "3        Input\\clicks\\clicks\\clicks_hour_000.csv            96663   \n",
       "4        Input\\clicks\\clicks\\clicks_hour_000.csv           119592   \n",
       "...                                          ...              ...   \n",
       "2988176  Input\\clicks\\clicks\\clicks_hour_384.csv            84911   \n",
       "2988177  Input\\clicks\\clicks\\clicks_hour_384.csv            30760   \n",
       "2988178  Input\\clicks\\clicks\\clicks_hour_384.csv           157507   \n",
       "2988179  Input\\clicks\\clicks\\clicks_hour_384.csv           234481   \n",
       "2988180  Input\\clicks\\clicks\\clicks_hour_384.csv           233578   \n",
       "\n",
       "         category_id  created_at_ts  publisher_id  words_count  \n",
       "0                281  1506800518000             0          280  \n",
       "1                136  1506816482000             0          226  \n",
       "2                375  1506807839000             0          159  \n",
       "3                209  1506788025000             0          206  \n",
       "4                247  1506784316000             0          239  \n",
       "...              ...            ...           ...          ...  \n",
       "2988176          174  1508187619000             0          171  \n",
       "2988177           26  1508185091000             0          162  \n",
       "2988178          281  1508236945000             0          370  \n",
       "2988179          375  1508181572000             0          212  \n",
       "2988180          375  1508176010000             0          174  \n",
       "\n",
       "[2988181 rows x 17 columns]"
      ]
     },
     "execution_count": 93,
     "metadata": {},
     "output_type": "execute_result"
    }
   ],
   "source": [
    "dfs"
   ]
  },
  {
   "cell_type": "code",
   "execution_count": 94,
   "metadata": {},
   "outputs": [],
   "source": [
    "#dfs.to_csv(\"Output\\\\data\\\\dfs.csv\")"
   ]
  },
  {
   "cell_type": "code",
   "execution_count": 167,
   "metadata": {},
   "outputs": [],
   "source": [
    "import pandas as pd\n",
    "\n",
    "dfs = pd.read_csv(\"Output\\\\data\\\\dfs.csv\")"
   ]
  },
  {
   "cell_type": "code",
   "execution_count": 168,
   "metadata": {},
   "outputs": [
    {
     "data": {
      "text/html": [
       "<div>\n",
       "<style scoped>\n",
       "    .dataframe tbody tr th:only-of-type {\n",
       "        vertical-align: middle;\n",
       "    }\n",
       "\n",
       "    .dataframe tbody tr th {\n",
       "        vertical-align: top;\n",
       "    }\n",
       "\n",
       "    .dataframe thead th {\n",
       "        text-align: right;\n",
       "    }\n",
       "</style>\n",
       "<table border=\"1\" class=\"dataframe\">\n",
       "  <thead>\n",
       "    <tr style=\"text-align: right;\">\n",
       "      <th></th>\n",
       "      <th>Unnamed: 0</th>\n",
       "      <th>user_id</th>\n",
       "      <th>session_id</th>\n",
       "      <th>session_start</th>\n",
       "      <th>session_size</th>\n",
       "      <th>click_timestamp</th>\n",
       "      <th>click_environment</th>\n",
       "      <th>click_deviceGroup</th>\n",
       "      <th>click_os</th>\n",
       "      <th>click_country</th>\n",
       "      <th>click_region</th>\n",
       "      <th>click_referrer_type</th>\n",
       "      <th>file</th>\n",
       "      <th>click_article_id</th>\n",
       "      <th>category_id</th>\n",
       "      <th>created_at_ts</th>\n",
       "      <th>publisher_id</th>\n",
       "      <th>words_count</th>\n",
       "    </tr>\n",
       "  </thead>\n",
       "  <tbody>\n",
       "    <tr>\n",
       "      <th>0</th>\n",
       "      <td>0</td>\n",
       "      <td>0</td>\n",
       "      <td>1506825423271737</td>\n",
       "      <td>1506825423000</td>\n",
       "      <td>2</td>\n",
       "      <td>1506826828020</td>\n",
       "      <td>4</td>\n",
       "      <td>3</td>\n",
       "      <td>20</td>\n",
       "      <td>1</td>\n",
       "      <td>20</td>\n",
       "      <td>2</td>\n",
       "      <td>Input\\clicks\\clicks\\clicks_hour_000.csv</td>\n",
       "      <td>157541</td>\n",
       "      <td>281</td>\n",
       "      <td>1506800518000</td>\n",
       "      <td>0</td>\n",
       "      <td>280</td>\n",
       "    </tr>\n",
       "    <tr>\n",
       "      <th>1</th>\n",
       "      <td>1</td>\n",
       "      <td>0</td>\n",
       "      <td>1506825423271737</td>\n",
       "      <td>1506825423000</td>\n",
       "      <td>2</td>\n",
       "      <td>1506826858020</td>\n",
       "      <td>4</td>\n",
       "      <td>3</td>\n",
       "      <td>20</td>\n",
       "      <td>1</td>\n",
       "      <td>20</td>\n",
       "      <td>2</td>\n",
       "      <td>Input\\clicks\\clicks\\clicks_hour_000.csv</td>\n",
       "      <td>68866</td>\n",
       "      <td>136</td>\n",
       "      <td>1506816482000</td>\n",
       "      <td>0</td>\n",
       "      <td>226</td>\n",
       "    </tr>\n",
       "    <tr>\n",
       "      <th>2</th>\n",
       "      <td>2</td>\n",
       "      <td>1</td>\n",
       "      <td>1506825426267738</td>\n",
       "      <td>1506825426000</td>\n",
       "      <td>2</td>\n",
       "      <td>1506827017951</td>\n",
       "      <td>4</td>\n",
       "      <td>1</td>\n",
       "      <td>17</td>\n",
       "      <td>1</td>\n",
       "      <td>16</td>\n",
       "      <td>2</td>\n",
       "      <td>Input\\clicks\\clicks\\clicks_hour_000.csv</td>\n",
       "      <td>235840</td>\n",
       "      <td>375</td>\n",
       "      <td>1506807839000</td>\n",
       "      <td>0</td>\n",
       "      <td>159</td>\n",
       "    </tr>\n",
       "    <tr>\n",
       "      <th>3</th>\n",
       "      <td>3</td>\n",
       "      <td>1</td>\n",
       "      <td>1506825426267738</td>\n",
       "      <td>1506825426000</td>\n",
       "      <td>2</td>\n",
       "      <td>1506827047951</td>\n",
       "      <td>4</td>\n",
       "      <td>1</td>\n",
       "      <td>17</td>\n",
       "      <td>1</td>\n",
       "      <td>16</td>\n",
       "      <td>2</td>\n",
       "      <td>Input\\clicks\\clicks\\clicks_hour_000.csv</td>\n",
       "      <td>96663</td>\n",
       "      <td>209</td>\n",
       "      <td>1506788025000</td>\n",
       "      <td>0</td>\n",
       "      <td>206</td>\n",
       "    </tr>\n",
       "    <tr>\n",
       "      <th>4</th>\n",
       "      <td>4</td>\n",
       "      <td>2</td>\n",
       "      <td>1506825435299739</td>\n",
       "      <td>1506825435000</td>\n",
       "      <td>2</td>\n",
       "      <td>1506827090575</td>\n",
       "      <td>4</td>\n",
       "      <td>1</td>\n",
       "      <td>17</td>\n",
       "      <td>1</td>\n",
       "      <td>24</td>\n",
       "      <td>2</td>\n",
       "      <td>Input\\clicks\\clicks\\clicks_hour_000.csv</td>\n",
       "      <td>119592</td>\n",
       "      <td>247</td>\n",
       "      <td>1506784316000</td>\n",
       "      <td>0</td>\n",
       "      <td>239</td>\n",
       "    </tr>\n",
       "    <tr>\n",
       "      <th>...</th>\n",
       "      <td>...</td>\n",
       "      <td>...</td>\n",
       "      <td>...</td>\n",
       "      <td>...</td>\n",
       "      <td>...</td>\n",
       "      <td>...</td>\n",
       "      <td>...</td>\n",
       "      <td>...</td>\n",
       "      <td>...</td>\n",
       "      <td>...</td>\n",
       "      <td>...</td>\n",
       "      <td>...</td>\n",
       "      <td>...</td>\n",
       "      <td>...</td>\n",
       "      <td>...</td>\n",
       "      <td>...</td>\n",
       "      <td>...</td>\n",
       "      <td>...</td>\n",
       "    </tr>\n",
       "    <tr>\n",
       "      <th>2988176</th>\n",
       "      <td>2988176</td>\n",
       "      <td>10051</td>\n",
       "      <td>1508211372158328</td>\n",
       "      <td>1508211372000</td>\n",
       "      <td>2</td>\n",
       "      <td>1508211557302</td>\n",
       "      <td>4</td>\n",
       "      <td>3</td>\n",
       "      <td>2</td>\n",
       "      <td>1</td>\n",
       "      <td>25</td>\n",
       "      <td>1</td>\n",
       "      <td>Input\\clicks\\clicks\\clicks_hour_384.csv</td>\n",
       "      <td>84911</td>\n",
       "      <td>174</td>\n",
       "      <td>1508187619000</td>\n",
       "      <td>0</td>\n",
       "      <td>171</td>\n",
       "    </tr>\n",
       "    <tr>\n",
       "      <th>2988177</th>\n",
       "      <td>2988177</td>\n",
       "      <td>322896</td>\n",
       "      <td>1508211376302329</td>\n",
       "      <td>1508211376000</td>\n",
       "      <td>2</td>\n",
       "      <td>1508211672520</td>\n",
       "      <td>4</td>\n",
       "      <td>1</td>\n",
       "      <td>17</td>\n",
       "      <td>1</td>\n",
       "      <td>25</td>\n",
       "      <td>2</td>\n",
       "      <td>Input\\clicks\\clicks\\clicks_hour_384.csv</td>\n",
       "      <td>30760</td>\n",
       "      <td>26</td>\n",
       "      <td>1508185091000</td>\n",
       "      <td>0</td>\n",
       "      <td>162</td>\n",
       "    </tr>\n",
       "    <tr>\n",
       "      <th>2988178</th>\n",
       "      <td>2988178</td>\n",
       "      <td>322896</td>\n",
       "      <td>1508211376302329</td>\n",
       "      <td>1508211376000</td>\n",
       "      <td>2</td>\n",
       "      <td>1508211702520</td>\n",
       "      <td>4</td>\n",
       "      <td>1</td>\n",
       "      <td>17</td>\n",
       "      <td>1</td>\n",
       "      <td>25</td>\n",
       "      <td>2</td>\n",
       "      <td>Input\\clicks\\clicks\\clicks_hour_384.csv</td>\n",
       "      <td>157507</td>\n",
       "      <td>281</td>\n",
       "      <td>1508236945000</td>\n",
       "      <td>0</td>\n",
       "      <td>370</td>\n",
       "    </tr>\n",
       "    <tr>\n",
       "      <th>2988179</th>\n",
       "      <td>2988179</td>\n",
       "      <td>123718</td>\n",
       "      <td>1508211379189330</td>\n",
       "      <td>1508211379000</td>\n",
       "      <td>2</td>\n",
       "      <td>1508211513583</td>\n",
       "      <td>4</td>\n",
       "      <td>3</td>\n",
       "      <td>2</td>\n",
       "      <td>1</td>\n",
       "      <td>25</td>\n",
       "      <td>2</td>\n",
       "      <td>Input\\clicks\\clicks\\clicks_hour_384.csv</td>\n",
       "      <td>234481</td>\n",
       "      <td>375</td>\n",
       "      <td>1508181572000</td>\n",
       "      <td>0</td>\n",
       "      <td>212</td>\n",
       "    </tr>\n",
       "    <tr>\n",
       "      <th>2988180</th>\n",
       "      <td>2988180</td>\n",
       "      <td>123718</td>\n",
       "      <td>1508211379189330</td>\n",
       "      <td>1508211379000</td>\n",
       "      <td>2</td>\n",
       "      <td>1508211543583</td>\n",
       "      <td>4</td>\n",
       "      <td>3</td>\n",
       "      <td>2</td>\n",
       "      <td>1</td>\n",
       "      <td>25</td>\n",
       "      <td>2</td>\n",
       "      <td>Input\\clicks\\clicks\\clicks_hour_384.csv</td>\n",
       "      <td>233578</td>\n",
       "      <td>375</td>\n",
       "      <td>1508176010000</td>\n",
       "      <td>0</td>\n",
       "      <td>174</td>\n",
       "    </tr>\n",
       "  </tbody>\n",
       "</table>\n",
       "<p>2988181 rows × 18 columns</p>\n",
       "</div>"
      ],
      "text/plain": [
       "         Unnamed: 0  user_id        session_id  session_start  session_size  \\\n",
       "0                 0        0  1506825423271737  1506825423000             2   \n",
       "1                 1        0  1506825423271737  1506825423000             2   \n",
       "2                 2        1  1506825426267738  1506825426000             2   \n",
       "3                 3        1  1506825426267738  1506825426000             2   \n",
       "4                 4        2  1506825435299739  1506825435000             2   \n",
       "...             ...      ...               ...            ...           ...   \n",
       "2988176     2988176    10051  1508211372158328  1508211372000             2   \n",
       "2988177     2988177   322896  1508211376302329  1508211376000             2   \n",
       "2988178     2988178   322896  1508211376302329  1508211376000             2   \n",
       "2988179     2988179   123718  1508211379189330  1508211379000             2   \n",
       "2988180     2988180   123718  1508211379189330  1508211379000             2   \n",
       "\n",
       "         click_timestamp  click_environment  click_deviceGroup  click_os  \\\n",
       "0          1506826828020                  4                  3        20   \n",
       "1          1506826858020                  4                  3        20   \n",
       "2          1506827017951                  4                  1        17   \n",
       "3          1506827047951                  4                  1        17   \n",
       "4          1506827090575                  4                  1        17   \n",
       "...                  ...                ...                ...       ...   \n",
       "2988176    1508211557302                  4                  3         2   \n",
       "2988177    1508211672520                  4                  1        17   \n",
       "2988178    1508211702520                  4                  1        17   \n",
       "2988179    1508211513583                  4                  3         2   \n",
       "2988180    1508211543583                  4                  3         2   \n",
       "\n",
       "         click_country  click_region  click_referrer_type  \\\n",
       "0                    1            20                    2   \n",
       "1                    1            20                    2   \n",
       "2                    1            16                    2   \n",
       "3                    1            16                    2   \n",
       "4                    1            24                    2   \n",
       "...                ...           ...                  ...   \n",
       "2988176              1            25                    1   \n",
       "2988177              1            25                    2   \n",
       "2988178              1            25                    2   \n",
       "2988179              1            25                    2   \n",
       "2988180              1            25                    2   \n",
       "\n",
       "                                            file  click_article_id  \\\n",
       "0        Input\\clicks\\clicks\\clicks_hour_000.csv            157541   \n",
       "1        Input\\clicks\\clicks\\clicks_hour_000.csv             68866   \n",
       "2        Input\\clicks\\clicks\\clicks_hour_000.csv            235840   \n",
       "3        Input\\clicks\\clicks\\clicks_hour_000.csv             96663   \n",
       "4        Input\\clicks\\clicks\\clicks_hour_000.csv            119592   \n",
       "...                                          ...               ...   \n",
       "2988176  Input\\clicks\\clicks\\clicks_hour_384.csv             84911   \n",
       "2988177  Input\\clicks\\clicks\\clicks_hour_384.csv             30760   \n",
       "2988178  Input\\clicks\\clicks\\clicks_hour_384.csv            157507   \n",
       "2988179  Input\\clicks\\clicks\\clicks_hour_384.csv            234481   \n",
       "2988180  Input\\clicks\\clicks\\clicks_hour_384.csv            233578   \n",
       "\n",
       "         category_id  created_at_ts  publisher_id  words_count  \n",
       "0                281  1506800518000             0          280  \n",
       "1                136  1506816482000             0          226  \n",
       "2                375  1506807839000             0          159  \n",
       "3                209  1506788025000             0          206  \n",
       "4                247  1506784316000             0          239  \n",
       "...              ...            ...           ...          ...  \n",
       "2988176          174  1508187619000             0          171  \n",
       "2988177           26  1508185091000             0          162  \n",
       "2988178          281  1508236945000             0          370  \n",
       "2988179          375  1508181572000             0          212  \n",
       "2988180          375  1508176010000             0          174  \n",
       "\n",
       "[2988181 rows x 18 columns]"
      ]
     },
     "execution_count": 168,
     "metadata": {},
     "output_type": "execute_result"
    }
   ],
   "source": [
    "dfs"
   ]
  },
  {
   "cell_type": "code",
   "execution_count": 174,
   "metadata": {},
   "outputs": [],
   "source": [
    "dfs = dfs[[\"user_id\", \"click_article_id\"]]"
   ]
  },
  {
   "cell_type": "code",
   "execution_count": 178,
   "metadata": {},
   "outputs": [],
   "source": [
    "dfs.to_csv(\"Output\\\\data\\\\dfs_v2.csv\")"
   ]
  },
  {
   "cell_type": "code",
   "execution_count": 83,
   "metadata": {},
   "outputs": [
    {
     "data": {
      "text/plain": [
       "160974    37213\n",
       "272143    28943\n",
       "336221    23851\n",
       "234698    23499\n",
       "123909    23122\n",
       "          ...  \n",
       "3306          1\n",
       "166713        1\n",
       "214721        1\n",
       "350088        1\n",
       "98243         1\n",
       "Name: click_article_id, Length: 46033, dtype: int64"
      ]
     },
     "execution_count": 83,
     "metadata": {},
     "output_type": "execute_result"
    }
   ],
   "source": [
    "dfs[\"click_article_id\"].value_counts()"
   ]
  },
  {
   "cell_type": "code",
   "execution_count": 84,
   "metadata": {},
   "outputs": [],
   "source": [
    "arts = dfs[\"click_article_id\"].value_counts().index"
   ]
  },
  {
   "cell_type": "code",
   "execution_count": 85,
   "metadata": {},
   "outputs": [
    {
     "data": {
      "text/plain": [
       "Int64Index([160974, 272143, 336221, 234698, 123909, 336223,  96210, 162655,\n",
       "            183176, 168623,\n",
       "            ...\n",
       "             15321, 296434, 296397, 350748, 106815,   3306, 166713, 214721,\n",
       "            350088,  98243],\n",
       "           dtype='int64', length=46033)"
      ]
     },
     "execution_count": 85,
     "metadata": {},
     "output_type": "execute_result"
    }
   ],
   "source": [
    "arts"
   ]
  },
  {
   "cell_type": "code",
   "execution_count": 176,
   "metadata": {},
   "outputs": [],
   "source": [
    "dfs_user_art = dfs.groupby([\"user_id\", \"click_article_id\"])[\"click_article_id\"].count().reset_index(name=\"nb_click_by_arts\")"
   ]
  },
  {
   "cell_type": "code",
   "execution_count": 177,
   "metadata": {},
   "outputs": [
    {
     "data": {
      "text/html": [
       "<div>\n",
       "<style scoped>\n",
       "    .dataframe tbody tr th:only-of-type {\n",
       "        vertical-align: middle;\n",
       "    }\n",
       "\n",
       "    .dataframe tbody tr th {\n",
       "        vertical-align: top;\n",
       "    }\n",
       "\n",
       "    .dataframe thead th {\n",
       "        text-align: right;\n",
       "    }\n",
       "</style>\n",
       "<table border=\"1\" class=\"dataframe\">\n",
       "  <thead>\n",
       "    <tr style=\"text-align: right;\">\n",
       "      <th></th>\n",
       "      <th>user_id</th>\n",
       "      <th>click_article_id</th>\n",
       "      <th>nb_click_by_arts</th>\n",
       "    </tr>\n",
       "  </thead>\n",
       "  <tbody>\n",
       "    <tr>\n",
       "      <th>0</th>\n",
       "      <td>0</td>\n",
       "      <td>68866</td>\n",
       "      <td>1</td>\n",
       "    </tr>\n",
       "    <tr>\n",
       "      <th>1</th>\n",
       "      <td>0</td>\n",
       "      <td>87205</td>\n",
       "      <td>1</td>\n",
       "    </tr>\n",
       "    <tr>\n",
       "      <th>2</th>\n",
       "      <td>0</td>\n",
       "      <td>87224</td>\n",
       "      <td>1</td>\n",
       "    </tr>\n",
       "    <tr>\n",
       "      <th>3</th>\n",
       "      <td>0</td>\n",
       "      <td>96755</td>\n",
       "      <td>1</td>\n",
       "    </tr>\n",
       "    <tr>\n",
       "      <th>4</th>\n",
       "      <td>0</td>\n",
       "      <td>157541</td>\n",
       "      <td>1</td>\n",
       "    </tr>\n",
       "    <tr>\n",
       "      <th>5</th>\n",
       "      <td>0</td>\n",
       "      <td>160158</td>\n",
       "      <td>1</td>\n",
       "    </tr>\n",
       "    <tr>\n",
       "      <th>6</th>\n",
       "      <td>0</td>\n",
       "      <td>233470</td>\n",
       "      <td>1</td>\n",
       "    </tr>\n",
       "    <tr>\n",
       "      <th>7</th>\n",
       "      <td>0</td>\n",
       "      <td>313996</td>\n",
       "      <td>1</td>\n",
       "    </tr>\n",
       "  </tbody>\n",
       "</table>\n",
       "</div>"
      ],
      "text/plain": [
       "   user_id  click_article_id  nb_click_by_arts\n",
       "0        0             68866                 1\n",
       "1        0             87205                 1\n",
       "2        0             87224                 1\n",
       "3        0             96755                 1\n",
       "4        0            157541                 1\n",
       "5        0            160158                 1\n",
       "6        0            233470                 1\n",
       "7        0            313996                 1"
      ]
     },
     "execution_count": 177,
     "metadata": {},
     "output_type": "execute_result"
    }
   ],
   "source": [
    "dfs_user_art[dfs_user_art[\"user_id\"]==0]"
   ]
  },
  {
   "cell_type": "code",
   "execution_count": 87,
   "metadata": {},
   "outputs": [],
   "source": [
    "#dfs_user_art.to_csv(\"Output\\\\data\\\\dfs_user_art.csv\")"
   ]
  },
  {
   "cell_type": "code",
   "execution_count": 88,
   "metadata": {},
   "outputs": [],
   "source": [
    "dfs_user_art = pd.read_csv(\"Output\\\\data\\\\dfs_user_art.csv\")"
   ]
  },
  {
   "cell_type": "code",
   "execution_count": null,
   "metadata": {},
   "outputs": [],
   "source": [
    "gc.collect()"
   ]
  },
  {
   "cell_type": "code",
   "execution_count": 89,
   "metadata": {},
   "outputs": [
    {
     "data": {
      "text/plain": [
       "1407"
      ]
     },
     "execution_count": 89,
     "metadata": {},
     "output_type": "execute_result"
    }
   ],
   "source": [
    "import gc\n",
    "gc.collect()"
   ]
  },
  {
   "cell_type": "code",
   "execution_count": 90,
   "metadata": {},
   "outputs": [],
   "source": [
    "def user(x):\n",
    "    user = dfs_user_art.loc[dfs_user_art['user_id']==x]\n",
    "    if len(user)>0:\n",
    "        return user\n",
    "    return np.nan"
   ]
  },
  {
   "cell_type": "code",
   "execution_count": 91,
   "metadata": {},
   "outputs": [],
   "source": [
    "test = user(10)"
   ]
  },
  {
   "cell_type": "markdown",
   "metadata": {},
   "source": [
    "Nous calculons à présent la similarité avec le cosinus."
   ]
  },
  {
   "cell_type": "code",
   "execution_count": 92,
   "metadata": {},
   "outputs": [
    {
     "data": {
      "text/plain": [
       "0"
      ]
     },
     "execution_count": 92,
     "metadata": {},
     "output_type": "execute_result"
    }
   ],
   "source": [
    "gc.collect()"
   ]
  },
  {
   "cell_type": "code",
   "execution_count": 20,
   "metadata": {},
   "outputs": [
    {
     "data": {
      "text/plain": [
       "(46033, 30)"
      ]
     },
     "execution_count": 20,
     "metadata": {},
     "output_type": "execute_result"
    }
   ],
   "source": [
    "df_arts_embedd_acp.shape"
   ]
  },
  {
   "cell_type": "code",
   "execution_count": 21,
   "metadata": {},
   "outputs": [
    {
     "data": {
      "text/html": [
       "<div>\n",
       "<style scoped>\n",
       "    .dataframe tbody tr th:only-of-type {\n",
       "        vertical-align: middle;\n",
       "    }\n",
       "\n",
       "    .dataframe tbody tr th {\n",
       "        vertical-align: top;\n",
       "    }\n",
       "\n",
       "    .dataframe thead th {\n",
       "        text-align: right;\n",
       "    }\n",
       "</style>\n",
       "<table border=\"1\" class=\"dataframe\">\n",
       "  <thead>\n",
       "    <tr style=\"text-align: right;\">\n",
       "      <th></th>\n",
       "      <th>Unnamed: 0</th>\n",
       "      <th>article_id</th>\n",
       "      <th>0</th>\n",
       "      <th>1</th>\n",
       "      <th>2</th>\n",
       "      <th>3</th>\n",
       "      <th>4</th>\n",
       "      <th>5</th>\n",
       "      <th>6</th>\n",
       "      <th>7</th>\n",
       "      <th>...</th>\n",
       "      <th>18</th>\n",
       "      <th>19</th>\n",
       "      <th>20</th>\n",
       "      <th>21</th>\n",
       "      <th>22</th>\n",
       "      <th>23</th>\n",
       "      <th>24</th>\n",
       "      <th>25</th>\n",
       "      <th>26</th>\n",
       "      <th>27</th>\n",
       "    </tr>\n",
       "  </thead>\n",
       "  <tbody>\n",
       "    <tr>\n",
       "      <th>0</th>\n",
       "      <td>0.0</td>\n",
       "      <td>160974.0</td>\n",
       "      <td>4.409818</td>\n",
       "      <td>-6.639122</td>\n",
       "      <td>0.926427</td>\n",
       "      <td>2.431026</td>\n",
       "      <td>0.762038</td>\n",
       "      <td>1.969448</td>\n",
       "      <td>-5.136955</td>\n",
       "      <td>-6.181464</td>\n",
       "      <td>...</td>\n",
       "      <td>-1.453939</td>\n",
       "      <td>0.118815</td>\n",
       "      <td>0.335479</td>\n",
       "      <td>-0.070646</td>\n",
       "      <td>1.174920</td>\n",
       "      <td>-0.108625</td>\n",
       "      <td>-1.098951</td>\n",
       "      <td>0.099952</td>\n",
       "      <td>1.184398</td>\n",
       "      <td>-0.944156</td>\n",
       "    </tr>\n",
       "    <tr>\n",
       "      <th>1</th>\n",
       "      <td>1.0</td>\n",
       "      <td>272143.0</td>\n",
       "      <td>0.365748</td>\n",
       "      <td>-1.039532</td>\n",
       "      <td>-5.728983</td>\n",
       "      <td>1.457015</td>\n",
       "      <td>1.994284</td>\n",
       "      <td>-2.534556</td>\n",
       "      <td>1.640267</td>\n",
       "      <td>-0.554919</td>\n",
       "      <td>...</td>\n",
       "      <td>-1.248821</td>\n",
       "      <td>5.384028</td>\n",
       "      <td>1.423406</td>\n",
       "      <td>2.994571</td>\n",
       "      <td>-0.059741</td>\n",
       "      <td>0.665796</td>\n",
       "      <td>0.391135</td>\n",
       "      <td>-3.153799</td>\n",
       "      <td>-0.309379</td>\n",
       "      <td>-0.486747</td>\n",
       "    </tr>\n",
       "    <tr>\n",
       "      <th>2</th>\n",
       "      <td>2.0</td>\n",
       "      <td>336221.0</td>\n",
       "      <td>1.966327</td>\n",
       "      <td>-0.415705</td>\n",
       "      <td>1.047224</td>\n",
       "      <td>-7.377117</td>\n",
       "      <td>1.946469</td>\n",
       "      <td>-7.320769</td>\n",
       "      <td>2.086489</td>\n",
       "      <td>-0.853537</td>\n",
       "      <td>...</td>\n",
       "      <td>-3.561550</td>\n",
       "      <td>2.487598</td>\n",
       "      <td>2.985157</td>\n",
       "      <td>-1.030350</td>\n",
       "      <td>-0.614082</td>\n",
       "      <td>-1.822304</td>\n",
       "      <td>-1.391730</td>\n",
       "      <td>2.946549</td>\n",
       "      <td>-0.869125</td>\n",
       "      <td>-0.144329</td>\n",
       "    </tr>\n",
       "    <tr>\n",
       "      <th>3</th>\n",
       "      <td>3.0</td>\n",
       "      <td>234698.0</td>\n",
       "      <td>2.178805</td>\n",
       "      <td>-5.133606</td>\n",
       "      <td>0.382549</td>\n",
       "      <td>2.705868</td>\n",
       "      <td>0.959321</td>\n",
       "      <td>-2.768934</td>\n",
       "      <td>1.368384</td>\n",
       "      <td>-6.675447</td>\n",
       "      <td>...</td>\n",
       "      <td>0.066011</td>\n",
       "      <td>1.693189</td>\n",
       "      <td>-0.677566</td>\n",
       "      <td>0.439447</td>\n",
       "      <td>0.272845</td>\n",
       "      <td>2.698020</td>\n",
       "      <td>-0.082876</td>\n",
       "      <td>-3.704268</td>\n",
       "      <td>1.153967</td>\n",
       "      <td>1.460297</td>\n",
       "    </tr>\n",
       "    <tr>\n",
       "      <th>4</th>\n",
       "      <td>4.0</td>\n",
       "      <td>123909.0</td>\n",
       "      <td>-4.758974</td>\n",
       "      <td>3.375851</td>\n",
       "      <td>-5.330550</td>\n",
       "      <td>0.963728</td>\n",
       "      <td>0.857619</td>\n",
       "      <td>-2.149371</td>\n",
       "      <td>-4.398415</td>\n",
       "      <td>1.647194</td>\n",
       "      <td>...</td>\n",
       "      <td>0.676664</td>\n",
       "      <td>-2.375500</td>\n",
       "      <td>0.155846</td>\n",
       "      <td>-2.247731</td>\n",
       "      <td>2.054658</td>\n",
       "      <td>0.100919</td>\n",
       "      <td>-1.886052</td>\n",
       "      <td>-0.242966</td>\n",
       "      <td>-2.032787</td>\n",
       "      <td>-0.883262</td>\n",
       "    </tr>\n",
       "    <tr>\n",
       "      <th>...</th>\n",
       "      <td>...</td>\n",
       "      <td>...</td>\n",
       "      <td>...</td>\n",
       "      <td>...</td>\n",
       "      <td>...</td>\n",
       "      <td>...</td>\n",
       "      <td>...</td>\n",
       "      <td>...</td>\n",
       "      <td>...</td>\n",
       "      <td>...</td>\n",
       "      <td>...</td>\n",
       "      <td>...</td>\n",
       "      <td>...</td>\n",
       "      <td>...</td>\n",
       "      <td>...</td>\n",
       "      <td>...</td>\n",
       "      <td>...</td>\n",
       "      <td>...</td>\n",
       "      <td>...</td>\n",
       "      <td>...</td>\n",
       "      <td>...</td>\n",
       "    </tr>\n",
       "    <tr>\n",
       "      <th>46028</th>\n",
       "      <td>46028.0</td>\n",
       "      <td>3306.0</td>\n",
       "      <td>-7.646194</td>\n",
       "      <td>-1.915921</td>\n",
       "      <td>-2.415429</td>\n",
       "      <td>2.103166</td>\n",
       "      <td>-2.557936</td>\n",
       "      <td>1.708440</td>\n",
       "      <td>-0.197465</td>\n",
       "      <td>-6.371129</td>\n",
       "      <td>...</td>\n",
       "      <td>1.719261</td>\n",
       "      <td>1.068312</td>\n",
       "      <td>-0.154430</td>\n",
       "      <td>-1.334877</td>\n",
       "      <td>-2.746202</td>\n",
       "      <td>-1.773311</td>\n",
       "      <td>-1.291318</td>\n",
       "      <td>4.831487</td>\n",
       "      <td>2.185073</td>\n",
       "      <td>0.197575</td>\n",
       "    </tr>\n",
       "    <tr>\n",
       "      <th>46029</th>\n",
       "      <td>46029.0</td>\n",
       "      <td>166713.0</td>\n",
       "      <td>3.677934</td>\n",
       "      <td>-0.110976</td>\n",
       "      <td>3.636587</td>\n",
       "      <td>9.289109</td>\n",
       "      <td>4.806588</td>\n",
       "      <td>-6.590909</td>\n",
       "      <td>-3.193905</td>\n",
       "      <td>-1.679668</td>\n",
       "      <td>...</td>\n",
       "      <td>3.856145</td>\n",
       "      <td>0.613967</td>\n",
       "      <td>1.000408</td>\n",
       "      <td>3.482371</td>\n",
       "      <td>2.995691</td>\n",
       "      <td>-1.207539</td>\n",
       "      <td>1.161455</td>\n",
       "      <td>-1.122588</td>\n",
       "      <td>1.472571</td>\n",
       "      <td>3.353741</td>\n",
       "    </tr>\n",
       "    <tr>\n",
       "      <th>46030</th>\n",
       "      <td>46030.0</td>\n",
       "      <td>214721.0</td>\n",
       "      <td>3.587205</td>\n",
       "      <td>-4.128772</td>\n",
       "      <td>5.178397</td>\n",
       "      <td>1.385262</td>\n",
       "      <td>-1.710381</td>\n",
       "      <td>-2.418609</td>\n",
       "      <td>-0.360348</td>\n",
       "      <td>-6.810805</td>\n",
       "      <td>...</td>\n",
       "      <td>-0.495343</td>\n",
       "      <td>1.340402</td>\n",
       "      <td>-1.129253</td>\n",
       "      <td>-0.415873</td>\n",
       "      <td>0.046289</td>\n",
       "      <td>1.978081</td>\n",
       "      <td>1.154006</td>\n",
       "      <td>-0.152191</td>\n",
       "      <td>1.893748</td>\n",
       "      <td>-1.256460</td>\n",
       "    </tr>\n",
       "    <tr>\n",
       "      <th>46031</th>\n",
       "      <td>46031.0</td>\n",
       "      <td>350088.0</td>\n",
       "      <td>-6.284720</td>\n",
       "      <td>-2.794149</td>\n",
       "      <td>1.320273</td>\n",
       "      <td>2.022784</td>\n",
       "      <td>-2.384351</td>\n",
       "      <td>0.463877</td>\n",
       "      <td>0.921245</td>\n",
       "      <td>3.341046</td>\n",
       "      <td>...</td>\n",
       "      <td>-3.389887</td>\n",
       "      <td>-1.733202</td>\n",
       "      <td>-1.714559</td>\n",
       "      <td>2.399443</td>\n",
       "      <td>1.506086</td>\n",
       "      <td>3.524483</td>\n",
       "      <td>3.214269</td>\n",
       "      <td>-1.433440</td>\n",
       "      <td>2.691557</td>\n",
       "      <td>0.330595</td>\n",
       "    </tr>\n",
       "    <tr>\n",
       "      <th>46032</th>\n",
       "      <td>46032.0</td>\n",
       "      <td>98243.0</td>\n",
       "      <td>18.774651</td>\n",
       "      <td>22.010057</td>\n",
       "      <td>0.162389</td>\n",
       "      <td>7.780192</td>\n",
       "      <td>-1.426129</td>\n",
       "      <td>3.477725</td>\n",
       "      <td>1.336624</td>\n",
       "      <td>-2.746087</td>\n",
       "      <td>...</td>\n",
       "      <td>-0.791448</td>\n",
       "      <td>0.272792</td>\n",
       "      <td>-1.673623</td>\n",
       "      <td>-1.809606</td>\n",
       "      <td>-0.729467</td>\n",
       "      <td>-3.076868</td>\n",
       "      <td>-0.644314</td>\n",
       "      <td>-0.447889</td>\n",
       "      <td>-0.323034</td>\n",
       "      <td>-1.387186</td>\n",
       "    </tr>\n",
       "  </tbody>\n",
       "</table>\n",
       "<p>46033 rows × 30 columns</p>\n",
       "</div>"
      ],
      "text/plain": [
       "       Unnamed: 0  article_id          0          1         2         3  \\\n",
       "0             0.0    160974.0   4.409818  -6.639122  0.926427  2.431026   \n",
       "1             1.0    272143.0   0.365748  -1.039532 -5.728983  1.457015   \n",
       "2             2.0    336221.0   1.966327  -0.415705  1.047224 -7.377117   \n",
       "3             3.0    234698.0   2.178805  -5.133606  0.382549  2.705868   \n",
       "4             4.0    123909.0  -4.758974   3.375851 -5.330550  0.963728   \n",
       "...           ...         ...        ...        ...       ...       ...   \n",
       "46028     46028.0      3306.0  -7.646194  -1.915921 -2.415429  2.103166   \n",
       "46029     46029.0    166713.0   3.677934  -0.110976  3.636587  9.289109   \n",
       "46030     46030.0    214721.0   3.587205  -4.128772  5.178397  1.385262   \n",
       "46031     46031.0    350088.0  -6.284720  -2.794149  1.320273  2.022784   \n",
       "46032     46032.0     98243.0  18.774651  22.010057  0.162389  7.780192   \n",
       "\n",
       "              4         5         6         7  ...        18        19  \\\n",
       "0      0.762038  1.969448 -5.136955 -6.181464  ... -1.453939  0.118815   \n",
       "1      1.994284 -2.534556  1.640267 -0.554919  ... -1.248821  5.384028   \n",
       "2      1.946469 -7.320769  2.086489 -0.853537  ... -3.561550  2.487598   \n",
       "3      0.959321 -2.768934  1.368384 -6.675447  ...  0.066011  1.693189   \n",
       "4      0.857619 -2.149371 -4.398415  1.647194  ...  0.676664 -2.375500   \n",
       "...         ...       ...       ...       ...  ...       ...       ...   \n",
       "46028 -2.557936  1.708440 -0.197465 -6.371129  ...  1.719261  1.068312   \n",
       "46029  4.806588 -6.590909 -3.193905 -1.679668  ...  3.856145  0.613967   \n",
       "46030 -1.710381 -2.418609 -0.360348 -6.810805  ... -0.495343  1.340402   \n",
       "46031 -2.384351  0.463877  0.921245  3.341046  ... -3.389887 -1.733202   \n",
       "46032 -1.426129  3.477725  1.336624 -2.746087  ... -0.791448  0.272792   \n",
       "\n",
       "             20        21        22        23        24        25        26  \\\n",
       "0      0.335479 -0.070646  1.174920 -0.108625 -1.098951  0.099952  1.184398   \n",
       "1      1.423406  2.994571 -0.059741  0.665796  0.391135 -3.153799 -0.309379   \n",
       "2      2.985157 -1.030350 -0.614082 -1.822304 -1.391730  2.946549 -0.869125   \n",
       "3     -0.677566  0.439447  0.272845  2.698020 -0.082876 -3.704268  1.153967   \n",
       "4      0.155846 -2.247731  2.054658  0.100919 -1.886052 -0.242966 -2.032787   \n",
       "...         ...       ...       ...       ...       ...       ...       ...   \n",
       "46028 -0.154430 -1.334877 -2.746202 -1.773311 -1.291318  4.831487  2.185073   \n",
       "46029  1.000408  3.482371  2.995691 -1.207539  1.161455 -1.122588  1.472571   \n",
       "46030 -1.129253 -0.415873  0.046289  1.978081  1.154006 -0.152191  1.893748   \n",
       "46031 -1.714559  2.399443  1.506086  3.524483  3.214269 -1.433440  2.691557   \n",
       "46032 -1.673623 -1.809606 -0.729467 -3.076868 -0.644314 -0.447889 -0.323034   \n",
       "\n",
       "             27  \n",
       "0     -0.944156  \n",
       "1     -0.486747  \n",
       "2     -0.144329  \n",
       "3      1.460297  \n",
       "4     -0.883262  \n",
       "...         ...  \n",
       "46028  0.197575  \n",
       "46029  3.353741  \n",
       "46030 -1.256460  \n",
       "46031  0.330595  \n",
       "46032 -1.387186  \n",
       "\n",
       "[46033 rows x 30 columns]"
      ]
     },
     "execution_count": 21,
     "metadata": {},
     "output_type": "execute_result"
    }
   ],
   "source": [
    "df_arts_embedd_acp"
   ]
  },
  {
   "cell_type": "code",
   "execution_count": 22,
   "metadata": {},
   "outputs": [],
   "source": [
    "arts_embedd_acp = df_arts_embedd_acp.iloc[:, 1:]"
   ]
  },
  {
   "cell_type": "code",
   "execution_count": 23,
   "metadata": {},
   "outputs": [
    {
     "data": {
      "text/plain": [
       "0"
      ]
     },
     "execution_count": 23,
     "metadata": {},
     "output_type": "execute_result"
    }
   ],
   "source": [
    "gc.collect()"
   ]
  },
  {
   "cell_type": "code",
   "execution_count": null,
   "metadata": {},
   "outputs": [],
   "source": [
    "from sklearn.metrics.pairwise import cosine_similarity\n",
    "\n",
    "cosine_sim = cosine_similarity(arts_embedd_acp, arts_embedd_acp)\n",
    "#cosine_sim[:4, :4]"
   ]
  },
  {
   "cell_type": "code",
   "execution_count": 29,
   "metadata": {},
   "outputs": [
    {
     "data": {
      "text/plain": [
       "21"
      ]
     },
     "execution_count": 29,
     "metadata": {},
     "output_type": "execute_result"
    }
   ],
   "source": [
    "import gc\n",
    "gc.collect()"
   ]
  },
  {
   "cell_type": "code",
   "execution_count": 24,
   "metadata": {},
   "outputs": [
    {
     "data": {
      "text/html": [
       "<div>\n",
       "<style scoped>\n",
       "    .dataframe tbody tr th:only-of-type {\n",
       "        vertical-align: middle;\n",
       "    }\n",
       "\n",
       "    .dataframe tbody tr th {\n",
       "        vertical-align: top;\n",
       "    }\n",
       "\n",
       "    .dataframe thead th {\n",
       "        text-align: right;\n",
       "    }\n",
       "</style>\n",
       "<table border=\"1\" class=\"dataframe\">\n",
       "  <thead>\n",
       "    <tr style=\"text-align: right;\">\n",
       "      <th></th>\n",
       "      <th>article_id</th>\n",
       "      <th>0</th>\n",
       "      <th>1</th>\n",
       "      <th>2</th>\n",
       "      <th>3</th>\n",
       "      <th>4</th>\n",
       "      <th>5</th>\n",
       "      <th>6</th>\n",
       "      <th>7</th>\n",
       "      <th>8</th>\n",
       "      <th>...</th>\n",
       "      <th>18</th>\n",
       "      <th>19</th>\n",
       "      <th>20</th>\n",
       "      <th>21</th>\n",
       "      <th>22</th>\n",
       "      <th>23</th>\n",
       "      <th>24</th>\n",
       "      <th>25</th>\n",
       "      <th>26</th>\n",
       "      <th>27</th>\n",
       "    </tr>\n",
       "  </thead>\n",
       "  <tbody>\n",
       "    <tr>\n",
       "      <th>0</th>\n",
       "      <td>160974.0</td>\n",
       "      <td>4.409818</td>\n",
       "      <td>-6.639122</td>\n",
       "      <td>0.926427</td>\n",
       "      <td>2.431026</td>\n",
       "      <td>0.762038</td>\n",
       "      <td>1.969448</td>\n",
       "      <td>-5.136955</td>\n",
       "      <td>-6.181464</td>\n",
       "      <td>0.567569</td>\n",
       "      <td>...</td>\n",
       "      <td>-1.453939</td>\n",
       "      <td>0.118815</td>\n",
       "      <td>0.335479</td>\n",
       "      <td>-0.070646</td>\n",
       "      <td>1.174920</td>\n",
       "      <td>-0.108625</td>\n",
       "      <td>-1.098951</td>\n",
       "      <td>0.099952</td>\n",
       "      <td>1.184398</td>\n",
       "      <td>-0.944156</td>\n",
       "    </tr>\n",
       "    <tr>\n",
       "      <th>1</th>\n",
       "      <td>272143.0</td>\n",
       "      <td>0.365748</td>\n",
       "      <td>-1.039532</td>\n",
       "      <td>-5.728983</td>\n",
       "      <td>1.457015</td>\n",
       "      <td>1.994284</td>\n",
       "      <td>-2.534556</td>\n",
       "      <td>1.640267</td>\n",
       "      <td>-0.554919</td>\n",
       "      <td>0.891390</td>\n",
       "      <td>...</td>\n",
       "      <td>-1.248821</td>\n",
       "      <td>5.384028</td>\n",
       "      <td>1.423406</td>\n",
       "      <td>2.994571</td>\n",
       "      <td>-0.059741</td>\n",
       "      <td>0.665796</td>\n",
       "      <td>0.391135</td>\n",
       "      <td>-3.153799</td>\n",
       "      <td>-0.309379</td>\n",
       "      <td>-0.486747</td>\n",
       "    </tr>\n",
       "    <tr>\n",
       "      <th>2</th>\n",
       "      <td>336221.0</td>\n",
       "      <td>1.966327</td>\n",
       "      <td>-0.415705</td>\n",
       "      <td>1.047224</td>\n",
       "      <td>-7.377117</td>\n",
       "      <td>1.946469</td>\n",
       "      <td>-7.320769</td>\n",
       "      <td>2.086489</td>\n",
       "      <td>-0.853537</td>\n",
       "      <td>-5.539290</td>\n",
       "      <td>...</td>\n",
       "      <td>-3.561550</td>\n",
       "      <td>2.487598</td>\n",
       "      <td>2.985157</td>\n",
       "      <td>-1.030350</td>\n",
       "      <td>-0.614082</td>\n",
       "      <td>-1.822304</td>\n",
       "      <td>-1.391730</td>\n",
       "      <td>2.946549</td>\n",
       "      <td>-0.869125</td>\n",
       "      <td>-0.144329</td>\n",
       "    </tr>\n",
       "    <tr>\n",
       "      <th>3</th>\n",
       "      <td>234698.0</td>\n",
       "      <td>2.178805</td>\n",
       "      <td>-5.133606</td>\n",
       "      <td>0.382549</td>\n",
       "      <td>2.705868</td>\n",
       "      <td>0.959321</td>\n",
       "      <td>-2.768934</td>\n",
       "      <td>1.368384</td>\n",
       "      <td>-6.675447</td>\n",
       "      <td>0.233952</td>\n",
       "      <td>...</td>\n",
       "      <td>0.066011</td>\n",
       "      <td>1.693189</td>\n",
       "      <td>-0.677566</td>\n",
       "      <td>0.439447</td>\n",
       "      <td>0.272845</td>\n",
       "      <td>2.698020</td>\n",
       "      <td>-0.082876</td>\n",
       "      <td>-3.704268</td>\n",
       "      <td>1.153967</td>\n",
       "      <td>1.460297</td>\n",
       "    </tr>\n",
       "    <tr>\n",
       "      <th>4</th>\n",
       "      <td>123909.0</td>\n",
       "      <td>-4.758974</td>\n",
       "      <td>3.375851</td>\n",
       "      <td>-5.330550</td>\n",
       "      <td>0.963728</td>\n",
       "      <td>0.857619</td>\n",
       "      <td>-2.149371</td>\n",
       "      <td>-4.398415</td>\n",
       "      <td>1.647194</td>\n",
       "      <td>2.808233</td>\n",
       "      <td>...</td>\n",
       "      <td>0.676664</td>\n",
       "      <td>-2.375500</td>\n",
       "      <td>0.155846</td>\n",
       "      <td>-2.247731</td>\n",
       "      <td>2.054658</td>\n",
       "      <td>0.100919</td>\n",
       "      <td>-1.886052</td>\n",
       "      <td>-0.242966</td>\n",
       "      <td>-2.032787</td>\n",
       "      <td>-0.883262</td>\n",
       "    </tr>\n",
       "    <tr>\n",
       "      <th>...</th>\n",
       "      <td>...</td>\n",
       "      <td>...</td>\n",
       "      <td>...</td>\n",
       "      <td>...</td>\n",
       "      <td>...</td>\n",
       "      <td>...</td>\n",
       "      <td>...</td>\n",
       "      <td>...</td>\n",
       "      <td>...</td>\n",
       "      <td>...</td>\n",
       "      <td>...</td>\n",
       "      <td>...</td>\n",
       "      <td>...</td>\n",
       "      <td>...</td>\n",
       "      <td>...</td>\n",
       "      <td>...</td>\n",
       "      <td>...</td>\n",
       "      <td>...</td>\n",
       "      <td>...</td>\n",
       "      <td>...</td>\n",
       "      <td>...</td>\n",
       "    </tr>\n",
       "    <tr>\n",
       "      <th>46028</th>\n",
       "      <td>3306.0</td>\n",
       "      <td>-7.646194</td>\n",
       "      <td>-1.915921</td>\n",
       "      <td>-2.415429</td>\n",
       "      <td>2.103166</td>\n",
       "      <td>-2.557936</td>\n",
       "      <td>1.708440</td>\n",
       "      <td>-0.197465</td>\n",
       "      <td>-6.371129</td>\n",
       "      <td>0.587404</td>\n",
       "      <td>...</td>\n",
       "      <td>1.719261</td>\n",
       "      <td>1.068312</td>\n",
       "      <td>-0.154430</td>\n",
       "      <td>-1.334877</td>\n",
       "      <td>-2.746202</td>\n",
       "      <td>-1.773311</td>\n",
       "      <td>-1.291318</td>\n",
       "      <td>4.831487</td>\n",
       "      <td>2.185073</td>\n",
       "      <td>0.197575</td>\n",
       "    </tr>\n",
       "    <tr>\n",
       "      <th>46029</th>\n",
       "      <td>166713.0</td>\n",
       "      <td>3.677934</td>\n",
       "      <td>-0.110976</td>\n",
       "      <td>3.636587</td>\n",
       "      <td>9.289109</td>\n",
       "      <td>4.806588</td>\n",
       "      <td>-6.590909</td>\n",
       "      <td>-3.193905</td>\n",
       "      <td>-1.679668</td>\n",
       "      <td>0.555964</td>\n",
       "      <td>...</td>\n",
       "      <td>3.856145</td>\n",
       "      <td>0.613967</td>\n",
       "      <td>1.000408</td>\n",
       "      <td>3.482371</td>\n",
       "      <td>2.995691</td>\n",
       "      <td>-1.207539</td>\n",
       "      <td>1.161455</td>\n",
       "      <td>-1.122588</td>\n",
       "      <td>1.472571</td>\n",
       "      <td>3.353741</td>\n",
       "    </tr>\n",
       "    <tr>\n",
       "      <th>46030</th>\n",
       "      <td>214721.0</td>\n",
       "      <td>3.587205</td>\n",
       "      <td>-4.128772</td>\n",
       "      <td>5.178397</td>\n",
       "      <td>1.385262</td>\n",
       "      <td>-1.710381</td>\n",
       "      <td>-2.418609</td>\n",
       "      <td>-0.360348</td>\n",
       "      <td>-6.810805</td>\n",
       "      <td>2.413965</td>\n",
       "      <td>...</td>\n",
       "      <td>-0.495343</td>\n",
       "      <td>1.340402</td>\n",
       "      <td>-1.129253</td>\n",
       "      <td>-0.415873</td>\n",
       "      <td>0.046289</td>\n",
       "      <td>1.978081</td>\n",
       "      <td>1.154006</td>\n",
       "      <td>-0.152191</td>\n",
       "      <td>1.893748</td>\n",
       "      <td>-1.256460</td>\n",
       "    </tr>\n",
       "    <tr>\n",
       "      <th>46031</th>\n",
       "      <td>350088.0</td>\n",
       "      <td>-6.284720</td>\n",
       "      <td>-2.794149</td>\n",
       "      <td>1.320273</td>\n",
       "      <td>2.022784</td>\n",
       "      <td>-2.384351</td>\n",
       "      <td>0.463877</td>\n",
       "      <td>0.921245</td>\n",
       "      <td>3.341046</td>\n",
       "      <td>-0.753224</td>\n",
       "      <td>...</td>\n",
       "      <td>-3.389887</td>\n",
       "      <td>-1.733202</td>\n",
       "      <td>-1.714559</td>\n",
       "      <td>2.399443</td>\n",
       "      <td>1.506086</td>\n",
       "      <td>3.524483</td>\n",
       "      <td>3.214269</td>\n",
       "      <td>-1.433440</td>\n",
       "      <td>2.691557</td>\n",
       "      <td>0.330595</td>\n",
       "    </tr>\n",
       "    <tr>\n",
       "      <th>46032</th>\n",
       "      <td>98243.0</td>\n",
       "      <td>18.774651</td>\n",
       "      <td>22.010057</td>\n",
       "      <td>0.162389</td>\n",
       "      <td>7.780192</td>\n",
       "      <td>-1.426129</td>\n",
       "      <td>3.477725</td>\n",
       "      <td>1.336624</td>\n",
       "      <td>-2.746087</td>\n",
       "      <td>-0.056587</td>\n",
       "      <td>...</td>\n",
       "      <td>-0.791448</td>\n",
       "      <td>0.272792</td>\n",
       "      <td>-1.673623</td>\n",
       "      <td>-1.809606</td>\n",
       "      <td>-0.729467</td>\n",
       "      <td>-3.076868</td>\n",
       "      <td>-0.644314</td>\n",
       "      <td>-0.447889</td>\n",
       "      <td>-0.323034</td>\n",
       "      <td>-1.387186</td>\n",
       "    </tr>\n",
       "  </tbody>\n",
       "</table>\n",
       "<p>46033 rows × 29 columns</p>\n",
       "</div>"
      ],
      "text/plain": [
       "       article_id          0          1         2         3         4  \\\n",
       "0        160974.0   4.409818  -6.639122  0.926427  2.431026  0.762038   \n",
       "1        272143.0   0.365748  -1.039532 -5.728983  1.457015  1.994284   \n",
       "2        336221.0   1.966327  -0.415705  1.047224 -7.377117  1.946469   \n",
       "3        234698.0   2.178805  -5.133606  0.382549  2.705868  0.959321   \n",
       "4        123909.0  -4.758974   3.375851 -5.330550  0.963728  0.857619   \n",
       "...           ...        ...        ...       ...       ...       ...   \n",
       "46028      3306.0  -7.646194  -1.915921 -2.415429  2.103166 -2.557936   \n",
       "46029    166713.0   3.677934  -0.110976  3.636587  9.289109  4.806588   \n",
       "46030    214721.0   3.587205  -4.128772  5.178397  1.385262 -1.710381   \n",
       "46031    350088.0  -6.284720  -2.794149  1.320273  2.022784 -2.384351   \n",
       "46032     98243.0  18.774651  22.010057  0.162389  7.780192 -1.426129   \n",
       "\n",
       "              5         6         7         8  ...        18        19  \\\n",
       "0      1.969448 -5.136955 -6.181464  0.567569  ... -1.453939  0.118815   \n",
       "1     -2.534556  1.640267 -0.554919  0.891390  ... -1.248821  5.384028   \n",
       "2     -7.320769  2.086489 -0.853537 -5.539290  ... -3.561550  2.487598   \n",
       "3     -2.768934  1.368384 -6.675447  0.233952  ...  0.066011  1.693189   \n",
       "4     -2.149371 -4.398415  1.647194  2.808233  ...  0.676664 -2.375500   \n",
       "...         ...       ...       ...       ...  ...       ...       ...   \n",
       "46028  1.708440 -0.197465 -6.371129  0.587404  ...  1.719261  1.068312   \n",
       "46029 -6.590909 -3.193905 -1.679668  0.555964  ...  3.856145  0.613967   \n",
       "46030 -2.418609 -0.360348 -6.810805  2.413965  ... -0.495343  1.340402   \n",
       "46031  0.463877  0.921245  3.341046 -0.753224  ... -3.389887 -1.733202   \n",
       "46032  3.477725  1.336624 -2.746087 -0.056587  ... -0.791448  0.272792   \n",
       "\n",
       "             20        21        22        23        24        25        26  \\\n",
       "0      0.335479 -0.070646  1.174920 -0.108625 -1.098951  0.099952  1.184398   \n",
       "1      1.423406  2.994571 -0.059741  0.665796  0.391135 -3.153799 -0.309379   \n",
       "2      2.985157 -1.030350 -0.614082 -1.822304 -1.391730  2.946549 -0.869125   \n",
       "3     -0.677566  0.439447  0.272845  2.698020 -0.082876 -3.704268  1.153967   \n",
       "4      0.155846 -2.247731  2.054658  0.100919 -1.886052 -0.242966 -2.032787   \n",
       "...         ...       ...       ...       ...       ...       ...       ...   \n",
       "46028 -0.154430 -1.334877 -2.746202 -1.773311 -1.291318  4.831487  2.185073   \n",
       "46029  1.000408  3.482371  2.995691 -1.207539  1.161455 -1.122588  1.472571   \n",
       "46030 -1.129253 -0.415873  0.046289  1.978081  1.154006 -0.152191  1.893748   \n",
       "46031 -1.714559  2.399443  1.506086  3.524483  3.214269 -1.433440  2.691557   \n",
       "46032 -1.673623 -1.809606 -0.729467 -3.076868 -0.644314 -0.447889 -0.323034   \n",
       "\n",
       "             27  \n",
       "0     -0.944156  \n",
       "1     -0.486747  \n",
       "2     -0.144329  \n",
       "3      1.460297  \n",
       "4     -0.883262  \n",
       "...         ...  \n",
       "46028  0.197575  \n",
       "46029  3.353741  \n",
       "46030 -1.256460  \n",
       "46031  0.330595  \n",
       "46032 -1.387186  \n",
       "\n",
       "[46033 rows x 29 columns]"
      ]
     },
     "execution_count": 24,
     "metadata": {},
     "output_type": "execute_result"
    }
   ],
   "source": [
    "arts_embedd_acp"
   ]
  },
  {
   "cell_type": "code",
   "execution_count": 25,
   "metadata": {},
   "outputs": [],
   "source": [
    "user_arts = user(0)"
   ]
  },
  {
   "cell_type": "code",
   "execution_count": 40,
   "metadata": {},
   "outputs": [
    {
     "data": {
      "text/html": [
       "<div>\n",
       "<style scoped>\n",
       "    .dataframe tbody tr th:only-of-type {\n",
       "        vertical-align: middle;\n",
       "    }\n",
       "\n",
       "    .dataframe tbody tr th {\n",
       "        vertical-align: top;\n",
       "    }\n",
       "\n",
       "    .dataframe thead th {\n",
       "        text-align: right;\n",
       "    }\n",
       "</style>\n",
       "<table border=\"1\" class=\"dataframe\">\n",
       "  <thead>\n",
       "    <tr style=\"text-align: right;\">\n",
       "      <th></th>\n",
       "      <th>Unnamed: 0</th>\n",
       "      <th>user_id</th>\n",
       "      <th>click_article_id</th>\n",
       "      <th>nb_click_by_arts</th>\n",
       "    </tr>\n",
       "  </thead>\n",
       "  <tbody>\n",
       "    <tr>\n",
       "      <th>0</th>\n",
       "      <td>0</td>\n",
       "      <td>0</td>\n",
       "      <td>68866</td>\n",
       "      <td>1</td>\n",
       "    </tr>\n",
       "    <tr>\n",
       "      <th>1</th>\n",
       "      <td>1</td>\n",
       "      <td>0</td>\n",
       "      <td>87205</td>\n",
       "      <td>1</td>\n",
       "    </tr>\n",
       "    <tr>\n",
       "      <th>2</th>\n",
       "      <td>2</td>\n",
       "      <td>0</td>\n",
       "      <td>87224</td>\n",
       "      <td>1</td>\n",
       "    </tr>\n",
       "    <tr>\n",
       "      <th>3</th>\n",
       "      <td>3</td>\n",
       "      <td>0</td>\n",
       "      <td>96755</td>\n",
       "      <td>1</td>\n",
       "    </tr>\n",
       "    <tr>\n",
       "      <th>4</th>\n",
       "      <td>4</td>\n",
       "      <td>0</td>\n",
       "      <td>157541</td>\n",
       "      <td>1</td>\n",
       "    </tr>\n",
       "    <tr>\n",
       "      <th>5</th>\n",
       "      <td>5</td>\n",
       "      <td>0</td>\n",
       "      <td>160158</td>\n",
       "      <td>1</td>\n",
       "    </tr>\n",
       "    <tr>\n",
       "      <th>6</th>\n",
       "      <td>6</td>\n",
       "      <td>0</td>\n",
       "      <td>233470</td>\n",
       "      <td>1</td>\n",
       "    </tr>\n",
       "    <tr>\n",
       "      <th>7</th>\n",
       "      <td>7</td>\n",
       "      <td>0</td>\n",
       "      <td>313996</td>\n",
       "      <td>1</td>\n",
       "    </tr>\n",
       "  </tbody>\n",
       "</table>\n",
       "</div>"
      ],
      "text/plain": [
       "   Unnamed: 0  user_id  click_article_id  nb_click_by_arts\n",
       "0           0        0             68866                 1\n",
       "1           1        0             87205                 1\n",
       "2           2        0             87224                 1\n",
       "3           3        0             96755                 1\n",
       "4           4        0            157541                 1\n",
       "5           5        0            160158                 1\n",
       "6           6        0            233470                 1\n",
       "7           7        0            313996                 1"
      ]
     },
     "execution_count": 40,
     "metadata": {},
     "output_type": "execute_result"
    }
   ],
   "source": [
    "user_arts"
   ]
  },
  {
   "cell_type": "code",
   "execution_count": 41,
   "metadata": {},
   "outputs": [],
   "source": [
    "test = pd.DataFrame(user_arts[\"click_article_id\"])"
   ]
  },
  {
   "cell_type": "code",
   "execution_count": 44,
   "metadata": {},
   "outputs": [],
   "source": [
    "test.columns= [\"article_id\"]"
   ]
  },
  {
   "cell_type": "code",
   "execution_count": 45,
   "metadata": {},
   "outputs": [
    {
     "data": {
      "text/html": [
       "<div>\n",
       "<style scoped>\n",
       "    .dataframe tbody tr th:only-of-type {\n",
       "        vertical-align: middle;\n",
       "    }\n",
       "\n",
       "    .dataframe tbody tr th {\n",
       "        vertical-align: top;\n",
       "    }\n",
       "\n",
       "    .dataframe thead th {\n",
       "        text-align: right;\n",
       "    }\n",
       "</style>\n",
       "<table border=\"1\" class=\"dataframe\">\n",
       "  <thead>\n",
       "    <tr style=\"text-align: right;\">\n",
       "      <th></th>\n",
       "      <th>article_id</th>\n",
       "    </tr>\n",
       "  </thead>\n",
       "  <tbody>\n",
       "    <tr>\n",
       "      <th>0</th>\n",
       "      <td>68866</td>\n",
       "    </tr>\n",
       "    <tr>\n",
       "      <th>1</th>\n",
       "      <td>87205</td>\n",
       "    </tr>\n",
       "    <tr>\n",
       "      <th>2</th>\n",
       "      <td>87224</td>\n",
       "    </tr>\n",
       "    <tr>\n",
       "      <th>3</th>\n",
       "      <td>96755</td>\n",
       "    </tr>\n",
       "    <tr>\n",
       "      <th>4</th>\n",
       "      <td>157541</td>\n",
       "    </tr>\n",
       "    <tr>\n",
       "      <th>5</th>\n",
       "      <td>160158</td>\n",
       "    </tr>\n",
       "    <tr>\n",
       "      <th>6</th>\n",
       "      <td>233470</td>\n",
       "    </tr>\n",
       "    <tr>\n",
       "      <th>7</th>\n",
       "      <td>313996</td>\n",
       "    </tr>\n",
       "  </tbody>\n",
       "</table>\n",
       "</div>"
      ],
      "text/plain": [
       "   article_id\n",
       "0       68866\n",
       "1       87205\n",
       "2       87224\n",
       "3       96755\n",
       "4      157541\n",
       "5      160158\n",
       "6      233470\n",
       "7      313996"
      ]
     },
     "execution_count": 45,
     "metadata": {},
     "output_type": "execute_result"
    }
   ],
   "source": [
    "test"
   ]
  },
  {
   "cell_type": "code",
   "execution_count": 46,
   "metadata": {},
   "outputs": [],
   "source": [
    "test2 = df_arts_embedd_acp.merge(test, how='inner', on='article_id')"
   ]
  },
  {
   "cell_type": "code",
   "execution_count": 47,
   "metadata": {},
   "outputs": [
    {
     "data": {
      "text/html": [
       "<div>\n",
       "<style scoped>\n",
       "    .dataframe tbody tr th:only-of-type {\n",
       "        vertical-align: middle;\n",
       "    }\n",
       "\n",
       "    .dataframe tbody tr th {\n",
       "        vertical-align: top;\n",
       "    }\n",
       "\n",
       "    .dataframe thead th {\n",
       "        text-align: right;\n",
       "    }\n",
       "</style>\n",
       "<table border=\"1\" class=\"dataframe\">\n",
       "  <thead>\n",
       "    <tr style=\"text-align: right;\">\n",
       "      <th></th>\n",
       "      <th>Unnamed: 0</th>\n",
       "      <th>article_id</th>\n",
       "      <th>0</th>\n",
       "      <th>1</th>\n",
       "      <th>2</th>\n",
       "      <th>3</th>\n",
       "      <th>4</th>\n",
       "      <th>5</th>\n",
       "      <th>6</th>\n",
       "      <th>7</th>\n",
       "      <th>...</th>\n",
       "      <th>18</th>\n",
       "      <th>19</th>\n",
       "      <th>20</th>\n",
       "      <th>21</th>\n",
       "      <th>22</th>\n",
       "      <th>23</th>\n",
       "      <th>24</th>\n",
       "      <th>25</th>\n",
       "      <th>26</th>\n",
       "      <th>27</th>\n",
       "    </tr>\n",
       "  </thead>\n",
       "  <tbody>\n",
       "    <tr>\n",
       "      <th>0</th>\n",
       "      <td>91.0</td>\n",
       "      <td>96755.0</td>\n",
       "      <td>0.561682</td>\n",
       "      <td>-0.275829</td>\n",
       "      <td>-2.484952</td>\n",
       "      <td>2.326820</td>\n",
       "      <td>1.080367</td>\n",
       "      <td>4.866472</td>\n",
       "      <td>-5.229543</td>\n",
       "      <td>-5.192376</td>\n",
       "      <td>...</td>\n",
       "      <td>0.329746</td>\n",
       "      <td>-3.478764</td>\n",
       "      <td>-1.051035</td>\n",
       "      <td>2.468488</td>\n",
       "      <td>3.284795</td>\n",
       "      <td>2.057707</td>\n",
       "      <td>-2.195386</td>\n",
       "      <td>-0.527600</td>\n",
       "      <td>1.366029</td>\n",
       "      <td>-0.916289</td>\n",
       "    </tr>\n",
       "    <tr>\n",
       "      <th>1</th>\n",
       "      <td>118.0</td>\n",
       "      <td>87224.0</td>\n",
       "      <td>12.974573</td>\n",
       "      <td>-0.266871</td>\n",
       "      <td>-0.086326</td>\n",
       "      <td>-6.449033</td>\n",
       "      <td>1.612581</td>\n",
       "      <td>-3.143589</td>\n",
       "      <td>2.005225</td>\n",
       "      <td>2.320927</td>\n",
       "      <td>...</td>\n",
       "      <td>-0.062828</td>\n",
       "      <td>0.491927</td>\n",
       "      <td>1.320311</td>\n",
       "      <td>-0.279294</td>\n",
       "      <td>1.075975</td>\n",
       "      <td>1.310596</td>\n",
       "      <td>0.850697</td>\n",
       "      <td>0.731010</td>\n",
       "      <td>-1.016009</td>\n",
       "      <td>0.695753</td>\n",
       "    </tr>\n",
       "    <tr>\n",
       "      <th>2</th>\n",
       "      <td>151.0</td>\n",
       "      <td>313996.0</td>\n",
       "      <td>-2.867847</td>\n",
       "      <td>0.503823</td>\n",
       "      <td>6.272486</td>\n",
       "      <td>-7.839911</td>\n",
       "      <td>1.613139</td>\n",
       "      <td>2.343978</td>\n",
       "      <td>-1.711982</td>\n",
       "      <td>-0.474289</td>\n",
       "      <td>...</td>\n",
       "      <td>1.224098</td>\n",
       "      <td>-0.191985</td>\n",
       "      <td>-3.733354</td>\n",
       "      <td>-1.048811</td>\n",
       "      <td>-2.833148</td>\n",
       "      <td>2.884380</td>\n",
       "      <td>0.941439</td>\n",
       "      <td>-1.637126</td>\n",
       "      <td>1.563002</td>\n",
       "      <td>-1.991673</td>\n",
       "    </tr>\n",
       "    <tr>\n",
       "      <th>3</th>\n",
       "      <td>342.0</td>\n",
       "      <td>160158.0</td>\n",
       "      <td>6.480545</td>\n",
       "      <td>-4.083380</td>\n",
       "      <td>0.654248</td>\n",
       "      <td>3.155655</td>\n",
       "      <td>-0.659966</td>\n",
       "      <td>-1.529571</td>\n",
       "      <td>-2.350570</td>\n",
       "      <td>-4.173399</td>\n",
       "      <td>...</td>\n",
       "      <td>-2.227591</td>\n",
       "      <td>-2.171608</td>\n",
       "      <td>2.059141</td>\n",
       "      <td>0.832706</td>\n",
       "      <td>0.577733</td>\n",
       "      <td>-0.005742</td>\n",
       "      <td>1.812651</td>\n",
       "      <td>1.363653</td>\n",
       "      <td>2.524569</td>\n",
       "      <td>1.498322</td>\n",
       "    </tr>\n",
       "    <tr>\n",
       "      <th>4</th>\n",
       "      <td>390.0</td>\n",
       "      <td>68866.0</td>\n",
       "      <td>3.240392</td>\n",
       "      <td>-6.334606</td>\n",
       "      <td>-0.932952</td>\n",
       "      <td>0.314616</td>\n",
       "      <td>0.613342</td>\n",
       "      <td>3.718720</td>\n",
       "      <td>-3.099787</td>\n",
       "      <td>-4.327018</td>\n",
       "      <td>...</td>\n",
       "      <td>-0.148392</td>\n",
       "      <td>0.577484</td>\n",
       "      <td>-1.184876</td>\n",
       "      <td>-0.828646</td>\n",
       "      <td>1.047456</td>\n",
       "      <td>-1.020450</td>\n",
       "      <td>-2.041848</td>\n",
       "      <td>1.647254</td>\n",
       "      <td>0.808552</td>\n",
       "      <td>-0.696717</td>\n",
       "    </tr>\n",
       "    <tr>\n",
       "      <th>5</th>\n",
       "      <td>415.0</td>\n",
       "      <td>87205.0</td>\n",
       "      <td>8.862714</td>\n",
       "      <td>2.397000</td>\n",
       "      <td>-2.525647</td>\n",
       "      <td>-4.071080</td>\n",
       "      <td>-0.864252</td>\n",
       "      <td>-4.617552</td>\n",
       "      <td>-2.782691</td>\n",
       "      <td>-1.040644</td>\n",
       "      <td>...</td>\n",
       "      <td>-0.404056</td>\n",
       "      <td>-0.551660</td>\n",
       "      <td>2.075271</td>\n",
       "      <td>0.000668</td>\n",
       "      <td>-0.348166</td>\n",
       "      <td>0.626063</td>\n",
       "      <td>0.927877</td>\n",
       "      <td>-0.331128</td>\n",
       "      <td>-3.277478</td>\n",
       "      <td>-1.555419</td>\n",
       "    </tr>\n",
       "    <tr>\n",
       "      <th>6</th>\n",
       "      <td>649.0</td>\n",
       "      <td>233470.0</td>\n",
       "      <td>-2.835145</td>\n",
       "      <td>-5.281062</td>\n",
       "      <td>-7.043384</td>\n",
       "      <td>-0.512602</td>\n",
       "      <td>2.296744</td>\n",
       "      <td>-1.142827</td>\n",
       "      <td>-2.962854</td>\n",
       "      <td>-0.268313</td>\n",
       "      <td>...</td>\n",
       "      <td>1.899525</td>\n",
       "      <td>1.989843</td>\n",
       "      <td>-1.258359</td>\n",
       "      <td>0.170512</td>\n",
       "      <td>-0.615520</td>\n",
       "      <td>0.752602</td>\n",
       "      <td>0.211670</td>\n",
       "      <td>-0.483292</td>\n",
       "      <td>-0.921171</td>\n",
       "      <td>0.454838</td>\n",
       "    </tr>\n",
       "    <tr>\n",
       "      <th>7</th>\n",
       "      <td>1044.0</td>\n",
       "      <td>157541.0</td>\n",
       "      <td>3.682675</td>\n",
       "      <td>-9.746256</td>\n",
       "      <td>0.149198</td>\n",
       "      <td>1.933824</td>\n",
       "      <td>-0.341727</td>\n",
       "      <td>3.407132</td>\n",
       "      <td>-2.794782</td>\n",
       "      <td>-6.286205</td>\n",
       "      <td>...</td>\n",
       "      <td>-0.623213</td>\n",
       "      <td>-2.712119</td>\n",
       "      <td>-1.166157</td>\n",
       "      <td>1.074452</td>\n",
       "      <td>1.527807</td>\n",
       "      <td>0.549764</td>\n",
       "      <td>-0.986087</td>\n",
       "      <td>2.266890</td>\n",
       "      <td>1.245560</td>\n",
       "      <td>-1.567333</td>\n",
       "    </tr>\n",
       "  </tbody>\n",
       "</table>\n",
       "<p>8 rows × 30 columns</p>\n",
       "</div>"
      ],
      "text/plain": [
       "   Unnamed: 0  article_id          0         1         2         3         4  \\\n",
       "0        91.0     96755.0   0.561682 -0.275829 -2.484952  2.326820  1.080367   \n",
       "1       118.0     87224.0  12.974573 -0.266871 -0.086326 -6.449033  1.612581   \n",
       "2       151.0    313996.0  -2.867847  0.503823  6.272486 -7.839911  1.613139   \n",
       "3       342.0    160158.0   6.480545 -4.083380  0.654248  3.155655 -0.659966   \n",
       "4       390.0     68866.0   3.240392 -6.334606 -0.932952  0.314616  0.613342   \n",
       "5       415.0     87205.0   8.862714  2.397000 -2.525647 -4.071080 -0.864252   \n",
       "6       649.0    233470.0  -2.835145 -5.281062 -7.043384 -0.512602  2.296744   \n",
       "7      1044.0    157541.0   3.682675 -9.746256  0.149198  1.933824 -0.341727   \n",
       "\n",
       "          5         6         7  ...        18        19        20        21  \\\n",
       "0  4.866472 -5.229543 -5.192376  ...  0.329746 -3.478764 -1.051035  2.468488   \n",
       "1 -3.143589  2.005225  2.320927  ... -0.062828  0.491927  1.320311 -0.279294   \n",
       "2  2.343978 -1.711982 -0.474289  ...  1.224098 -0.191985 -3.733354 -1.048811   \n",
       "3 -1.529571 -2.350570 -4.173399  ... -2.227591 -2.171608  2.059141  0.832706   \n",
       "4  3.718720 -3.099787 -4.327018  ... -0.148392  0.577484 -1.184876 -0.828646   \n",
       "5 -4.617552 -2.782691 -1.040644  ... -0.404056 -0.551660  2.075271  0.000668   \n",
       "6 -1.142827 -2.962854 -0.268313  ...  1.899525  1.989843 -1.258359  0.170512   \n",
       "7  3.407132 -2.794782 -6.286205  ... -0.623213 -2.712119 -1.166157  1.074452   \n",
       "\n",
       "         22        23        24        25        26        27  \n",
       "0  3.284795  2.057707 -2.195386 -0.527600  1.366029 -0.916289  \n",
       "1  1.075975  1.310596  0.850697  0.731010 -1.016009  0.695753  \n",
       "2 -2.833148  2.884380  0.941439 -1.637126  1.563002 -1.991673  \n",
       "3  0.577733 -0.005742  1.812651  1.363653  2.524569  1.498322  \n",
       "4  1.047456 -1.020450 -2.041848  1.647254  0.808552 -0.696717  \n",
       "5 -0.348166  0.626063  0.927877 -0.331128 -3.277478 -1.555419  \n",
       "6 -0.615520  0.752602  0.211670 -0.483292 -0.921171  0.454838  \n",
       "7  1.527807  0.549764 -0.986087  2.266890  1.245560 -1.567333  \n",
       "\n",
       "[8 rows x 30 columns]"
      ]
     },
     "execution_count": 47,
     "metadata": {},
     "output_type": "execute_result"
    }
   ],
   "source": [
    "test2"
   ]
  },
  {
   "cell_type": "code",
   "execution_count": 30,
   "metadata": {},
   "outputs": [
    {
     "data": {
      "text/html": [
       "<div>\n",
       "<style scoped>\n",
       "    .dataframe tbody tr th:only-of-type {\n",
       "        vertical-align: middle;\n",
       "    }\n",
       "\n",
       "    .dataframe tbody tr th {\n",
       "        vertical-align: top;\n",
       "    }\n",
       "\n",
       "    .dataframe thead th {\n",
       "        text-align: right;\n",
       "    }\n",
       "</style>\n",
       "<table border=\"1\" class=\"dataframe\">\n",
       "  <thead>\n",
       "    <tr style=\"text-align: right;\">\n",
       "      <th></th>\n",
       "      <th>Unnamed: 0</th>\n",
       "      <th>article_id</th>\n",
       "      <th>0</th>\n",
       "      <th>1</th>\n",
       "      <th>2</th>\n",
       "      <th>3</th>\n",
       "      <th>4</th>\n",
       "      <th>5</th>\n",
       "      <th>6</th>\n",
       "      <th>7</th>\n",
       "      <th>...</th>\n",
       "      <th>18</th>\n",
       "      <th>19</th>\n",
       "      <th>20</th>\n",
       "      <th>21</th>\n",
       "      <th>22</th>\n",
       "      <th>23</th>\n",
       "      <th>24</th>\n",
       "      <th>25</th>\n",
       "      <th>26</th>\n",
       "      <th>27</th>\n",
       "    </tr>\n",
       "  </thead>\n",
       "  <tbody>\n",
       "    <tr>\n",
       "      <th>0</th>\n",
       "      <td>0.0</td>\n",
       "      <td>160974.0</td>\n",
       "      <td>4.409818</td>\n",
       "      <td>-6.639122</td>\n",
       "      <td>0.926427</td>\n",
       "      <td>2.431026</td>\n",
       "      <td>0.762038</td>\n",
       "      <td>1.969448</td>\n",
       "      <td>-5.136955</td>\n",
       "      <td>-6.181464</td>\n",
       "      <td>...</td>\n",
       "      <td>-1.453939</td>\n",
       "      <td>0.118815</td>\n",
       "      <td>0.335479</td>\n",
       "      <td>-0.070646</td>\n",
       "      <td>1.174920</td>\n",
       "      <td>-0.108625</td>\n",
       "      <td>-1.098951</td>\n",
       "      <td>0.099952</td>\n",
       "      <td>1.184398</td>\n",
       "      <td>-0.944156</td>\n",
       "    </tr>\n",
       "    <tr>\n",
       "      <th>1</th>\n",
       "      <td>1.0</td>\n",
       "      <td>272143.0</td>\n",
       "      <td>0.365748</td>\n",
       "      <td>-1.039532</td>\n",
       "      <td>-5.728983</td>\n",
       "      <td>1.457015</td>\n",
       "      <td>1.994284</td>\n",
       "      <td>-2.534556</td>\n",
       "      <td>1.640267</td>\n",
       "      <td>-0.554919</td>\n",
       "      <td>...</td>\n",
       "      <td>-1.248821</td>\n",
       "      <td>5.384028</td>\n",
       "      <td>1.423406</td>\n",
       "      <td>2.994571</td>\n",
       "      <td>-0.059741</td>\n",
       "      <td>0.665796</td>\n",
       "      <td>0.391135</td>\n",
       "      <td>-3.153799</td>\n",
       "      <td>-0.309379</td>\n",
       "      <td>-0.486747</td>\n",
       "    </tr>\n",
       "    <tr>\n",
       "      <th>2</th>\n",
       "      <td>2.0</td>\n",
       "      <td>336221.0</td>\n",
       "      <td>1.966327</td>\n",
       "      <td>-0.415705</td>\n",
       "      <td>1.047224</td>\n",
       "      <td>-7.377117</td>\n",
       "      <td>1.946469</td>\n",
       "      <td>-7.320769</td>\n",
       "      <td>2.086489</td>\n",
       "      <td>-0.853537</td>\n",
       "      <td>...</td>\n",
       "      <td>-3.561550</td>\n",
       "      <td>2.487598</td>\n",
       "      <td>2.985157</td>\n",
       "      <td>-1.030350</td>\n",
       "      <td>-0.614082</td>\n",
       "      <td>-1.822304</td>\n",
       "      <td>-1.391730</td>\n",
       "      <td>2.946549</td>\n",
       "      <td>-0.869125</td>\n",
       "      <td>-0.144329</td>\n",
       "    </tr>\n",
       "    <tr>\n",
       "      <th>3</th>\n",
       "      <td>3.0</td>\n",
       "      <td>234698.0</td>\n",
       "      <td>2.178805</td>\n",
       "      <td>-5.133606</td>\n",
       "      <td>0.382549</td>\n",
       "      <td>2.705868</td>\n",
       "      <td>0.959321</td>\n",
       "      <td>-2.768934</td>\n",
       "      <td>1.368384</td>\n",
       "      <td>-6.675447</td>\n",
       "      <td>...</td>\n",
       "      <td>0.066011</td>\n",
       "      <td>1.693189</td>\n",
       "      <td>-0.677566</td>\n",
       "      <td>0.439447</td>\n",
       "      <td>0.272845</td>\n",
       "      <td>2.698020</td>\n",
       "      <td>-0.082876</td>\n",
       "      <td>-3.704268</td>\n",
       "      <td>1.153967</td>\n",
       "      <td>1.460297</td>\n",
       "    </tr>\n",
       "    <tr>\n",
       "      <th>4</th>\n",
       "      <td>4.0</td>\n",
       "      <td>123909.0</td>\n",
       "      <td>-4.758974</td>\n",
       "      <td>3.375851</td>\n",
       "      <td>-5.330550</td>\n",
       "      <td>0.963728</td>\n",
       "      <td>0.857619</td>\n",
       "      <td>-2.149371</td>\n",
       "      <td>-4.398415</td>\n",
       "      <td>1.647194</td>\n",
       "      <td>...</td>\n",
       "      <td>0.676664</td>\n",
       "      <td>-2.375500</td>\n",
       "      <td>0.155846</td>\n",
       "      <td>-2.247731</td>\n",
       "      <td>2.054658</td>\n",
       "      <td>0.100919</td>\n",
       "      <td>-1.886052</td>\n",
       "      <td>-0.242966</td>\n",
       "      <td>-2.032787</td>\n",
       "      <td>-0.883262</td>\n",
       "    </tr>\n",
       "    <tr>\n",
       "      <th>...</th>\n",
       "      <td>...</td>\n",
       "      <td>...</td>\n",
       "      <td>...</td>\n",
       "      <td>...</td>\n",
       "      <td>...</td>\n",
       "      <td>...</td>\n",
       "      <td>...</td>\n",
       "      <td>...</td>\n",
       "      <td>...</td>\n",
       "      <td>...</td>\n",
       "      <td>...</td>\n",
       "      <td>...</td>\n",
       "      <td>...</td>\n",
       "      <td>...</td>\n",
       "      <td>...</td>\n",
       "      <td>...</td>\n",
       "      <td>...</td>\n",
       "      <td>...</td>\n",
       "      <td>...</td>\n",
       "      <td>...</td>\n",
       "      <td>...</td>\n",
       "    </tr>\n",
       "    <tr>\n",
       "      <th>46028</th>\n",
       "      <td>46028.0</td>\n",
       "      <td>3306.0</td>\n",
       "      <td>-7.646194</td>\n",
       "      <td>-1.915921</td>\n",
       "      <td>-2.415429</td>\n",
       "      <td>2.103166</td>\n",
       "      <td>-2.557936</td>\n",
       "      <td>1.708440</td>\n",
       "      <td>-0.197465</td>\n",
       "      <td>-6.371129</td>\n",
       "      <td>...</td>\n",
       "      <td>1.719261</td>\n",
       "      <td>1.068312</td>\n",
       "      <td>-0.154430</td>\n",
       "      <td>-1.334877</td>\n",
       "      <td>-2.746202</td>\n",
       "      <td>-1.773311</td>\n",
       "      <td>-1.291318</td>\n",
       "      <td>4.831487</td>\n",
       "      <td>2.185073</td>\n",
       "      <td>0.197575</td>\n",
       "    </tr>\n",
       "    <tr>\n",
       "      <th>46029</th>\n",
       "      <td>46029.0</td>\n",
       "      <td>166713.0</td>\n",
       "      <td>3.677934</td>\n",
       "      <td>-0.110976</td>\n",
       "      <td>3.636587</td>\n",
       "      <td>9.289109</td>\n",
       "      <td>4.806588</td>\n",
       "      <td>-6.590909</td>\n",
       "      <td>-3.193905</td>\n",
       "      <td>-1.679668</td>\n",
       "      <td>...</td>\n",
       "      <td>3.856145</td>\n",
       "      <td>0.613967</td>\n",
       "      <td>1.000408</td>\n",
       "      <td>3.482371</td>\n",
       "      <td>2.995691</td>\n",
       "      <td>-1.207539</td>\n",
       "      <td>1.161455</td>\n",
       "      <td>-1.122588</td>\n",
       "      <td>1.472571</td>\n",
       "      <td>3.353741</td>\n",
       "    </tr>\n",
       "    <tr>\n",
       "      <th>46030</th>\n",
       "      <td>46030.0</td>\n",
       "      <td>214721.0</td>\n",
       "      <td>3.587205</td>\n",
       "      <td>-4.128772</td>\n",
       "      <td>5.178397</td>\n",
       "      <td>1.385262</td>\n",
       "      <td>-1.710381</td>\n",
       "      <td>-2.418609</td>\n",
       "      <td>-0.360348</td>\n",
       "      <td>-6.810805</td>\n",
       "      <td>...</td>\n",
       "      <td>-0.495343</td>\n",
       "      <td>1.340402</td>\n",
       "      <td>-1.129253</td>\n",
       "      <td>-0.415873</td>\n",
       "      <td>0.046289</td>\n",
       "      <td>1.978081</td>\n",
       "      <td>1.154006</td>\n",
       "      <td>-0.152191</td>\n",
       "      <td>1.893748</td>\n",
       "      <td>-1.256460</td>\n",
       "    </tr>\n",
       "    <tr>\n",
       "      <th>46031</th>\n",
       "      <td>46031.0</td>\n",
       "      <td>350088.0</td>\n",
       "      <td>-6.284720</td>\n",
       "      <td>-2.794149</td>\n",
       "      <td>1.320273</td>\n",
       "      <td>2.022784</td>\n",
       "      <td>-2.384351</td>\n",
       "      <td>0.463877</td>\n",
       "      <td>0.921245</td>\n",
       "      <td>3.341046</td>\n",
       "      <td>...</td>\n",
       "      <td>-3.389887</td>\n",
       "      <td>-1.733202</td>\n",
       "      <td>-1.714559</td>\n",
       "      <td>2.399443</td>\n",
       "      <td>1.506086</td>\n",
       "      <td>3.524483</td>\n",
       "      <td>3.214269</td>\n",
       "      <td>-1.433440</td>\n",
       "      <td>2.691557</td>\n",
       "      <td>0.330595</td>\n",
       "    </tr>\n",
       "    <tr>\n",
       "      <th>46032</th>\n",
       "      <td>46032.0</td>\n",
       "      <td>98243.0</td>\n",
       "      <td>18.774651</td>\n",
       "      <td>22.010057</td>\n",
       "      <td>0.162389</td>\n",
       "      <td>7.780192</td>\n",
       "      <td>-1.426129</td>\n",
       "      <td>3.477725</td>\n",
       "      <td>1.336624</td>\n",
       "      <td>-2.746087</td>\n",
       "      <td>...</td>\n",
       "      <td>-0.791448</td>\n",
       "      <td>0.272792</td>\n",
       "      <td>-1.673623</td>\n",
       "      <td>-1.809606</td>\n",
       "      <td>-0.729467</td>\n",
       "      <td>-3.076868</td>\n",
       "      <td>-0.644314</td>\n",
       "      <td>-0.447889</td>\n",
       "      <td>-0.323034</td>\n",
       "      <td>-1.387186</td>\n",
       "    </tr>\n",
       "  </tbody>\n",
       "</table>\n",
       "<p>46033 rows × 30 columns</p>\n",
       "</div>"
      ],
      "text/plain": [
       "       Unnamed: 0  article_id          0          1         2         3  \\\n",
       "0             0.0    160974.0   4.409818  -6.639122  0.926427  2.431026   \n",
       "1             1.0    272143.0   0.365748  -1.039532 -5.728983  1.457015   \n",
       "2             2.0    336221.0   1.966327  -0.415705  1.047224 -7.377117   \n",
       "3             3.0    234698.0   2.178805  -5.133606  0.382549  2.705868   \n",
       "4             4.0    123909.0  -4.758974   3.375851 -5.330550  0.963728   \n",
       "...           ...         ...        ...        ...       ...       ...   \n",
       "46028     46028.0      3306.0  -7.646194  -1.915921 -2.415429  2.103166   \n",
       "46029     46029.0    166713.0   3.677934  -0.110976  3.636587  9.289109   \n",
       "46030     46030.0    214721.0   3.587205  -4.128772  5.178397  1.385262   \n",
       "46031     46031.0    350088.0  -6.284720  -2.794149  1.320273  2.022784   \n",
       "46032     46032.0     98243.0  18.774651  22.010057  0.162389  7.780192   \n",
       "\n",
       "              4         5         6         7  ...        18        19  \\\n",
       "0      0.762038  1.969448 -5.136955 -6.181464  ... -1.453939  0.118815   \n",
       "1      1.994284 -2.534556  1.640267 -0.554919  ... -1.248821  5.384028   \n",
       "2      1.946469 -7.320769  2.086489 -0.853537  ... -3.561550  2.487598   \n",
       "3      0.959321 -2.768934  1.368384 -6.675447  ...  0.066011  1.693189   \n",
       "4      0.857619 -2.149371 -4.398415  1.647194  ...  0.676664 -2.375500   \n",
       "...         ...       ...       ...       ...  ...       ...       ...   \n",
       "46028 -2.557936  1.708440 -0.197465 -6.371129  ...  1.719261  1.068312   \n",
       "46029  4.806588 -6.590909 -3.193905 -1.679668  ...  3.856145  0.613967   \n",
       "46030 -1.710381 -2.418609 -0.360348 -6.810805  ... -0.495343  1.340402   \n",
       "46031 -2.384351  0.463877  0.921245  3.341046  ... -3.389887 -1.733202   \n",
       "46032 -1.426129  3.477725  1.336624 -2.746087  ... -0.791448  0.272792   \n",
       "\n",
       "             20        21        22        23        24        25        26  \\\n",
       "0      0.335479 -0.070646  1.174920 -0.108625 -1.098951  0.099952  1.184398   \n",
       "1      1.423406  2.994571 -0.059741  0.665796  0.391135 -3.153799 -0.309379   \n",
       "2      2.985157 -1.030350 -0.614082 -1.822304 -1.391730  2.946549 -0.869125   \n",
       "3     -0.677566  0.439447  0.272845  2.698020 -0.082876 -3.704268  1.153967   \n",
       "4      0.155846 -2.247731  2.054658  0.100919 -1.886052 -0.242966 -2.032787   \n",
       "...         ...       ...       ...       ...       ...       ...       ...   \n",
       "46028 -0.154430 -1.334877 -2.746202 -1.773311 -1.291318  4.831487  2.185073   \n",
       "46029  1.000408  3.482371  2.995691 -1.207539  1.161455 -1.122588  1.472571   \n",
       "46030 -1.129253 -0.415873  0.046289  1.978081  1.154006 -0.152191  1.893748   \n",
       "46031 -1.714559  2.399443  1.506086  3.524483  3.214269 -1.433440  2.691557   \n",
       "46032 -1.673623 -1.809606 -0.729467 -3.076868 -0.644314 -0.447889 -0.323034   \n",
       "\n",
       "             27  \n",
       "0     -0.944156  \n",
       "1     -0.486747  \n",
       "2     -0.144329  \n",
       "3      1.460297  \n",
       "4     -0.883262  \n",
       "...         ...  \n",
       "46028  0.197575  \n",
       "46029  3.353741  \n",
       "46030 -1.256460  \n",
       "46031  0.330595  \n",
       "46032 -1.387186  \n",
       "\n",
       "[46033 rows x 30 columns]"
      ]
     },
     "execution_count": 30,
     "metadata": {},
     "output_type": "execute_result"
    }
   ],
   "source": [
    "df_arts_embedd_acp"
   ]
  },
  {
   "cell_type": "code",
   "execution_count": 48,
   "metadata": {},
   "outputs": [],
   "source": [
    "arts_embedd_acp = df_arts_embedd_acp[[ '0', '1', '2', '3', '4', '5', '6', '7', '8', '9', '10',\n",
    "       '11', '12', '13', '14', '15', '16', '17', '18', '19', '20', '21', '22',\n",
    "       '23', '24', '25', '26', '27']].to_numpy(dtype = np.float32)\n",
    "       #, '28', '29', '30', '31', '32', '33', '34',\n",
    "       #'35', '36', '37', '38', '39', '40', '41', '42', '43', '44', '45', '46',\n",
    "       #'47', '48', '49', '50', '51']]"
   ]
  },
  {
   "cell_type": "code",
   "execution_count": 51,
   "metadata": {},
   "outputs": [],
   "source": [
    "from sklearn.metrics.pairwise import cosine_similarity\n",
    "\n",
    "cosine_sim = cosine_similarity(arts_embedd_acp_user,arts_embedd_acp, dense_output=False)\n",
    "#cosine_sim[:4, :4]"
   ]
  },
  {
   "cell_type": "code",
   "execution_count": 52,
   "metadata": {},
   "outputs": [
    {
     "data": {
      "text/plain": [
       "1169"
      ]
     },
     "execution_count": 52,
     "metadata": {},
     "output_type": "execute_result"
    }
   ],
   "source": [
    "import gc\n",
    "\n",
    "gc.collect()"
   ]
  },
  {
   "cell_type": "code",
   "execution_count": 53,
   "metadata": {},
   "outputs": [
    {
     "data": {
      "text/plain": [
       "(8, 46033)"
      ]
     },
     "execution_count": 53,
     "metadata": {},
     "output_type": "execute_result"
    }
   ],
   "source": [
    "cosine_sim.shape"
   ]
  },
  {
   "cell_type": "code",
   "execution_count": 54,
   "metadata": {},
   "outputs": [
    {
     "data": {
      "text/plain": [
       "array([[ 0.29881242, -0.14770515, -0.2578657 , ..., -0.04702142,\n",
       "         0.00357909,  0.00551729],\n",
       "       [ 0.0409651 ,  0.04564605,  0.42561138, ...,  0.03602111,\n",
       "        -0.400014  ,  0.31663114],\n",
       "       [ 0.05634588, -0.20332658,  0.09772368, ...,  0.10245783,\n",
       "         0.02738835, -0.19475408],\n",
       "       ...,\n",
       "       [ 0.14376326,  0.30550078,  0.12916481, ...,  0.07079153,\n",
       "        -0.58892393,  0.32997322],\n",
       "       [ 0.09270505,  0.17946696, -0.01115231, ..., -0.03619114,\n",
       "         0.1612081 , -0.430581  ],\n",
       "       [ 0.8637879 ,  0.06300095, -0.04006108, ...,  0.59757257,\n",
       "        -0.02668777, -0.20483032]], dtype=float32)"
      ]
     },
     "execution_count": 54,
     "metadata": {},
     "output_type": "execute_result"
    }
   ],
   "source": [
    "cosine_sim"
   ]
  },
  {
   "cell_type": "markdown",
   "metadata": {},
   "source": [
    "Maintenant que nous avons notre matrice de similarité, nous pouvons calculer les articles recommandés."
   ]
  },
  {
   "cell_type": "code",
   "execution_count": 62,
   "metadata": {},
   "outputs": [],
   "source": [
    "sim_scores = sorted(cosine_sim, key=lambda x: x[1], reverse=True)\n",
    "sim_scores = sim_scores[1:6]"
   ]
  },
  {
   "cell_type": "code",
   "execution_count": null,
   "metadata": {},
   "outputs": [
    {
     "data": {
      "text/plain": [
       "(2950710,)"
      ]
     },
     "execution_count": 78,
     "metadata": {},
     "output_type": "execute_result"
    }
   ],
   "source": [
    "dfs_user_art['click_article_id'].shape"
   ]
  },
  {
   "cell_type": "code",
   "execution_count": 128,
   "metadata": {},
   "outputs": [],
   "source": [
    "arts = pd.DataFrame(arts)"
   ]
  },
  {
   "cell_type": "code",
   "execution_count": 28,
   "metadata": {},
   "outputs": [
    {
     "data": {
      "text/plain": [
       "Int64Index([160974, 272143, 336221, 234698, 123909, 336223,  96210, 162655,\n",
       "            183176, 168623,\n",
       "            ...\n",
       "             15321, 296434, 296397, 350748, 106815,   3306, 166713, 214721,\n",
       "            350088,  98243],\n",
       "           dtype='int64', length=46033)"
      ]
     },
     "execution_count": 28,
     "metadata": {},
     "output_type": "execute_result"
    }
   ],
   "source": [
    "arts"
   ]
  },
  {
   "cell_type": "code",
   "execution_count": 70,
   "metadata": {},
   "outputs": [],
   "source": [
    "titles = test2['article_id']\n",
    "indices = pd.Series(range(0,8), index=titles)"
   ]
  },
  {
   "cell_type": "code",
   "execution_count": 76,
   "metadata": {},
   "outputs": [
    {
     "data": {
      "text/plain": [
       "8"
      ]
     },
     "execution_count": 76,
     "metadata": {},
     "output_type": "execute_result"
    }
   ],
   "source": [
    "len(titles)"
   ]
  },
  {
   "cell_type": "code",
   "execution_count": 71,
   "metadata": {},
   "outputs": [
    {
     "data": {
      "text/plain": [
       "article_id\n",
       "96755.0     0\n",
       "87224.0     1\n",
       "313996.0    2\n",
       "160158.0    3\n",
       "68866.0     4\n",
       "87205.0     5\n",
       "233470.0    6\n",
       "157541.0    7\n",
       "dtype: int64"
      ]
     },
     "execution_count": 71,
     "metadata": {},
     "output_type": "execute_result"
    }
   ],
   "source": [
    "indices"
   ]
  },
  {
   "cell_type": "code",
   "execution_count": 57,
   "metadata": {},
   "outputs": [
    {
     "data": {
      "text/plain": [
       "0"
      ]
     },
     "execution_count": 57,
     "metadata": {},
     "output_type": "execute_result"
    }
   ],
   "source": [
    "gc.collect()"
   ]
  },
  {
   "cell_type": "code",
   "execution_count": 37,
   "metadata": {},
   "outputs": [
    {
     "data": {
      "text/plain": [
       "(46033, 46033)"
      ]
     },
     "execution_count": 37,
     "metadata": {},
     "output_type": "execute_result"
    }
   ],
   "source": [
    "cosine_sim.shape"
   ]
  },
  {
   "cell_type": "markdown",
   "metadata": {},
   "source": [
    "Livre recommandé"
   ]
  },
  {
   "cell_type": "code",
   "execution_count": 72,
   "metadata": {},
   "outputs": [],
   "source": [
    "def arts_recommendations(x):\n",
    "    idx = indices[x]\n",
    "    sim_scores = list(enumerate(cosine_sim[idx]))\n",
    "    sim_scores = sorted(sim_scores, key=lambda x: x[1], reverse=True)\n",
    "    sim_scores = sim_scores[1:21]\n",
    "    movie_indices = [i[0] for i in sim_scores]\n",
    "    return sim_scores#x.iloc[movie_indices]"
   ]
  },
  {
   "cell_type": "markdown",
   "metadata": {},
   "source": [
    "Livres recommandés par user"
   ]
  },
  {
   "cell_type": "code",
   "execution_count": 78,
   "metadata": {},
   "outputs": [],
   "source": [
    "def user_recommendation(x):\n",
    "    reco = []\n",
    "    user_arts = user(x)\n",
    "    for art in user_arts[\"click_article_id\"]:\n",
    "        livre = arts_recommendations(art)\n",
    "        reco.append(livre[0])\n",
    "    sim_scores = sorted(reco, key=lambda x: x[1], reverse=True)\n",
    "    sim_scores = sim_scores[1:6]\n",
    "    return sim_scores"
   ]
  },
  {
   "cell_type": "markdown",
   "metadata": {},
   "source": [
    "Test d'un user"
   ]
  },
  {
   "cell_type": "code",
   "execution_count": 44,
   "metadata": {},
   "outputs": [
    {
     "data": {
      "text/plain": [
       "[(36168, 0.9336822),\n",
       " (22832, 0.92724484),\n",
       " (36326, 0.91790175),\n",
       " (23140, 0.91421944),\n",
       " (2247, 0.87370986)]"
      ]
     },
     "execution_count": 44,
     "metadata": {},
     "output_type": "execute_result"
    }
   ],
   "source": [
    "user_recommendation(0)"
   ]
  },
  {
   "cell_type": "code",
   "execution_count": 147,
   "metadata": {},
   "outputs": [
    {
     "data": {
      "text/plain": [
       "7"
      ]
     },
     "execution_count": 147,
     "metadata": {},
     "output_type": "execute_result"
    }
   ],
   "source": [
    "gc.collect()"
   ]
  },
  {
   "cell_type": "code",
   "execution_count": 94,
   "metadata": {},
   "outputs": [],
   "source": [
    "result = user_recommendation(0)"
   ]
  },
  {
   "cell_type": "markdown",
   "metadata": {},
   "source": [
    "Essayons de passer nos résultats en json pour que la création de notre azure fonction aille plus vite."
   ]
  },
  {
   "cell_type": "code",
   "execution_count": 116,
   "metadata": {},
   "outputs": [],
   "source": [
    "json_result = []\n",
    "for i in result:\n",
    "    json_result.append({\"article_id\":i[0], \"cosine_similarity\":str(i[1])})\n"
   ]
  },
  {
   "cell_type": "code",
   "execution_count": null,
   "metadata": {},
   "outputs": [],
   "source": [
    "import json\n",
    "jsonStr = json.dumps(json_result)"
   ]
  },
  {
   "cell_type": "code",
   "execution_count": 118,
   "metadata": {},
   "outputs": [
    {
     "name": "stdout",
     "output_type": "stream",
     "text": [
      "[{\"article_id\": 36168, \"cosine_similarity\": \"0.9336822\"}, {\"article_id\": 22832, \"cosine_similarity\": \"0.92724484\"}, {\"article_id\": 36326, \"cosine_similarity\": \"0.91790175\"}, {\"article_id\": 23140, \"cosine_similarity\": \"0.91421944\"}, {\"article_id\": 2247, \"cosine_similarity\": \"0.87371\"}]\n"
     ]
    }
   ],
   "source": [
    "print(jsonStr)"
   ]
  },
  {
   "cell_type": "markdown",
   "metadata": {},
   "source": [
    "Nous avons pu facilement réaliser un algorithme afin d'obtenir des recommandations par utilisateur basé sur le contenu. Passons à une méthode plus poussé avec l'utilisation de modèle : le filtering collaborative"
   ]
  },
  {
   "cell_type": "markdown",
   "metadata": {},
   "source": [
    "###  Collaborative Filtering"
   ]
  },
  {
   "cell_type": "markdown",
   "metadata": {},
   "source": [
    "Nous allons comparer deux modèles : SVD et NMF."
   ]
  },
  {
   "cell_type": "markdown",
   "metadata": {},
   "source": [
    "SVD : L'un des systèmes de recommandation les plus puissants est le modèle SVD. SVD est une forme de factorisation matricielle qui utilise la descente de gradient pour créer des prédictions pour les notes des utilisateurs, tout en minimisant l'erreur entre les notes prédites et les notes réelles de notre matrice d'utilité d'origine. En conséquence, la descente de gradient minimise la RMSE lors de la prédiction de ces nouvelles notes.\n",
    "\n",
    "NMF :  NMF est assez similaire à SVD sauf que nous allons chercher les matrices avec des nombres supérieur à 0, autrement dit nous recherchons une matrice de factorisation non-negative."
   ]
  },
  {
   "cell_type": "code",
   "execution_count": null,
   "metadata": {},
   "outputs": [
    {
     "data": {
      "text/html": [
       "<div>\n",
       "<style scoped>\n",
       "    .dataframe tbody tr th:only-of-type {\n",
       "        vertical-align: middle;\n",
       "    }\n",
       "\n",
       "    .dataframe tbody tr th {\n",
       "        vertical-align: top;\n",
       "    }\n",
       "\n",
       "    .dataframe thead th {\n",
       "        text-align: right;\n",
       "    }\n",
       "</style>\n",
       "<table border=\"1\" class=\"dataframe\">\n",
       "  <thead>\n",
       "    <tr style=\"text-align: right;\">\n",
       "      <th></th>\n",
       "      <th>user_id</th>\n",
       "      <th>click_article_id</th>\n",
       "      <th>nb_click_by_arts</th>\n",
       "    </tr>\n",
       "  </thead>\n",
       "  <tbody>\n",
       "    <tr>\n",
       "      <th>0</th>\n",
       "      <td>0</td>\n",
       "      <td>68866</td>\n",
       "      <td>1</td>\n",
       "    </tr>\n",
       "    <tr>\n",
       "      <th>1</th>\n",
       "      <td>0</td>\n",
       "      <td>87205</td>\n",
       "      <td>1</td>\n",
       "    </tr>\n",
       "  </tbody>\n",
       "</table>\n",
       "</div>"
      ],
      "text/plain": [
       "   user_id  click_article_id  nb_click_by_arts\n",
       "0        0             68866                 1\n",
       "1        0             87205                 1"
      ]
     },
     "execution_count": 153,
     "metadata": {},
     "output_type": "execute_result"
    }
   ],
   "source": [
    "dfs_user_art.head(2)"
   ]
  },
  {
   "cell_type": "code",
   "execution_count": null,
   "metadata": {},
   "outputs": [
    {
     "data": {
      "text/html": [
       "<div>\n",
       "<style scoped>\n",
       "    .dataframe tbody tr th:only-of-type {\n",
       "        vertical-align: middle;\n",
       "    }\n",
       "\n",
       "    .dataframe tbody tr th {\n",
       "        vertical-align: top;\n",
       "    }\n",
       "\n",
       "    .dataframe thead th {\n",
       "        text-align: right;\n",
       "    }\n",
       "</style>\n",
       "<table border=\"1\" class=\"dataframe\">\n",
       "  <thead>\n",
       "    <tr style=\"text-align: right;\">\n",
       "      <th></th>\n",
       "      <th>user_id</th>\n",
       "      <th>click_article_id</th>\n",
       "      <th>nb_click_by_arts</th>\n",
       "    </tr>\n",
       "  </thead>\n",
       "  <tbody>\n",
       "    <tr>\n",
       "      <th>0</th>\n",
       "      <td>0</td>\n",
       "      <td>68866</td>\n",
       "      <td>1</td>\n",
       "    </tr>\n",
       "    <tr>\n",
       "      <th>1</th>\n",
       "      <td>0</td>\n",
       "      <td>87205</td>\n",
       "      <td>1</td>\n",
       "    </tr>\n",
       "    <tr>\n",
       "      <th>2</th>\n",
       "      <td>0</td>\n",
       "      <td>87224</td>\n",
       "      <td>1</td>\n",
       "    </tr>\n",
       "    <tr>\n",
       "      <th>3</th>\n",
       "      <td>0</td>\n",
       "      <td>96755</td>\n",
       "      <td>1</td>\n",
       "    </tr>\n",
       "    <tr>\n",
       "      <th>4</th>\n",
       "      <td>0</td>\n",
       "      <td>157541</td>\n",
       "      <td>1</td>\n",
       "    </tr>\n",
       "    <tr>\n",
       "      <th>...</th>\n",
       "      <td>...</td>\n",
       "      <td>...</td>\n",
       "      <td>...</td>\n",
       "    </tr>\n",
       "    <tr>\n",
       "      <th>2950705</th>\n",
       "      <td>322894</td>\n",
       "      <td>168401</td>\n",
       "      <td>1</td>\n",
       "    </tr>\n",
       "    <tr>\n",
       "      <th>2950706</th>\n",
       "      <td>322895</td>\n",
       "      <td>63746</td>\n",
       "      <td>1</td>\n",
       "    </tr>\n",
       "    <tr>\n",
       "      <th>2950707</th>\n",
       "      <td>322895</td>\n",
       "      <td>289197</td>\n",
       "      <td>1</td>\n",
       "    </tr>\n",
       "    <tr>\n",
       "      <th>2950708</th>\n",
       "      <td>322896</td>\n",
       "      <td>30760</td>\n",
       "      <td>1</td>\n",
       "    </tr>\n",
       "    <tr>\n",
       "      <th>2950709</th>\n",
       "      <td>322896</td>\n",
       "      <td>157507</td>\n",
       "      <td>1</td>\n",
       "    </tr>\n",
       "  </tbody>\n",
       "</table>\n",
       "<p>2950710 rows × 3 columns</p>\n",
       "</div>"
      ],
      "text/plain": [
       "         user_id  click_article_id  nb_click_by_arts\n",
       "0              0             68866                 1\n",
       "1              0             87205                 1\n",
       "2              0             87224                 1\n",
       "3              0             96755                 1\n",
       "4              0            157541                 1\n",
       "...          ...               ...               ...\n",
       "2950705   322894            168401                 1\n",
       "2950706   322895             63746                 1\n",
       "2950707   322895            289197                 1\n",
       "2950708   322896             30760                 1\n",
       "2950709   322896            157507                 1\n",
       "\n",
       "[2950710 rows x 3 columns]"
      ]
     },
     "execution_count": 205,
     "metadata": {},
     "output_type": "execute_result"
    }
   ],
   "source": [
    "dfs_user_art"
   ]
  },
  {
   "cell_type": "code",
   "execution_count": 24,
   "metadata": {},
   "outputs": [
    {
     "name": "stderr",
     "output_type": "stream",
     "text": [
      "C:\\Users\\aurel\\AppData\\Local\\Temp\\ipykernel_20736\\2005646722.py:1: UserWarning: Pandas doesn't allow columns to be created via a new attribute name - see https://pandas.pydata.org/pandas-docs/stable/indexing.html#attribute-access\n",
      "  articles.column = [\"click_article_id\", \"category_id\", \"created_at_ts\", \"words_count\"]\n"
     ]
    }
   ],
   "source": [
    "articles.column = [\"click_article_id\", \"category_id\", \"created_at_ts\", \"words_count\"]"
   ]
  },
  {
   "cell_type": "code",
   "execution_count": 25,
   "metadata": {},
   "outputs": [],
   "source": [
    "dfs_agg_info = dfs_user_art.join(articles, how='left', on='click_article_id', lsuffix=\"_1\")"
   ]
  },
  {
   "cell_type": "code",
   "execution_count": 26,
   "metadata": {},
   "outputs": [
    {
     "data": {
      "text/html": [
       "<div>\n",
       "<style scoped>\n",
       "    .dataframe tbody tr th:only-of-type {\n",
       "        vertical-align: middle;\n",
       "    }\n",
       "\n",
       "    .dataframe tbody tr th {\n",
       "        vertical-align: top;\n",
       "    }\n",
       "\n",
       "    .dataframe thead th {\n",
       "        text-align: right;\n",
       "    }\n",
       "</style>\n",
       "<table border=\"1\" class=\"dataframe\">\n",
       "  <thead>\n",
       "    <tr style=\"text-align: right;\">\n",
       "      <th></th>\n",
       "      <th>Unnamed: 0</th>\n",
       "      <th>user_id</th>\n",
       "      <th>click_article_id_1</th>\n",
       "      <th>nb_click_by_arts</th>\n",
       "      <th>click_article_id</th>\n",
       "      <th>category_id</th>\n",
       "      <th>created_at_ts</th>\n",
       "      <th>publisher_id</th>\n",
       "      <th>words_count</th>\n",
       "    </tr>\n",
       "  </thead>\n",
       "  <tbody>\n",
       "    <tr>\n",
       "      <th>0</th>\n",
       "      <td>0</td>\n",
       "      <td>0</td>\n",
       "      <td>68866</td>\n",
       "      <td>1</td>\n",
       "      <td>68866</td>\n",
       "      <td>136</td>\n",
       "      <td>1506816482000</td>\n",
       "      <td>0</td>\n",
       "      <td>226</td>\n",
       "    </tr>\n",
       "    <tr>\n",
       "      <th>1</th>\n",
       "      <td>1</td>\n",
       "      <td>0</td>\n",
       "      <td>87205</td>\n",
       "      <td>1</td>\n",
       "      <td>87205</td>\n",
       "      <td>186</td>\n",
       "      <td>1507497786000</td>\n",
       "      <td>0</td>\n",
       "      <td>137</td>\n",
       "    </tr>\n",
       "    <tr>\n",
       "      <th>2</th>\n",
       "      <td>2</td>\n",
       "      <td>0</td>\n",
       "      <td>87224</td>\n",
       "      <td>1</td>\n",
       "      <td>87224</td>\n",
       "      <td>186</td>\n",
       "      <td>1507496527000</td>\n",
       "      <td>0</td>\n",
       "      <td>100</td>\n",
       "    </tr>\n",
       "    <tr>\n",
       "      <th>3</th>\n",
       "      <td>3</td>\n",
       "      <td>0</td>\n",
       "      <td>96755</td>\n",
       "      <td>1</td>\n",
       "      <td>96755</td>\n",
       "      <td>209</td>\n",
       "      <td>1507326628000</td>\n",
       "      <td>0</td>\n",
       "      <td>211</td>\n",
       "    </tr>\n",
       "    <tr>\n",
       "      <th>4</th>\n",
       "      <td>4</td>\n",
       "      <td>0</td>\n",
       "      <td>157541</td>\n",
       "      <td>1</td>\n",
       "      <td>157541</td>\n",
       "      <td>281</td>\n",
       "      <td>1506800518000</td>\n",
       "      <td>0</td>\n",
       "      <td>280</td>\n",
       "    </tr>\n",
       "    <tr>\n",
       "      <th>...</th>\n",
       "      <td>...</td>\n",
       "      <td>...</td>\n",
       "      <td>...</td>\n",
       "      <td>...</td>\n",
       "      <td>...</td>\n",
       "      <td>...</td>\n",
       "      <td>...</td>\n",
       "      <td>...</td>\n",
       "      <td>...</td>\n",
       "    </tr>\n",
       "    <tr>\n",
       "      <th>2950705</th>\n",
       "      <td>2950705</td>\n",
       "      <td>322894</td>\n",
       "      <td>168401</td>\n",
       "      <td>1</td>\n",
       "      <td>168401</td>\n",
       "      <td>297</td>\n",
       "      <td>1507663321000</td>\n",
       "      <td>0</td>\n",
       "      <td>215</td>\n",
       "    </tr>\n",
       "    <tr>\n",
       "      <th>2950706</th>\n",
       "      <td>2950706</td>\n",
       "      <td>322895</td>\n",
       "      <td>63746</td>\n",
       "      <td>1</td>\n",
       "      <td>63746</td>\n",
       "      <td>133</td>\n",
       "      <td>1508142585000</td>\n",
       "      <td>0</td>\n",
       "      <td>162</td>\n",
       "    </tr>\n",
       "    <tr>\n",
       "      <th>2950707</th>\n",
       "      <td>2950707</td>\n",
       "      <td>322895</td>\n",
       "      <td>289197</td>\n",
       "      <td>1</td>\n",
       "      <td>289197</td>\n",
       "      <td>418</td>\n",
       "      <td>1508179909000</td>\n",
       "      <td>0</td>\n",
       "      <td>176</td>\n",
       "    </tr>\n",
       "    <tr>\n",
       "      <th>2950708</th>\n",
       "      <td>2950708</td>\n",
       "      <td>322896</td>\n",
       "      <td>30760</td>\n",
       "      <td>1</td>\n",
       "      <td>30760</td>\n",
       "      <td>26</td>\n",
       "      <td>1508185091000</td>\n",
       "      <td>0</td>\n",
       "      <td>162</td>\n",
       "    </tr>\n",
       "    <tr>\n",
       "      <th>2950709</th>\n",
       "      <td>2950709</td>\n",
       "      <td>322896</td>\n",
       "      <td>157507</td>\n",
       "      <td>1</td>\n",
       "      <td>157507</td>\n",
       "      <td>281</td>\n",
       "      <td>1508236945000</td>\n",
       "      <td>0</td>\n",
       "      <td>370</td>\n",
       "    </tr>\n",
       "  </tbody>\n",
       "</table>\n",
       "<p>2950710 rows × 9 columns</p>\n",
       "</div>"
      ],
      "text/plain": [
       "         Unnamed: 0  user_id  click_article_id_1  nb_click_by_arts  \\\n",
       "0                 0        0               68866                 1   \n",
       "1                 1        0               87205                 1   \n",
       "2                 2        0               87224                 1   \n",
       "3                 3        0               96755                 1   \n",
       "4                 4        0              157541                 1   \n",
       "...             ...      ...                 ...               ...   \n",
       "2950705     2950705   322894              168401                 1   \n",
       "2950706     2950706   322895               63746                 1   \n",
       "2950707     2950707   322895              289197                 1   \n",
       "2950708     2950708   322896               30760                 1   \n",
       "2950709     2950709   322896              157507                 1   \n",
       "\n",
       "         click_article_id  category_id  created_at_ts  publisher_id  \\\n",
       "0                   68866          136  1506816482000             0   \n",
       "1                   87205          186  1507497786000             0   \n",
       "2                   87224          186  1507496527000             0   \n",
       "3                   96755          209  1507326628000             0   \n",
       "4                  157541          281  1506800518000             0   \n",
       "...                   ...          ...            ...           ...   \n",
       "2950705            168401          297  1507663321000             0   \n",
       "2950706             63746          133  1508142585000             0   \n",
       "2950707            289197          418  1508179909000             0   \n",
       "2950708             30760           26  1508185091000             0   \n",
       "2950709            157507          281  1508236945000             0   \n",
       "\n",
       "         words_count  \n",
       "0                226  \n",
       "1                137  \n",
       "2                100  \n",
       "3                211  \n",
       "4                280  \n",
       "...              ...  \n",
       "2950705          215  \n",
       "2950706          162  \n",
       "2950707          176  \n",
       "2950708          162  \n",
       "2950709          370  \n",
       "\n",
       "[2950710 rows x 9 columns]"
      ]
     },
     "execution_count": 26,
     "metadata": {},
     "output_type": "execute_result"
    }
   ],
   "source": [
    "dfs_agg_info"
   ]
  },
  {
   "cell_type": "code",
   "execution_count": 27,
   "metadata": {},
   "outputs": [],
   "source": [
    "total_click = dfs_agg[[\"user_id\", \"category_id\", \"rating\" ,\"total_click\"]].drop_duplicates()"
   ]
  },
  {
   "cell_type": "code",
   "execution_count": 28,
   "metadata": {},
   "outputs": [
    {
     "name": "stderr",
     "output_type": "stream",
     "text": [
      "C:\\Users\\aurel\\AppData\\Local\\Temp\\ipykernel_20736\\574683373.py:1: UserWarning: Pandas doesn't allow columns to be created via a new attribute name - see https://pandas.pydata.org/pandas-docs/stable/indexing.html#attribute-access\n",
      "  total_click.column = [\"user_id\", \"category_id\", \"rating_cat\" ,\"total_click\"]\n"
     ]
    }
   ],
   "source": [
    "total_click.column = [\"user_id\", \"category_id\", \"rating_cat\" ,\"total_click\"]"
   ]
  },
  {
   "cell_type": "code",
   "execution_count": 29,
   "metadata": {},
   "outputs": [
    {
     "data": {
      "text/html": [
       "<div>\n",
       "<style scoped>\n",
       "    .dataframe tbody tr th:only-of-type {\n",
       "        vertical-align: middle;\n",
       "    }\n",
       "\n",
       "    .dataframe tbody tr th {\n",
       "        vertical-align: top;\n",
       "    }\n",
       "\n",
       "    .dataframe thead th {\n",
       "        text-align: right;\n",
       "    }\n",
       "</style>\n",
       "<table border=\"1\" class=\"dataframe\">\n",
       "  <thead>\n",
       "    <tr style=\"text-align: right;\">\n",
       "      <th></th>\n",
       "      <th>user_id</th>\n",
       "      <th>category_id</th>\n",
       "      <th>rating</th>\n",
       "      <th>total_click</th>\n",
       "    </tr>\n",
       "  </thead>\n",
       "  <tbody>\n",
       "    <tr>\n",
       "      <th>0</th>\n",
       "      <td>0</td>\n",
       "      <td>136</td>\n",
       "      <td>0.125</td>\n",
       "      <td>8</td>\n",
       "    </tr>\n",
       "    <tr>\n",
       "      <th>1</th>\n",
       "      <td>0</td>\n",
       "      <td>186</td>\n",
       "      <td>0.250</td>\n",
       "      <td>8</td>\n",
       "    </tr>\n",
       "    <tr>\n",
       "      <th>2</th>\n",
       "      <td>0</td>\n",
       "      <td>209</td>\n",
       "      <td>0.125</td>\n",
       "      <td>8</td>\n",
       "    </tr>\n",
       "    <tr>\n",
       "      <th>3</th>\n",
       "      <td>0</td>\n",
       "      <td>281</td>\n",
       "      <td>0.250</td>\n",
       "      <td>8</td>\n",
       "    </tr>\n",
       "    <tr>\n",
       "      <th>4</th>\n",
       "      <td>0</td>\n",
       "      <td>375</td>\n",
       "      <td>0.125</td>\n",
       "      <td>8</td>\n",
       "    </tr>\n",
       "    <tr>\n",
       "      <th>...</th>\n",
       "      <td>...</td>\n",
       "      <td>...</td>\n",
       "      <td>...</td>\n",
       "      <td>...</td>\n",
       "    </tr>\n",
       "    <tr>\n",
       "      <th>1882297</th>\n",
       "      <td>322894</td>\n",
       "      <td>297</td>\n",
       "      <td>0.500</td>\n",
       "      <td>2</td>\n",
       "    </tr>\n",
       "    <tr>\n",
       "      <th>1882298</th>\n",
       "      <td>322895</td>\n",
       "      <td>133</td>\n",
       "      <td>0.500</td>\n",
       "      <td>2</td>\n",
       "    </tr>\n",
       "    <tr>\n",
       "      <th>1882299</th>\n",
       "      <td>322895</td>\n",
       "      <td>418</td>\n",
       "      <td>0.500</td>\n",
       "      <td>2</td>\n",
       "    </tr>\n",
       "    <tr>\n",
       "      <th>1882300</th>\n",
       "      <td>322896</td>\n",
       "      <td>26</td>\n",
       "      <td>0.500</td>\n",
       "      <td>2</td>\n",
       "    </tr>\n",
       "    <tr>\n",
       "      <th>1882301</th>\n",
       "      <td>322896</td>\n",
       "      <td>281</td>\n",
       "      <td>0.500</td>\n",
       "      <td>2</td>\n",
       "    </tr>\n",
       "  </tbody>\n",
       "</table>\n",
       "<p>1882302 rows × 4 columns</p>\n",
       "</div>"
      ],
      "text/plain": [
       "         user_id  category_id  rating  total_click\n",
       "0              0          136   0.125            8\n",
       "1              0          186   0.250            8\n",
       "2              0          209   0.125            8\n",
       "3              0          281   0.250            8\n",
       "4              0          375   0.125            8\n",
       "...          ...          ...     ...          ...\n",
       "1882297   322894          297   0.500            2\n",
       "1882298   322895          133   0.500            2\n",
       "1882299   322895          418   0.500            2\n",
       "1882300   322896           26   0.500            2\n",
       "1882301   322896          281   0.500            2\n",
       "\n",
       "[1882302 rows x 4 columns]"
      ]
     },
     "execution_count": 29,
     "metadata": {},
     "output_type": "execute_result"
    }
   ],
   "source": [
    "total_click"
   ]
  },
  {
   "cell_type": "code",
   "execution_count": 30,
   "metadata": {},
   "outputs": [],
   "source": [
    "dfs_agg_info_2 = dfs_agg_info.merge(total_click, how='left', on=[\"user_id\", 'category_id'])"
   ]
  },
  {
   "cell_type": "code",
   "execution_count": 31,
   "metadata": {},
   "outputs": [
    {
     "data": {
      "text/plain": [
       "(2950710, 9)"
      ]
     },
     "execution_count": 31,
     "metadata": {},
     "output_type": "execute_result"
    }
   ],
   "source": [
    "dfs_agg_info.shape"
   ]
  },
  {
   "cell_type": "code",
   "execution_count": 32,
   "metadata": {},
   "outputs": [
    {
     "data": {
      "text/plain": [
       "(2950710, 11)"
      ]
     },
     "execution_count": 32,
     "metadata": {},
     "output_type": "execute_result"
    }
   ],
   "source": [
    "dfs_agg_info_2.shape"
   ]
  },
  {
   "cell_type": "code",
   "execution_count": 33,
   "metadata": {},
   "outputs": [
    {
     "data": {
      "text/html": [
       "<div>\n",
       "<style scoped>\n",
       "    .dataframe tbody tr th:only-of-type {\n",
       "        vertical-align: middle;\n",
       "    }\n",
       "\n",
       "    .dataframe tbody tr th {\n",
       "        vertical-align: top;\n",
       "    }\n",
       "\n",
       "    .dataframe thead th {\n",
       "        text-align: right;\n",
       "    }\n",
       "</style>\n",
       "<table border=\"1\" class=\"dataframe\">\n",
       "  <thead>\n",
       "    <tr style=\"text-align: right;\">\n",
       "      <th></th>\n",
       "      <th>Unnamed: 0</th>\n",
       "      <th>user_id</th>\n",
       "      <th>click_article_id_1</th>\n",
       "      <th>nb_click_by_arts</th>\n",
       "      <th>click_article_id</th>\n",
       "      <th>category_id</th>\n",
       "      <th>created_at_ts</th>\n",
       "      <th>publisher_id</th>\n",
       "      <th>words_count</th>\n",
       "      <th>rating</th>\n",
       "      <th>total_click</th>\n",
       "    </tr>\n",
       "  </thead>\n",
       "  <tbody>\n",
       "    <tr>\n",
       "      <th>0</th>\n",
       "      <td>0</td>\n",
       "      <td>0</td>\n",
       "      <td>68866</td>\n",
       "      <td>1</td>\n",
       "      <td>68866</td>\n",
       "      <td>136</td>\n",
       "      <td>1506816482000</td>\n",
       "      <td>0</td>\n",
       "      <td>226</td>\n",
       "      <td>0.125</td>\n",
       "      <td>8</td>\n",
       "    </tr>\n",
       "    <tr>\n",
       "      <th>1</th>\n",
       "      <td>1</td>\n",
       "      <td>0</td>\n",
       "      <td>87205</td>\n",
       "      <td>1</td>\n",
       "      <td>87205</td>\n",
       "      <td>186</td>\n",
       "      <td>1507497786000</td>\n",
       "      <td>0</td>\n",
       "      <td>137</td>\n",
       "      <td>0.250</td>\n",
       "      <td>8</td>\n",
       "    </tr>\n",
       "    <tr>\n",
       "      <th>2</th>\n",
       "      <td>2</td>\n",
       "      <td>0</td>\n",
       "      <td>87224</td>\n",
       "      <td>1</td>\n",
       "      <td>87224</td>\n",
       "      <td>186</td>\n",
       "      <td>1507496527000</td>\n",
       "      <td>0</td>\n",
       "      <td>100</td>\n",
       "      <td>0.250</td>\n",
       "      <td>8</td>\n",
       "    </tr>\n",
       "    <tr>\n",
       "      <th>3</th>\n",
       "      <td>3</td>\n",
       "      <td>0</td>\n",
       "      <td>96755</td>\n",
       "      <td>1</td>\n",
       "      <td>96755</td>\n",
       "      <td>209</td>\n",
       "      <td>1507326628000</td>\n",
       "      <td>0</td>\n",
       "      <td>211</td>\n",
       "      <td>0.125</td>\n",
       "      <td>8</td>\n",
       "    </tr>\n",
       "    <tr>\n",
       "      <th>4</th>\n",
       "      <td>4</td>\n",
       "      <td>0</td>\n",
       "      <td>157541</td>\n",
       "      <td>1</td>\n",
       "      <td>157541</td>\n",
       "      <td>281</td>\n",
       "      <td>1506800518000</td>\n",
       "      <td>0</td>\n",
       "      <td>280</td>\n",
       "      <td>0.250</td>\n",
       "      <td>8</td>\n",
       "    </tr>\n",
       "    <tr>\n",
       "      <th>5</th>\n",
       "      <td>5</td>\n",
       "      <td>0</td>\n",
       "      <td>160158</td>\n",
       "      <td>1</td>\n",
       "      <td>160158</td>\n",
       "      <td>281</td>\n",
       "      <td>1507352746000</td>\n",
       "      <td>0</td>\n",
       "      <td>145</td>\n",
       "      <td>0.250</td>\n",
       "      <td>8</td>\n",
       "    </tr>\n",
       "    <tr>\n",
       "      <th>6</th>\n",
       "      <td>6</td>\n",
       "      <td>0</td>\n",
       "      <td>233470</td>\n",
       "      <td>1</td>\n",
       "      <td>233470</td>\n",
       "      <td>375</td>\n",
       "      <td>1507375559000</td>\n",
       "      <td>0</td>\n",
       "      <td>292</td>\n",
       "      <td>0.125</td>\n",
       "      <td>8</td>\n",
       "    </tr>\n",
       "    <tr>\n",
       "      <th>7</th>\n",
       "      <td>7</td>\n",
       "      <td>0</td>\n",
       "      <td>313996</td>\n",
       "      <td>1</td>\n",
       "      <td>313996</td>\n",
       "      <td>431</td>\n",
       "      <td>1507317197000</td>\n",
       "      <td>0</td>\n",
       "      <td>265</td>\n",
       "      <td>0.125</td>\n",
       "      <td>8</td>\n",
       "    </tr>\n",
       "  </tbody>\n",
       "</table>\n",
       "</div>"
      ],
      "text/plain": [
       "   Unnamed: 0  user_id  click_article_id_1  nb_click_by_arts  \\\n",
       "0           0        0               68866                 1   \n",
       "1           1        0               87205                 1   \n",
       "2           2        0               87224                 1   \n",
       "3           3        0               96755                 1   \n",
       "4           4        0              157541                 1   \n",
       "5           5        0              160158                 1   \n",
       "6           6        0              233470                 1   \n",
       "7           7        0              313996                 1   \n",
       "\n",
       "   click_article_id  category_id  created_at_ts  publisher_id  words_count  \\\n",
       "0             68866          136  1506816482000             0          226   \n",
       "1             87205          186  1507497786000             0          137   \n",
       "2             87224          186  1507496527000             0          100   \n",
       "3             96755          209  1507326628000             0          211   \n",
       "4            157541          281  1506800518000             0          280   \n",
       "5            160158          281  1507352746000             0          145   \n",
       "6            233470          375  1507375559000             0          292   \n",
       "7            313996          431  1507317197000             0          265   \n",
       "\n",
       "   rating  total_click  \n",
       "0   0.125            8  \n",
       "1   0.250            8  \n",
       "2   0.250            8  \n",
       "3   0.125            8  \n",
       "4   0.250            8  \n",
       "5   0.250            8  \n",
       "6   0.125            8  \n",
       "7   0.125            8  "
      ]
     },
     "execution_count": 33,
     "metadata": {},
     "output_type": "execute_result"
    }
   ],
   "source": [
    "dfs_agg_info_2.loc[dfs_agg_info_2[\"user_id\"]==0]"
   ]
  },
  {
   "cell_type": "code",
   "execution_count": 34,
   "metadata": {},
   "outputs": [],
   "source": [
    "del dfs_agg_info_2[\"click_article_id_1\"]"
   ]
  },
  {
   "cell_type": "code",
   "execution_count": 35,
   "metadata": {},
   "outputs": [],
   "source": [
    "del dfs_agg_info_2[\"created_at_ts\"]"
   ]
  },
  {
   "cell_type": "code",
   "execution_count": 36,
   "metadata": {},
   "outputs": [
    {
     "data": {
      "text/html": [
       "<div>\n",
       "<style scoped>\n",
       "    .dataframe tbody tr th:only-of-type {\n",
       "        vertical-align: middle;\n",
       "    }\n",
       "\n",
       "    .dataframe tbody tr th {\n",
       "        vertical-align: top;\n",
       "    }\n",
       "\n",
       "    .dataframe thead th {\n",
       "        text-align: right;\n",
       "    }\n",
       "</style>\n",
       "<table border=\"1\" class=\"dataframe\">\n",
       "  <thead>\n",
       "    <tr style=\"text-align: right;\">\n",
       "      <th></th>\n",
       "      <th>Unnamed: 0</th>\n",
       "      <th>user_id</th>\n",
       "      <th>nb_click_by_arts</th>\n",
       "      <th>click_article_id</th>\n",
       "      <th>category_id</th>\n",
       "      <th>publisher_id</th>\n",
       "      <th>words_count</th>\n",
       "      <th>rating</th>\n",
       "      <th>total_click</th>\n",
       "    </tr>\n",
       "  </thead>\n",
       "  <tbody>\n",
       "    <tr>\n",
       "      <th>0</th>\n",
       "      <td>0</td>\n",
       "      <td>0</td>\n",
       "      <td>1</td>\n",
       "      <td>68866</td>\n",
       "      <td>136</td>\n",
       "      <td>0</td>\n",
       "      <td>226</td>\n",
       "      <td>0.125</td>\n",
       "      <td>8</td>\n",
       "    </tr>\n",
       "    <tr>\n",
       "      <th>1</th>\n",
       "      <td>1</td>\n",
       "      <td>0</td>\n",
       "      <td>1</td>\n",
       "      <td>87205</td>\n",
       "      <td>186</td>\n",
       "      <td>0</td>\n",
       "      <td>137</td>\n",
       "      <td>0.250</td>\n",
       "      <td>8</td>\n",
       "    </tr>\n",
       "    <tr>\n",
       "      <th>2</th>\n",
       "      <td>2</td>\n",
       "      <td>0</td>\n",
       "      <td>1</td>\n",
       "      <td>87224</td>\n",
       "      <td>186</td>\n",
       "      <td>0</td>\n",
       "      <td>100</td>\n",
       "      <td>0.250</td>\n",
       "      <td>8</td>\n",
       "    </tr>\n",
       "    <tr>\n",
       "      <th>3</th>\n",
       "      <td>3</td>\n",
       "      <td>0</td>\n",
       "      <td>1</td>\n",
       "      <td>96755</td>\n",
       "      <td>209</td>\n",
       "      <td>0</td>\n",
       "      <td>211</td>\n",
       "      <td>0.125</td>\n",
       "      <td>8</td>\n",
       "    </tr>\n",
       "    <tr>\n",
       "      <th>4</th>\n",
       "      <td>4</td>\n",
       "      <td>0</td>\n",
       "      <td>1</td>\n",
       "      <td>157541</td>\n",
       "      <td>281</td>\n",
       "      <td>0</td>\n",
       "      <td>280</td>\n",
       "      <td>0.250</td>\n",
       "      <td>8</td>\n",
       "    </tr>\n",
       "    <tr>\n",
       "      <th>5</th>\n",
       "      <td>5</td>\n",
       "      <td>0</td>\n",
       "      <td>1</td>\n",
       "      <td>160158</td>\n",
       "      <td>281</td>\n",
       "      <td>0</td>\n",
       "      <td>145</td>\n",
       "      <td>0.250</td>\n",
       "      <td>8</td>\n",
       "    </tr>\n",
       "    <tr>\n",
       "      <th>6</th>\n",
       "      <td>6</td>\n",
       "      <td>0</td>\n",
       "      <td>1</td>\n",
       "      <td>233470</td>\n",
       "      <td>375</td>\n",
       "      <td>0</td>\n",
       "      <td>292</td>\n",
       "      <td>0.125</td>\n",
       "      <td>8</td>\n",
       "    </tr>\n",
       "    <tr>\n",
       "      <th>7</th>\n",
       "      <td>7</td>\n",
       "      <td>0</td>\n",
       "      <td>1</td>\n",
       "      <td>313996</td>\n",
       "      <td>431</td>\n",
       "      <td>0</td>\n",
       "      <td>265</td>\n",
       "      <td>0.125</td>\n",
       "      <td>8</td>\n",
       "    </tr>\n",
       "  </tbody>\n",
       "</table>\n",
       "</div>"
      ],
      "text/plain": [
       "   Unnamed: 0  user_id  nb_click_by_arts  click_article_id  category_id  \\\n",
       "0           0        0                 1             68866          136   \n",
       "1           1        0                 1             87205          186   \n",
       "2           2        0                 1             87224          186   \n",
       "3           3        0                 1             96755          209   \n",
       "4           4        0                 1            157541          281   \n",
       "5           5        0                 1            160158          281   \n",
       "6           6        0                 1            233470          375   \n",
       "7           7        0                 1            313996          431   \n",
       "\n",
       "   publisher_id  words_count  rating  total_click  \n",
       "0             0          226   0.125            8  \n",
       "1             0          137   0.250            8  \n",
       "2             0          100   0.250            8  \n",
       "3             0          211   0.125            8  \n",
       "4             0          280   0.250            8  \n",
       "5             0          145   0.250            8  \n",
       "6             0          292   0.125            8  \n",
       "7             0          265   0.125            8  "
      ]
     },
     "execution_count": 36,
     "metadata": {},
     "output_type": "execute_result"
    }
   ],
   "source": [
    "dfs_agg_info_2.loc[dfs_agg_info_2[\"user_id\"]==0]"
   ]
  },
  {
   "cell_type": "code",
   "execution_count": 37,
   "metadata": {},
   "outputs": [],
   "source": [
    "dfs_agg_info_2['rating_art'] = dfs_agg_info_2['nb_click_by_arts'] / dfs_agg_info_2['total_click']"
   ]
  },
  {
   "cell_type": "code",
   "execution_count": 38,
   "metadata": {},
   "outputs": [
    {
     "data": {
      "text/html": [
       "<div>\n",
       "<style scoped>\n",
       "    .dataframe tbody tr th:only-of-type {\n",
       "        vertical-align: middle;\n",
       "    }\n",
       "\n",
       "    .dataframe tbody tr th {\n",
       "        vertical-align: top;\n",
       "    }\n",
       "\n",
       "    .dataframe thead th {\n",
       "        text-align: right;\n",
       "    }\n",
       "</style>\n",
       "<table border=\"1\" class=\"dataframe\">\n",
       "  <thead>\n",
       "    <tr style=\"text-align: right;\">\n",
       "      <th></th>\n",
       "      <th>Unnamed: 0</th>\n",
       "      <th>user_id</th>\n",
       "      <th>nb_click_by_arts</th>\n",
       "      <th>click_article_id</th>\n",
       "      <th>category_id</th>\n",
       "      <th>publisher_id</th>\n",
       "      <th>words_count</th>\n",
       "      <th>rating</th>\n",
       "      <th>total_click</th>\n",
       "      <th>rating_art</th>\n",
       "    </tr>\n",
       "  </thead>\n",
       "  <tbody>\n",
       "    <tr>\n",
       "      <th>0</th>\n",
       "      <td>0</td>\n",
       "      <td>0</td>\n",
       "      <td>1</td>\n",
       "      <td>68866</td>\n",
       "      <td>136</td>\n",
       "      <td>0</td>\n",
       "      <td>226</td>\n",
       "      <td>0.125</td>\n",
       "      <td>8</td>\n",
       "      <td>0.125</td>\n",
       "    </tr>\n",
       "    <tr>\n",
       "      <th>1</th>\n",
       "      <td>1</td>\n",
       "      <td>0</td>\n",
       "      <td>1</td>\n",
       "      <td>87205</td>\n",
       "      <td>186</td>\n",
       "      <td>0</td>\n",
       "      <td>137</td>\n",
       "      <td>0.250</td>\n",
       "      <td>8</td>\n",
       "      <td>0.125</td>\n",
       "    </tr>\n",
       "    <tr>\n",
       "      <th>2</th>\n",
       "      <td>2</td>\n",
       "      <td>0</td>\n",
       "      <td>1</td>\n",
       "      <td>87224</td>\n",
       "      <td>186</td>\n",
       "      <td>0</td>\n",
       "      <td>100</td>\n",
       "      <td>0.250</td>\n",
       "      <td>8</td>\n",
       "      <td>0.125</td>\n",
       "    </tr>\n",
       "    <tr>\n",
       "      <th>3</th>\n",
       "      <td>3</td>\n",
       "      <td>0</td>\n",
       "      <td>1</td>\n",
       "      <td>96755</td>\n",
       "      <td>209</td>\n",
       "      <td>0</td>\n",
       "      <td>211</td>\n",
       "      <td>0.125</td>\n",
       "      <td>8</td>\n",
       "      <td>0.125</td>\n",
       "    </tr>\n",
       "    <tr>\n",
       "      <th>4</th>\n",
       "      <td>4</td>\n",
       "      <td>0</td>\n",
       "      <td>1</td>\n",
       "      <td>157541</td>\n",
       "      <td>281</td>\n",
       "      <td>0</td>\n",
       "      <td>280</td>\n",
       "      <td>0.250</td>\n",
       "      <td>8</td>\n",
       "      <td>0.125</td>\n",
       "    </tr>\n",
       "    <tr>\n",
       "      <th>...</th>\n",
       "      <td>...</td>\n",
       "      <td>...</td>\n",
       "      <td>...</td>\n",
       "      <td>...</td>\n",
       "      <td>...</td>\n",
       "      <td>...</td>\n",
       "      <td>...</td>\n",
       "      <td>...</td>\n",
       "      <td>...</td>\n",
       "      <td>...</td>\n",
       "    </tr>\n",
       "    <tr>\n",
       "      <th>2950705</th>\n",
       "      <td>2950705</td>\n",
       "      <td>322894</td>\n",
       "      <td>1</td>\n",
       "      <td>168401</td>\n",
       "      <td>297</td>\n",
       "      <td>0</td>\n",
       "      <td>215</td>\n",
       "      <td>0.500</td>\n",
       "      <td>2</td>\n",
       "      <td>0.500</td>\n",
       "    </tr>\n",
       "    <tr>\n",
       "      <th>2950706</th>\n",
       "      <td>2950706</td>\n",
       "      <td>322895</td>\n",
       "      <td>1</td>\n",
       "      <td>63746</td>\n",
       "      <td>133</td>\n",
       "      <td>0</td>\n",
       "      <td>162</td>\n",
       "      <td>0.500</td>\n",
       "      <td>2</td>\n",
       "      <td>0.500</td>\n",
       "    </tr>\n",
       "    <tr>\n",
       "      <th>2950707</th>\n",
       "      <td>2950707</td>\n",
       "      <td>322895</td>\n",
       "      <td>1</td>\n",
       "      <td>289197</td>\n",
       "      <td>418</td>\n",
       "      <td>0</td>\n",
       "      <td>176</td>\n",
       "      <td>0.500</td>\n",
       "      <td>2</td>\n",
       "      <td>0.500</td>\n",
       "    </tr>\n",
       "    <tr>\n",
       "      <th>2950708</th>\n",
       "      <td>2950708</td>\n",
       "      <td>322896</td>\n",
       "      <td>1</td>\n",
       "      <td>30760</td>\n",
       "      <td>26</td>\n",
       "      <td>0</td>\n",
       "      <td>162</td>\n",
       "      <td>0.500</td>\n",
       "      <td>2</td>\n",
       "      <td>0.500</td>\n",
       "    </tr>\n",
       "    <tr>\n",
       "      <th>2950709</th>\n",
       "      <td>2950709</td>\n",
       "      <td>322896</td>\n",
       "      <td>1</td>\n",
       "      <td>157507</td>\n",
       "      <td>281</td>\n",
       "      <td>0</td>\n",
       "      <td>370</td>\n",
       "      <td>0.500</td>\n",
       "      <td>2</td>\n",
       "      <td>0.500</td>\n",
       "    </tr>\n",
       "  </tbody>\n",
       "</table>\n",
       "<p>2950710 rows × 10 columns</p>\n",
       "</div>"
      ],
      "text/plain": [
       "         Unnamed: 0  user_id  nb_click_by_arts  click_article_id  category_id  \\\n",
       "0                 0        0                 1             68866          136   \n",
       "1                 1        0                 1             87205          186   \n",
       "2                 2        0                 1             87224          186   \n",
       "3                 3        0                 1             96755          209   \n",
       "4                 4        0                 1            157541          281   \n",
       "...             ...      ...               ...               ...          ...   \n",
       "2950705     2950705   322894                 1            168401          297   \n",
       "2950706     2950706   322895                 1             63746          133   \n",
       "2950707     2950707   322895                 1            289197          418   \n",
       "2950708     2950708   322896                 1             30760           26   \n",
       "2950709     2950709   322896                 1            157507          281   \n",
       "\n",
       "         publisher_id  words_count  rating  total_click  rating_art  \n",
       "0                   0          226   0.125            8       0.125  \n",
       "1                   0          137   0.250            8       0.125  \n",
       "2                   0          100   0.250            8       0.125  \n",
       "3                   0          211   0.125            8       0.125  \n",
       "4                   0          280   0.250            8       0.125  \n",
       "...               ...          ...     ...          ...         ...  \n",
       "2950705             0          215   0.500            2       0.500  \n",
       "2950706             0          162   0.500            2       0.500  \n",
       "2950707             0          176   0.500            2       0.500  \n",
       "2950708             0          162   0.500            2       0.500  \n",
       "2950709             0          370   0.500            2       0.500  \n",
       "\n",
       "[2950710 rows x 10 columns]"
      ]
     },
     "execution_count": 38,
     "metadata": {},
     "output_type": "execute_result"
    }
   ],
   "source": [
    "dfs_agg_info_2"
   ]
  },
  {
   "cell_type": "markdown",
   "metadata": {},
   "source": [
    "Préparons nos données pour utiliser le framework surprise."
   ]
  },
  {
   "cell_type": "code",
   "execution_count": 63,
   "metadata": {},
   "outputs": [],
   "source": [
    "from surprise import Reader, Dataset\n",
    "\n",
    "reader = Reader()\n",
    "data = Dataset.load_from_df(dfs_agg_info_2[['user_id', 'click_article_id', 'rating']], reader)"
   ]
  },
  {
   "cell_type": "code",
   "execution_count": 40,
   "metadata": {},
   "outputs": [
    {
     "data": {
      "text/plain": [
       "(2950710, 10)"
      ]
     },
     "execution_count": 40,
     "metadata": {},
     "output_type": "execute_result"
    }
   ],
   "source": [
    "dfs_agg_info_2.shape"
   ]
  },
  {
   "cell_type": "markdown",
   "metadata": {},
   "source": [
    "Créons un pipeline pour comparer les deux modèles et choisir celui qui est plus adapté à nos données.\n",
    "Nous intégrons aussi la cross validation et utilisons l'écart quadratique moyen. Cette métrique correspond à l'écart entre les prévisions et les points de données (écart-type des résidus)"
   ]
  },
  {
   "cell_type": "code",
   "execution_count": 41,
   "metadata": {},
   "outputs": [
    {
     "name": "stdout",
     "output_type": "stream",
     "text": [
      "Attempting:  [<surprise.prediction_algorithms.matrix_factorization.SVD object at 0x00000199362CEE80>, <surprise.prediction_algorithms.matrix_factorization.NMF object at 0x00000199362CEE20>] \n",
      "\n",
      "\n",
      "\n",
      "Starting:  <surprise.prediction_algorithms.matrix_factorization.SVD object at 0x00000199362CEE80>\n"
     ]
    },
    {
     "name": "stderr",
     "output_type": "stream",
     "text": [
      "C:\\Users\\aurel\\AppData\\Local\\Temp\\ipykernel_20736\\2524002951.py:19: FutureWarning: The series.append method is deprecated and will be removed from pandas in a future version. Use pandas.concat instead.\n",
      "  tmp = tmp.append(pd.Series([str(algorithm).split(' ')[0].split('.')[-1]], index=['Algorithm']))\n"
     ]
    },
    {
     "name": "stdout",
     "output_type": "stream",
     "text": [
      "Done:  <surprise.prediction_algorithms.matrix_factorization.SVD object at 0x00000199362CEE80> \n",
      "\n",
      "\n",
      "Starting:  <surprise.prediction_algorithms.matrix_factorization.NMF object at 0x00000199362CEE20>\n",
      "Done:  <surprise.prediction_algorithms.matrix_factorization.NMF object at 0x00000199362CEE20> \n",
      "\n",
      "\n",
      "\n",
      "\tDONE\n",
      "\n"
     ]
    },
    {
     "name": "stderr",
     "output_type": "stream",
     "text": [
      "C:\\Users\\aurel\\AppData\\Local\\Temp\\ipykernel_20736\\2524002951.py:19: FutureWarning: The series.append method is deprecated and will be removed from pandas in a future version. Use pandas.concat instead.\n",
      "  tmp = tmp.append(pd.Series([str(algorithm).split(' ')[0].split('.')[-1]], index=['Algorithm']))\n"
     ]
    }
   ],
   "source": [
    "from surprise import SVD, NMF\n",
    "from surprise.model_selection import cross_validate\n",
    "\n",
    "benchmark = []\n",
    "# Iterate over all algorithms\n",
    "\n",
    "algorithms = [SVD(), NMF()]\n",
    "\n",
    "print (\"Attempting: \", str(algorithms), '\\n\\n\\n')\n",
    "\n",
    "for algorithm in algorithms:\n",
    "    print(\"Starting: \" ,str(algorithm))\n",
    "    # Perform cross validation\n",
    "    results = cross_validate(algorithm, data, measures=['RMSE'], cv=10, verbose=False)\n",
    "    # results = cross_validate(algorithm, data, measures=['RMSE','MAE'], cv=3, verbose=False)\n",
    "    \n",
    "    # Get results & append algorithm name\n",
    "    tmp = pd.DataFrame.from_dict(results).mean(axis=0)\n",
    "    tmp = tmp.append(pd.Series([str(algorithm).split(' ')[0].split('.')[-1]], index=['Algorithm']))\n",
    "    benchmark.append(tmp)\n",
    "    print(\"Done: \" ,str(algorithm), \"\\n\\n\")\n",
    "\n",
    "print ('\\n\\tDONE\\n')"
   ]
  },
  {
   "cell_type": "code",
   "execution_count": 42,
   "metadata": {},
   "outputs": [],
   "source": [
    "surprise_results = pd.DataFrame(benchmark).set_index('Algorithm').sort_values('test_rmse')"
   ]
  },
  {
   "cell_type": "code",
   "execution_count": 43,
   "metadata": {},
   "outputs": [
    {
     "data": {
      "text/html": [
       "<div>\n",
       "<style scoped>\n",
       "    .dataframe tbody tr th:only-of-type {\n",
       "        vertical-align: middle;\n",
       "    }\n",
       "\n",
       "    .dataframe tbody tr th {\n",
       "        vertical-align: top;\n",
       "    }\n",
       "\n",
       "    .dataframe thead th {\n",
       "        text-align: right;\n",
       "    }\n",
       "</style>\n",
       "<table border=\"1\" class=\"dataframe\">\n",
       "  <thead>\n",
       "    <tr style=\"text-align: right;\">\n",
       "      <th></th>\n",
       "      <th>test_rmse</th>\n",
       "      <th>fit_time</th>\n",
       "      <th>test_time</th>\n",
       "    </tr>\n",
       "    <tr>\n",
       "      <th>Algorithm</th>\n",
       "      <th></th>\n",
       "      <th></th>\n",
       "      <th></th>\n",
       "    </tr>\n",
       "  </thead>\n",
       "  <tbody>\n",
       "    <tr>\n",
       "      <th>SVD</th>\n",
       "      <td>0.825046</td>\n",
       "      <td>157.574204</td>\n",
       "      <td>3.609749</td>\n",
       "    </tr>\n",
       "    <tr>\n",
       "      <th>NMF</th>\n",
       "      <td>0.825051</td>\n",
       "      <td>184.624731</td>\n",
       "      <td>2.941392</td>\n",
       "    </tr>\n",
       "  </tbody>\n",
       "</table>\n",
       "</div>"
      ],
      "text/plain": [
       "           test_rmse    fit_time  test_time\n",
       "Algorithm                                  \n",
       "SVD         0.825046  157.574204   3.609749\n",
       "NMF         0.825051  184.624731   2.941392"
      ]
     },
     "execution_count": 43,
     "metadata": {},
     "output_type": "execute_result"
    }
   ],
   "source": [
    "surprise_results"
   ]
  },
  {
   "cell_type": "markdown",
   "metadata": {},
   "source": [
    "Nous observons que SVD est le meilleur compromis en terme de RMSE et de temps."
   ]
  },
  {
   "cell_type": "code",
   "execution_count": 106,
   "metadata": {},
   "outputs": [
    {
     "data": {
      "text/plain": [
       "977"
      ]
     },
     "execution_count": 106,
     "metadata": {},
     "output_type": "execute_result"
    }
   ],
   "source": [
    "gc.collect()"
   ]
  },
  {
   "cell_type": "code",
   "execution_count": 45,
   "metadata": {},
   "outputs": [],
   "source": [
    "from surprise.model_selection import GridSearchCV\n",
    "from surprise import SVD, NMF\n",
    "from surprise.model_selection import cross_validate\n"
   ]
  },
  {
   "cell_type": "markdown",
   "metadata": {},
   "source": [
    "Recherchons à présent les meilleurs paramètres pour SVD, utilisons gridSearchCV"
   ]
  },
  {
   "cell_type": "code",
   "execution_count": 46,
   "metadata": {},
   "outputs": [
    {
     "name": "stdout",
     "output_type": "stream",
     "text": [
      "BEST RMSE: \t 0.8250429000537356\n",
      "BEST MAE: \t 0.798000737694243\n",
      "BEST params: \t {'n_epochs': 10, 'lr_all': 0.002, 'reg_all': 0.02}\n"
     ]
    }
   ],
   "source": [
    "\n",
    "# smaller grid for testing\n",
    "param_grid = {\n",
    "    \"n_epochs\": [10, 20],\n",
    "    \"lr_all\": [0.002, 0.005],\n",
    "    \"reg_all\": [0.02]\n",
    "}\n",
    "\n",
    "gs = GridSearchCV(SVD, param_grid, measures=[\"rmse\", \"mae\"], refit=True, cv=5)\n",
    "\n",
    "gs.fit(data)\n",
    "\n",
    "training_parameters = gs.best_params[\"rmse\"]\n",
    "\n",
    "print(\"BEST RMSE: \\t\", gs.best_score[\"rmse\"])\n",
    "print(\"BEST MAE: \\t\", gs.best_score[\"mae\"])\n",
    "print(\"BEST params: \\t\", gs.best_params[\"rmse\"])"
   ]
  },
  {
   "cell_type": "markdown",
   "metadata": {},
   "source": [
    "Nous pouvons entrainer notre modèle avec ces paramètres"
   ]
  },
  {
   "cell_type": "code",
   "execution_count": 47,
   "metadata": {},
   "outputs": [
    {
     "name": "stdout",
     "output_type": "stream",
     "text": [
      "{'n_epochs': 10, 'lr_all': 0.002, 'reg_all': 0.02}\n",
      "\n",
      "\n",
      "\t\t STARTING\n",
      "\n",
      "\n",
      "> Loading data...\n",
      "> OK\n",
      "> Creating trainset...\n",
      "> OK\n",
      "> Training...\n",
      "> OK \t\t It Took:  47 seconds\n",
      ">> DONE \t\t It Took 51 seconds\n"
     ]
    }
   ],
   "source": [
    "from datetime import datetime\n",
    "\n",
    "print(training_parameters)\n",
    "reader = Reader(rating_scale=(1, 5))\n",
    "\n",
    "print(\"\\n\\n\\t\\t STARTING\\n\\n\")\n",
    "start = datetime.now()\n",
    "\n",
    "print(\"> Loading data...\")\n",
    "data = Dataset.load_from_df(dfs_agg[['user_id', 'category_id', 'rating']], reader)\n",
    "print(\"> OK\")\n",
    "\n",
    "print(\"> Creating trainset...\")\n",
    "trainset = data.build_full_trainset()\n",
    "print(\"> OK\")\n",
    "\n",
    "\n",
    "startTraining = datetime.now()\n",
    "print(\"> Training...\")\n",
    "\n",
    "algo = SVD(n_epochs = training_parameters['n_epochs'], lr_all = training_parameters['lr_all'], reg_all = training_parameters['reg_all'])\n",
    "\n",
    "algo.fit(trainset)\n",
    "\n",
    "endTraining = datetime.now()\n",
    "print(\"> OK \\t\\t It Took: \", (endTraining-startTraining).seconds, \"seconds\")\n",
    "\n",
    "end = datetime.now()\n",
    "print (\">> DONE \\t\\t It Took\", (end-start).seconds, \"seconds\" )"
   ]
  },
  {
   "cell_type": "markdown",
   "metadata": {},
   "source": [
    "Nous pouvons à présent réaliser un test de prédiction."
   ]
  },
  {
   "cell_type": "code",
   "execution_count": 48,
   "metadata": {},
   "outputs": [],
   "source": [
    "trainSet = data.build_full_trainset()"
   ]
  },
  {
   "cell_type": "code",
   "execution_count": 49,
   "metadata": {},
   "outputs": [
    {
     "data": {
      "text/plain": [
       "<surprise.trainset.Trainset at 0x19935fdff10>"
      ]
     },
     "execution_count": 49,
     "metadata": {},
     "output_type": "execute_result"
    }
   ],
   "source": [
    "trainSet"
   ]
  },
  {
   "cell_type": "code",
   "execution_count": 50,
   "metadata": {},
   "outputs": [],
   "source": [
    "anti_testset_user = []\n",
    "targetUser = 0 #inner_id of the target user\n",
    "fillValue = trainSet.global_mean\n",
    "user_item_ratings = trainSet.ur[targetUser]\n",
    "user_items = [item for (item,_) in (user_item_ratings)]\n",
    "user_items\n",
    "ratings = trainSet.all_ratings()\n",
    "for iid in trainSet.all_items():\n",
    "  if(iid not in user_items):\n",
    "    anti_testset_user.append((trainSet.to_raw_uid(targetUser),trainSet.to_raw_iid(iid),fillValue))"
   ]
  },
  {
   "cell_type": "code",
   "execution_count": 51,
   "metadata": {},
   "outputs": [
    {
     "data": {
      "text/plain": [
       "[(0, 43, 0.1715436736506681),\n",
       " (0, 123, 0.1715436736506681),\n",
       " (0, 301, 0.1715436736506681),\n",
       " (0, 331, 0.1715436736506681),\n",
       " (0, 412, 0.1715436736506681),\n",
       " (0, 435, 0.1715436736506681),\n",
       " (0, 26, 0.1715436736506681),\n",
       " (0, 247, 0.1715436736506681),\n",
       " (0, 332, 0.1715436736506681),\n",
       " (0, 249, 0.1715436736506681),\n",
       " (0, 421, 0.1715436736506681),\n",
       " (0, 81, 0.1715436736506681),\n",
       " (0, 92, 0.1715436736506681),\n",
       " (0, 132, 0.1715436736506681),\n",
       " (0, 317, 0.1715436736506681),\n",
       " (0, 399, 0.1715436736506681),\n",
       " (0, 437, 0.1715436736506681),\n",
       " (0, 67, 0.1715436736506681),\n",
       " (0, 99, 0.1715436736506681),\n",
       " (0, 118, 0.1715436736506681),\n",
       " (0, 125, 0.1715436736506681),\n",
       " (0, 126, 0.1715436736506681),\n",
       " (0, 127, 0.1715436736506681),\n",
       " (0, 135, 0.1715436736506681),\n",
       " (0, 137, 0.1715436736506681),\n",
       " (0, 138, 0.1715436736506681),\n",
       " (0, 250, 0.1715436736506681),\n",
       " (0, 276, 0.1715436736506681),\n",
       " (0, 297, 0.1715436736506681),\n",
       " (0, 299, 0.1715436736506681),\n",
       " (0, 327, 0.1715436736506681),\n",
       " (0, 354, 0.1715436736506681),\n",
       " (0, 409, 0.1715436736506681),\n",
       " (0, 410, 0.1715436736506681),\n",
       " (0, 413, 0.1715436736506681),\n",
       " (0, 442, 0.1715436736506681),\n",
       " (0, 134, 0.1715436736506681),\n",
       " (0, 289, 0.1715436736506681),\n",
       " (0, 388, 0.1715436736506681),\n",
       " (0, 418, 0.1715436736506681),\n",
       " (0, 66, 0.1715436736506681),\n",
       " (0, 323, 0.1715436736506681),\n",
       " (0, 348, 0.1715436736506681),\n",
       " (0, 438, 0.1715436736506681),\n",
       " (0, 6, 0.1715436736506681),\n",
       " (0, 9, 0.1715436736506681),\n",
       " (0, 174, 0.1715436736506681),\n",
       " (0, 237, 0.1715436736506681),\n",
       " (0, 252, 0.1715436736506681),\n",
       " (0, 305, 0.1715436736506681),\n",
       " (0, 339, 0.1715436736506681),\n",
       " (0, 351, 0.1715436736506681),\n",
       " (0, 429, 0.1715436736506681),\n",
       " (0, 436, 0.1715436736506681),\n",
       " (0, 455, 0.1715436736506681),\n",
       " (0, 4, 0.1715436736506681),\n",
       " (0, 213, 0.1715436736506681),\n",
       " (0, 225, 0.1715436736506681),\n",
       " (0, 254, 0.1715436736506681),\n",
       " (0, 265, 0.1715436736506681),\n",
       " (0, 269, 0.1715436736506681),\n",
       " (0, 391, 0.1715436736506681),\n",
       " (0, 428, 0.1715436736506681),\n",
       " (0, 228, 0.1715436736506681),\n",
       " (0, 300, 0.1715436736506681),\n",
       " (0, 353, 0.1715436736506681),\n",
       " (0, 396, 0.1715436736506681),\n",
       " (0, 448, 0.1715436736506681),\n",
       " (0, 352, 0.1715436736506681),\n",
       " (0, 141, 0.1715436736506681),\n",
       " (0, 389, 0.1715436736506681),\n",
       " (0, 230, 0.1715436736506681),\n",
       " (0, 147, 0.1715436736506681),\n",
       " (0, 304, 0.1715436736506681),\n",
       " (0, 340, 0.1715436736506681),\n",
       " (0, 430, 0.1715436736506681),\n",
       " (0, 450, 0.1715436736506681),\n",
       " (0, 142, 0.1715436736506681),\n",
       " (0, 196, 0.1715436736506681),\n",
       " (0, 392, 0.1715436736506681),\n",
       " (0, 398, 0.1715436736506681),\n",
       " (0, 434, 0.1715436736506681),\n",
       " (0, 385, 0.1715436736506681),\n",
       " (0, 7, 0.1715436736506681),\n",
       " (0, 285, 0.1715436736506681),\n",
       " (0, 382, 0.1715436736506681),\n",
       " (0, 384, 0.1715436736506681),\n",
       " (0, 1, 0.1715436736506681),\n",
       " (0, 433, 0.1715436736506681),\n",
       " (0, 133, 0.1715436736506681),\n",
       " (0, 278, 0.1715436736506681),\n",
       " (0, 2, 0.1715436736506681),\n",
       " (0, 211, 0.1715436736506681),\n",
       " (0, 231, 0.1715436736506681),\n",
       " (0, 302, 0.1715436736506681),\n",
       " (0, 184, 0.1715436736506681),\n",
       " (0, 152, 0.1715436736506681),\n",
       " (0, 187, 0.1715436736506681),\n",
       " (0, 403, 0.1715436736506681),\n",
       " (0, 360, 0.1715436736506681),\n",
       " (0, 198, 0.1715436736506681),\n",
       " (0, 458, 0.1715436736506681),\n",
       " (0, 104, 0.1715436736506681),\n",
       " (0, 443, 0.1715436736506681),\n",
       " (0, 51, 0.1715436736506681),\n",
       " (0, 255, 0.1715436736506681),\n",
       " (0, 325, 0.1715436736506681),\n",
       " (0, 146, 0.1715436736506681),\n",
       " (0, 395, 0.1715436736506681),\n",
       " (0, 188, 0.1715436736506681),\n",
       " (0, 165, 0.1715436736506681),\n",
       " (0, 309, 0.1715436736506681),\n",
       " (0, 173, 0.1715436736506681),\n",
       " (0, 328, 0.1715436736506681),\n",
       " (0, 393, 0.1715436736506681),\n",
       " (0, 390, 0.1715436736506681),\n",
       " (0, 36, 0.1715436736506681),\n",
       " (0, 48, 0.1715436736506681),\n",
       " (0, 311, 0.1715436736506681),\n",
       " (0, 207, 0.1715436736506681),\n",
       " (0, 97, 0.1715436736506681),\n",
       " (0, 295, 0.1715436736506681),\n",
       " (0, 357, 0.1715436736506681),\n",
       " (0, 402, 0.1715436736506681),\n",
       " (0, 374, 0.1715436736506681),\n",
       " (0, 369, 0.1715436736506681),\n",
       " (0, 25, 0.1715436736506681),\n",
       " (0, 163, 0.1715436736506681),\n",
       " (0, 176, 0.1715436736506681),\n",
       " (0, 242, 0.1715436736506681),\n",
       " (0, 102, 0.1715436736506681),\n",
       " (0, 271, 0.1715436736506681),\n",
       " (0, 290, 0.1715436736506681),\n",
       " (0, 380, 0.1715436736506681),\n",
       " (0, 370, 0.1715436736506681),\n",
       " (0, 167, 0.1715436736506681),\n",
       " (0, 44, 0.1715436736506681),\n",
       " (0, 454, 0.1715436736506681),\n",
       " (0, 460, 0.1715436736506681),\n",
       " (0, 16, 0.1715436736506681),\n",
       " (0, 320, 0.1715436736506681),\n",
       " (0, 406, 0.1715436736506681),\n",
       " (0, 260, 0.1715436736506681),\n",
       " (0, 161, 0.1715436736506681),\n",
       " (0, 29, 0.1715436736506681),\n",
       " (0, 68, 0.1715436736506681),\n",
       " (0, 122, 0.1715436736506681),\n",
       " (0, 71, 0.1715436736506681),\n",
       " (0, 18, 0.1715436736506681),\n",
       " (0, 223, 0.1715436736506681),\n",
       " (0, 226, 0.1715436736506681),\n",
       " (0, 15, 0.1715436736506681),\n",
       " (0, 355, 0.1715436736506681),\n",
       " (0, 203, 0.1715436736506681),\n",
       " (0, 277, 0.1715436736506681),\n",
       " (0, 62, 0.1715436736506681),\n",
       " (0, 195, 0.1715436736506681),\n",
       " (0, 288, 0.1715436736506681),\n",
       " (0, 101, 0.1715436736506681),\n",
       " (0, 197, 0.1715436736506681),\n",
       " (0, 270, 0.1715436736506681),\n",
       " (0, 63, 0.1715436736506681),\n",
       " (0, 69, 0.1715436736506681),\n",
       " (0, 215, 0.1715436736506681),\n",
       " (0, 117, 0.1715436736506681),\n",
       " (0, 140, 0.1715436736506681),\n",
       " (0, 115, 0.1715436736506681),\n",
       " (0, 408, 0.1715436736506681),\n",
       " (0, 337, 0.1715436736506681),\n",
       " (0, 371, 0.1715436736506681),\n",
       " (0, 84, 0.1715436736506681),\n",
       " (0, 120, 0.1715436736506681),\n",
       " (0, 258, 0.1715436736506681),\n",
       " (0, 21, 0.1715436736506681),\n",
       " (0, 216, 0.1715436736506681),\n",
       " (0, 404, 0.1715436736506681),\n",
       " (0, 60, 0.1715436736506681),\n",
       " (0, 164, 0.1715436736506681),\n",
       " (0, 240, 0.1715436736506681),\n",
       " (0, 193, 0.1715436736506681),\n",
       " (0, 456, 0.1715436736506681),\n",
       " (0, 342, 0.1715436736506681),\n",
       " (0, 444, 0.1715436736506681),\n",
       " (0, 373, 0.1715436736506681),\n",
       " (0, 148, 0.1715436736506681),\n",
       " (0, 349, 0.1715436736506681),\n",
       " (0, 56, 0.1715436736506681),\n",
       " (0, 160, 0.1715436736506681),\n",
       " (0, 222, 0.1715436736506681),\n",
       " (0, 316, 0.1715436736506681),\n",
       " (0, 74, 0.1715436736506681),\n",
       " (0, 77, 0.1715436736506681),\n",
       " (0, 333, 0.1715436736506681),\n",
       " (0, 70, 0.1715436736506681),\n",
       " (0, 172, 0.1715436736506681),\n",
       " (0, 208, 0.1715436736506681),\n",
       " (0, 156, 0.1715436736506681),\n",
       " (0, 32, 0.1715436736506681),\n",
       " (0, 445, 0.1715436736506681),\n",
       " (0, 420, 0.1715436736506681),\n",
       " (0, 221, 0.1715436736506681),\n",
       " (0, 275, 0.1715436736506681),\n",
       " (0, 424, 0.1715436736506681),\n",
       " (0, 28, 0.1715436736506681),\n",
       " (0, 75, 0.1715436736506681),\n",
       " (0, 368, 0.1715436736506681),\n",
       " (0, 322, 0.1715436736506681),\n",
       " (0, 180, 0.1715436736506681),\n",
       " (0, 65, 0.1715436736506681),\n",
       " (0, 268, 0.1715436736506681),\n",
       " (0, 3, 0.1715436736506681),\n",
       " (0, 234, 0.1715436736506681),\n",
       " (0, 245, 0.1715436736506681),\n",
       " (0, 279, 0.1715436736506681),\n",
       " (0, 376, 0.1715436736506681),\n",
       " (0, 326, 0.1715436736506681),\n",
       " (0, 233, 0.1715436736506681),\n",
       " (0, 417, 0.1715436736506681),\n",
       " (0, 128, 0.1715436736506681),\n",
       " (0, 263, 0.1715436736506681),\n",
       " (0, 287, 0.1715436736506681),\n",
       " (0, 379, 0.1715436736506681),\n",
       " (0, 47, 0.1715436736506681),\n",
       " (0, 55, 0.1715436736506681),\n",
       " (0, 244, 0.1715436736506681),\n",
       " (0, 202, 0.1715436736506681),\n",
       " (0, 22, 0.1715436736506681),\n",
       " (0, 401, 0.1715436736506681),\n",
       " (0, 39, 0.1715436736506681),\n",
       " (0, 159, 0.1715436736506681),\n",
       " (0, 229, 0.1715436736506681),\n",
       " (0, 314, 0.1715436736506681),\n",
       " (0, 372, 0.1715436736506681),\n",
       " (0, 204, 0.1715436736506681),\n",
       " (0, 89, 0.1715436736506681),\n",
       " (0, 166, 0.1715436736506681),\n",
       " (0, 31, 0.1715436736506681),\n",
       " (0, 171, 0.1715436736506681),\n",
       " (0, 201, 0.1715436736506681),\n",
       " (0, 20, 0.1715436736506681),\n",
       " (0, 257, 0.1715436736506681),\n",
       " (0, 451, 0.1715436736506681),\n",
       " (0, 220, 0.1715436736506681),\n",
       " (0, 238, 0.1715436736506681),\n",
       " (0, 243, 0.1715436736506681),\n",
       " (0, 422, 0.1715436736506681),\n",
       " (0, 19, 0.1715436736506681),\n",
       " (0, 363, 0.1715436736506681),\n",
       " (0, 119, 0.1715436736506681),\n",
       " (0, 264, 0.1715436736506681),\n",
       " (0, 114, 0.1715436736506681),\n",
       " (0, 162, 0.1715436736506681),\n",
       " (0, 87, 0.1715436736506681),\n",
       " (0, 177, 0.1715436736506681),\n",
       " (0, 329, 0.1715436736506681),\n",
       " (0, 259, 0.1715436736506681),\n",
       " (0, 453, 0.1715436736506681),\n",
       " (0, 191, 0.1715436736506681),\n",
       " (0, 58, 0.1715436736506681),\n",
       " (0, 256, 0.1715436736506681),\n",
       " (0, 218, 0.1715436736506681),\n",
       " (0, 330, 0.1715436736506681),\n",
       " (0, 407, 0.1715436736506681),\n",
       " (0, 72, 0.1715436736506681),\n",
       " (0, 40, 0.1715436736506681),\n",
       " (0, 64, 0.1715436736506681),\n",
       " (0, 377, 0.1715436736506681),\n",
       " (0, 310, 0.1715436736506681),\n",
       " (0, 41, 0.1715436736506681),\n",
       " (0, 17, 0.1715436736506681),\n",
       " (0, 449, 0.1715436736506681),\n",
       " (0, 262, 0.1715436736506681),\n",
       " (0, 219, 0.1715436736506681),\n",
       " (0, 27, 0.1715436736506681),\n",
       " (0, 272, 0.1715436736506681),\n",
       " (0, 11, 0.1715436736506681),\n",
       " (0, 307, 0.1715436736506681),\n",
       " (0, 284, 0.1715436736506681),\n",
       " (0, 236, 0.1715436736506681),\n",
       " (0, 151, 0.1715436736506681),\n",
       " (0, 130, 0.1715436736506681),\n",
       " (0, 318, 0.1715436736506681),\n",
       " (0, 267, 0.1715436736506681),\n",
       " (0, 227, 0.1715436736506681),\n",
       " (0, 291, 0.1715436736506681),\n",
       " (0, 447, 0.1715436736506681),\n",
       " (0, 298, 0.1715436736506681),\n",
       " (0, 175, 0.1715436736506681),\n",
       " (0, 107, 0.1715436736506681),\n",
       " (0, 96, 0.1715436736506681),\n",
       " (0, 381, 0.1715436736506681),\n",
       " (0, 103, 0.1715436736506681),\n",
       " (0, 367, 0.1715436736506681),\n",
       " (0, 76, 0.1715436736506681),\n",
       " (0, 359, 0.1715436736506681),\n",
       " (0, 54, 0.1715436736506681),\n",
       " (0, 183, 0.1715436736506681),\n",
       " (0, 95, 0.1715436736506681),\n",
       " (0, 116, 0.1715436736506681),\n",
       " (0, 37, 0.1715436736506681),\n",
       " (0, 414, 0.1715436736506681),\n",
       " (0, 46, 0.1715436736506681),\n",
       " (0, 34, 0.1715436736506681),\n",
       " (0, 362, 0.1715436736506681),\n",
       " (0, 24, 0.1715436736506681),\n",
       " (0, 90, 0.1715436736506681),\n",
       " (0, 266, 0.1715436736506681),\n",
       " (0, 415, 0.1715436736506681),\n",
       " (0, 405, 0.1715436736506681),\n",
       " (0, 42, 0.1715436736506681)]"
      ]
     },
     "execution_count": 51,
     "metadata": {},
     "output_type": "execute_result"
    }
   ],
   "source": [
    "anti_testset_user"
   ]
  },
  {
   "cell_type": "code",
   "execution_count": 52,
   "metadata": {},
   "outputs": [],
   "source": [
    "predictions = algo.test(anti_testset_user)"
   ]
  },
  {
   "cell_type": "code",
   "execution_count": 53,
   "metadata": {},
   "outputs": [
    {
     "data": {
      "text/plain": [
       "Prediction(uid=0, iid=43, r_ui=0.1715436736506681, est=1, details={'was_impossible': False})"
      ]
     },
     "execution_count": 53,
     "metadata": {},
     "output_type": "execute_result"
    }
   ],
   "source": [
    "predictions[0]"
   ]
  },
  {
   "cell_type": "code",
   "execution_count": null,
   "metadata": {},
   "outputs": [],
   "source": [
    "pred = pd.DataFrame(predictions)\n",
    "pred.sort_values(by=['est'],inplace=True,ascending = False)\n",
    "item_list = pred.head(5)['iid'].to_list()\n"
   ]
  },
  {
   "cell_type": "markdown",
   "metadata": {},
   "source": [
    "Voici les résultats pour cet utilisateur."
   ]
  },
  {
   "cell_type": "code",
   "execution_count": 55,
   "metadata": {},
   "outputs": [
    {
     "data": {
      "text/plain": [
       "[43, 75, 234, 3, 268]"
      ]
     },
     "execution_count": 55,
     "metadata": {},
     "output_type": "execute_result"
    }
   ],
   "source": [
    "item_list"
   ]
  },
  {
   "cell_type": "code",
   "execution_count": 56,
   "metadata": {},
   "outputs": [
    {
     "data": {
      "text/html": [
       "<div>\n",
       "<style scoped>\n",
       "    .dataframe tbody tr th:only-of-type {\n",
       "        vertical-align: middle;\n",
       "    }\n",
       "\n",
       "    .dataframe tbody tr th {\n",
       "        vertical-align: top;\n",
       "    }\n",
       "\n",
       "    .dataframe thead th {\n",
       "        text-align: right;\n",
       "    }\n",
       "</style>\n",
       "<table border=\"1\" class=\"dataframe\">\n",
       "  <thead>\n",
       "    <tr style=\"text-align: right;\">\n",
       "      <th></th>\n",
       "      <th>click_article_id</th>\n",
       "      <th>category_id</th>\n",
       "      <th>created_at_ts</th>\n",
       "      <th>publisher_id</th>\n",
       "      <th>words_count</th>\n",
       "    </tr>\n",
       "  </thead>\n",
       "  <tbody>\n",
       "    <tr>\n",
       "      <th>43</th>\n",
       "      <td>43</td>\n",
       "      <td>1</td>\n",
       "      <td>1366902489000</td>\n",
       "      <td>0</td>\n",
       "      <td>163</td>\n",
       "    </tr>\n",
       "    <tr>\n",
       "      <th>75</th>\n",
       "      <td>75</td>\n",
       "      <td>1</td>\n",
       "      <td>1372097767000</td>\n",
       "      <td>0</td>\n",
       "      <td>266</td>\n",
       "    </tr>\n",
       "    <tr>\n",
       "      <th>234</th>\n",
       "      <td>234</td>\n",
       "      <td>1</td>\n",
       "      <td>1389006947000</td>\n",
       "      <td>0</td>\n",
       "      <td>245</td>\n",
       "    </tr>\n",
       "    <tr>\n",
       "      <th>3</th>\n",
       "      <td>3</td>\n",
       "      <td>1</td>\n",
       "      <td>1408468313000</td>\n",
       "      <td>0</td>\n",
       "      <td>230</td>\n",
       "    </tr>\n",
       "    <tr>\n",
       "      <th>268</th>\n",
       "      <td>268</td>\n",
       "      <td>1</td>\n",
       "      <td>1392284699000</td>\n",
       "      <td>0</td>\n",
       "      <td>256</td>\n",
       "    </tr>\n",
       "  </tbody>\n",
       "</table>\n",
       "</div>"
      ],
      "text/plain": [
       "     click_article_id  category_id  created_at_ts  publisher_id  words_count\n",
       "43                 43            1  1366902489000             0          163\n",
       "75                 75            1  1372097767000             0          266\n",
       "234               234            1  1389006947000             0          245\n",
       "3                   3            1  1408468313000             0          230\n",
       "268               268            1  1392284699000             0          256"
      ]
     },
     "execution_count": 56,
     "metadata": {},
     "output_type": "execute_result"
    }
   ],
   "source": [
    "articles.loc[item_list]"
   ]
  },
  {
   "cell_type": "code",
   "execution_count": 57,
   "metadata": {},
   "outputs": [],
   "source": [
    "algo_test = algo ##ici"
   ]
  },
  {
   "cell_type": "code",
   "execution_count": 162,
   "metadata": {},
   "outputs": [
    {
     "data": {
      "text/plain": [
       "0"
      ]
     },
     "execution_count": 162,
     "metadata": {},
     "output_type": "execute_result"
    }
   ],
   "source": [
    "gc.collect()"
   ]
  },
  {
   "cell_type": "markdown",
   "metadata": {},
   "source": [
    "Sauvegardons notre modèle."
   ]
  },
  {
   "cell_type": "code",
   "execution_count": 59,
   "metadata": {},
   "outputs": [],
   "source": [
    "## SAVING TRAINED MODEL\n",
    "from surprise import dump\n",
    "import os"
   ]
  },
  {
   "cell_type": "code",
   "execution_count": 165,
   "metadata": {},
   "outputs": [
    {
     "name": "stdout",
     "output_type": "stream",
     "text": [
      ">> Starting dump\n",
      ">> Dump done\n"
     ]
    }
   ],
   "source": [
    "## SAVING TRAINED MODEL\n",
    "from surprise import dump\n",
    "import os\n",
    "\n",
    "model_filename = \"model.pkl\"\n",
    "print (\">> Starting dump\")\n",
    "# Dump algorithm and reload it.\n",
    "dump.dump(model_filename, algo=algo)\n",
    "print (\">> Dump done\")  "
   ]
  },
  {
   "cell_type": "markdown",
   "metadata": {},
   "source": [
    "Chargeons notre modèle et créons une fonction pour obtenir une recommandation."
   ]
  },
  {
   "cell_type": "code",
   "execution_count": 164,
   "metadata": {},
   "outputs": [],
   "source": [
    "import pickle\n",
    "\n",
    "loaded_model = pickle.load(open(\"model.pkl\", 'rb'))"
   ]
  },
  {
   "cell_type": "code",
   "execution_count": 157,
   "metadata": {},
   "outputs": [
    {
     "data": {
      "text/plain": [
       "0"
      ]
     },
     "execution_count": 157,
     "metadata": {},
     "output_type": "execute_result"
    }
   ],
   "source": [
    "gc.collect()"
   ]
  },
  {
   "cell_type": "code",
   "execution_count": 158,
   "metadata": {},
   "outputs": [],
   "source": [
    "loaded_model = pickle.load(open(model_filename, 'rb'))"
   ]
  },
  {
   "cell_type": "code",
   "execution_count": 160,
   "metadata": {},
   "outputs": [
    {
     "data": {
      "text/plain": [
       "<surprise.prediction_algorithms.matrix_factorization.SVD at 0x297a298ae20>"
      ]
     },
     "execution_count": 160,
     "metadata": {},
     "output_type": "execute_result"
    }
   ],
   "source": [
    "loaded_model[\"algo\"]"
   ]
  },
  {
   "cell_type": "code",
   "execution_count": 126,
   "metadata": {},
   "outputs": [
    {
     "data": {
      "text/plain": [
       "<surprise.prediction_algorithms.matrix_factorization.SVD at 0x297a2be1520>"
      ]
     },
     "execution_count": 126,
     "metadata": {},
     "output_type": "execute_result"
    }
   ],
   "source": [
    "loaded_model[\"algo\"]"
   ]
  },
  {
   "cell_type": "code",
   "execution_count": 131,
   "metadata": {},
   "outputs": [],
   "source": [
    "user_arts = user(0)"
   ]
  },
  {
   "cell_type": "code",
   "execution_count": 132,
   "metadata": {},
   "outputs": [
    {
     "data": {
      "text/html": [
       "<div>\n",
       "<style scoped>\n",
       "    .dataframe tbody tr th:only-of-type {\n",
       "        vertical-align: middle;\n",
       "    }\n",
       "\n",
       "    .dataframe tbody tr th {\n",
       "        vertical-align: top;\n",
       "    }\n",
       "\n",
       "    .dataframe thead th {\n",
       "        text-align: right;\n",
       "    }\n",
       "</style>\n",
       "<table border=\"1\" class=\"dataframe\">\n",
       "  <thead>\n",
       "    <tr style=\"text-align: right;\">\n",
       "      <th></th>\n",
       "      <th>Unnamed: 0</th>\n",
       "      <th>user_id</th>\n",
       "      <th>click_article_id</th>\n",
       "      <th>nb_click_by_arts</th>\n",
       "    </tr>\n",
       "  </thead>\n",
       "  <tbody>\n",
       "    <tr>\n",
       "      <th>0</th>\n",
       "      <td>0</td>\n",
       "      <td>0</td>\n",
       "      <td>68866</td>\n",
       "      <td>1</td>\n",
       "    </tr>\n",
       "    <tr>\n",
       "      <th>1</th>\n",
       "      <td>1</td>\n",
       "      <td>0</td>\n",
       "      <td>87205</td>\n",
       "      <td>1</td>\n",
       "    </tr>\n",
       "    <tr>\n",
       "      <th>2</th>\n",
       "      <td>2</td>\n",
       "      <td>0</td>\n",
       "      <td>87224</td>\n",
       "      <td>1</td>\n",
       "    </tr>\n",
       "    <tr>\n",
       "      <th>3</th>\n",
       "      <td>3</td>\n",
       "      <td>0</td>\n",
       "      <td>96755</td>\n",
       "      <td>1</td>\n",
       "    </tr>\n",
       "    <tr>\n",
       "      <th>4</th>\n",
       "      <td>4</td>\n",
       "      <td>0</td>\n",
       "      <td>157541</td>\n",
       "      <td>1</td>\n",
       "    </tr>\n",
       "    <tr>\n",
       "      <th>5</th>\n",
       "      <td>5</td>\n",
       "      <td>0</td>\n",
       "      <td>160158</td>\n",
       "      <td>1</td>\n",
       "    </tr>\n",
       "    <tr>\n",
       "      <th>6</th>\n",
       "      <td>6</td>\n",
       "      <td>0</td>\n",
       "      <td>233470</td>\n",
       "      <td>1</td>\n",
       "    </tr>\n",
       "    <tr>\n",
       "      <th>7</th>\n",
       "      <td>7</td>\n",
       "      <td>0</td>\n",
       "      <td>313996</td>\n",
       "      <td>1</td>\n",
       "    </tr>\n",
       "  </tbody>\n",
       "</table>\n",
       "</div>"
      ],
      "text/plain": [
       "   Unnamed: 0  user_id  click_article_id  nb_click_by_arts\n",
       "0           0        0             68866                 1\n",
       "1           1        0             87205                 1\n",
       "2           2        0             87224                 1\n",
       "3           3        0             96755                 1\n",
       "4           4        0            157541                 1\n",
       "5           5        0            160158                 1\n",
       "6           6        0            233470                 1\n",
       "7           7        0            313996                 1"
      ]
     },
     "execution_count": 132,
     "metadata": {},
     "output_type": "execute_result"
    }
   ],
   "source": [
    "user_arts"
   ]
  },
  {
   "cell_type": "code",
   "execution_count": 134,
   "metadata": {},
   "outputs": [
    {
     "data": {
      "text/plain": [
       "Int64Index([160974, 272143, 336221, 234698, 123909, 336223,  96210, 162655,\n",
       "            183176, 168623,\n",
       "            ...\n",
       "             15321, 296434, 296397, 350748, 106815,   3306, 166713, 214721,\n",
       "            350088,  98243],\n",
       "           dtype='int64', length=46033)"
      ]
     },
     "execution_count": 134,
     "metadata": {},
     "output_type": "execute_result"
    }
   ],
   "source": [
    "arts.unique()"
   ]
  },
  {
   "cell_type": "code",
   "execution_count": 135,
   "metadata": {},
   "outputs": [
    {
     "data": {
      "text/html": [
       "<div>\n",
       "<style scoped>\n",
       "    .dataframe tbody tr th:only-of-type {\n",
       "        vertical-align: middle;\n",
       "    }\n",
       "\n",
       "    .dataframe tbody tr th {\n",
       "        vertical-align: top;\n",
       "    }\n",
       "\n",
       "    .dataframe thead th {\n",
       "        text-align: right;\n",
       "    }\n",
       "</style>\n",
       "<table border=\"1\" class=\"dataframe\">\n",
       "  <thead>\n",
       "    <tr style=\"text-align: right;\">\n",
       "      <th></th>\n",
       "      <th>user_id</th>\n",
       "      <th>click_article_id</th>\n",
       "      <th>category_id</th>\n",
       "    </tr>\n",
       "  </thead>\n",
       "  <tbody>\n",
       "    <tr>\n",
       "      <th>0</th>\n",
       "      <td>0</td>\n",
       "      <td>157541</td>\n",
       "      <td>281</td>\n",
       "    </tr>\n",
       "    <tr>\n",
       "      <th>1</th>\n",
       "      <td>0</td>\n",
       "      <td>68866</td>\n",
       "      <td>136</td>\n",
       "    </tr>\n",
       "    <tr>\n",
       "      <th>2</th>\n",
       "      <td>1</td>\n",
       "      <td>235840</td>\n",
       "      <td>375</td>\n",
       "    </tr>\n",
       "    <tr>\n",
       "      <th>3</th>\n",
       "      <td>1</td>\n",
       "      <td>96663</td>\n",
       "      <td>209</td>\n",
       "    </tr>\n",
       "    <tr>\n",
       "      <th>4</th>\n",
       "      <td>2</td>\n",
       "      <td>119592</td>\n",
       "      <td>247</td>\n",
       "    </tr>\n",
       "    <tr>\n",
       "      <th>...</th>\n",
       "      <td>...</td>\n",
       "      <td>...</td>\n",
       "      <td>...</td>\n",
       "    </tr>\n",
       "    <tr>\n",
       "      <th>2988176</th>\n",
       "      <td>10051</td>\n",
       "      <td>84911</td>\n",
       "      <td>174</td>\n",
       "    </tr>\n",
       "    <tr>\n",
       "      <th>2988177</th>\n",
       "      <td>322896</td>\n",
       "      <td>30760</td>\n",
       "      <td>26</td>\n",
       "    </tr>\n",
       "    <tr>\n",
       "      <th>2988178</th>\n",
       "      <td>322896</td>\n",
       "      <td>157507</td>\n",
       "      <td>281</td>\n",
       "    </tr>\n",
       "    <tr>\n",
       "      <th>2988179</th>\n",
       "      <td>123718</td>\n",
       "      <td>234481</td>\n",
       "      <td>375</td>\n",
       "    </tr>\n",
       "    <tr>\n",
       "      <th>2988180</th>\n",
       "      <td>123718</td>\n",
       "      <td>233578</td>\n",
       "      <td>375</td>\n",
       "    </tr>\n",
       "  </tbody>\n",
       "</table>\n",
       "<p>2988181 rows × 3 columns</p>\n",
       "</div>"
      ],
      "text/plain": [
       "         user_id  click_article_id  category_id\n",
       "0              0            157541          281\n",
       "1              0             68866          136\n",
       "2              1            235840          375\n",
       "3              1             96663          209\n",
       "4              2            119592          247\n",
       "...          ...               ...          ...\n",
       "2988176    10051             84911          174\n",
       "2988177   322896             30760           26\n",
       "2988178   322896            157507          281\n",
       "2988179   123718            234481          375\n",
       "2988180   123718            233578          375\n",
       "\n",
       "[2988181 rows x 3 columns]"
      ]
     },
     "execution_count": 135,
     "metadata": {},
     "output_type": "execute_result"
    }
   ],
   "source": [
    "dfs"
   ]
  },
  {
   "cell_type": "code",
   "execution_count": 138,
   "metadata": {},
   "outputs": [
    {
     "data": {
      "text/plain": [
       "0          157541\n",
       "1           68866\n",
       "1287361     96755\n",
       "1287362    313996\n",
       "1352197    160158\n",
       "1352198    233470\n",
       "1535240     87224\n",
       "1535241     87205\n",
       "Name: click_article_id, dtype: int64"
      ]
     },
     "execution_count": 138,
     "metadata": {},
     "output_type": "execute_result"
    }
   ],
   "source": [
    "dfs.loc[dfs[\"user_id\"] == 0, \"click_article_id\"] "
   ]
  },
  {
   "cell_type": "code",
   "execution_count": 140,
   "metadata": {},
   "outputs": [
    {
     "data": {
      "text/html": [
       "<div>\n",
       "<style scoped>\n",
       "    .dataframe tbody tr th:only-of-type {\n",
       "        vertical-align: middle;\n",
       "    }\n",
       "\n",
       "    .dataframe tbody tr th {\n",
       "        vertical-align: top;\n",
       "    }\n",
       "\n",
       "    .dataframe thead th {\n",
       "        text-align: right;\n",
       "    }\n",
       "</style>\n",
       "<table border=\"1\" class=\"dataframe\">\n",
       "  <thead>\n",
       "    <tr style=\"text-align: right;\">\n",
       "      <th></th>\n",
       "      <th>Unnamed: 0</th>\n",
       "      <th>user_id</th>\n",
       "      <th>click_article_id</th>\n",
       "      <th>nb_click_by_arts</th>\n",
       "    </tr>\n",
       "  </thead>\n",
       "  <tbody>\n",
       "    <tr>\n",
       "      <th>0</th>\n",
       "      <td>0</td>\n",
       "      <td>0</td>\n",
       "      <td>68866</td>\n",
       "      <td>1</td>\n",
       "    </tr>\n",
       "    <tr>\n",
       "      <th>1</th>\n",
       "      <td>1</td>\n",
       "      <td>0</td>\n",
       "      <td>87205</td>\n",
       "      <td>1</td>\n",
       "    </tr>\n",
       "    <tr>\n",
       "      <th>2</th>\n",
       "      <td>2</td>\n",
       "      <td>0</td>\n",
       "      <td>87224</td>\n",
       "      <td>1</td>\n",
       "    </tr>\n",
       "    <tr>\n",
       "      <th>3</th>\n",
       "      <td>3</td>\n",
       "      <td>0</td>\n",
       "      <td>96755</td>\n",
       "      <td>1</td>\n",
       "    </tr>\n",
       "    <tr>\n",
       "      <th>4</th>\n",
       "      <td>4</td>\n",
       "      <td>0</td>\n",
       "      <td>157541</td>\n",
       "      <td>1</td>\n",
       "    </tr>\n",
       "    <tr>\n",
       "      <th>5</th>\n",
       "      <td>5</td>\n",
       "      <td>0</td>\n",
       "      <td>160158</td>\n",
       "      <td>1</td>\n",
       "    </tr>\n",
       "    <tr>\n",
       "      <th>6</th>\n",
       "      <td>6</td>\n",
       "      <td>0</td>\n",
       "      <td>233470</td>\n",
       "      <td>1</td>\n",
       "    </tr>\n",
       "    <tr>\n",
       "      <th>7</th>\n",
       "      <td>7</td>\n",
       "      <td>0</td>\n",
       "      <td>313996</td>\n",
       "      <td>1</td>\n",
       "    </tr>\n",
       "  </tbody>\n",
       "</table>\n",
       "</div>"
      ],
      "text/plain": [
       "   Unnamed: 0  user_id  click_article_id  nb_click_by_arts\n",
       "0           0        0             68866                 1\n",
       "1           1        0             87205                 1\n",
       "2           2        0             87224                 1\n",
       "3           3        0             96755                 1\n",
       "4           4        0            157541                 1\n",
       "5           5        0            160158                 1\n",
       "6           6        0            233470                 1\n",
       "7           7        0            313996                 1"
      ]
     },
     "execution_count": 140,
     "metadata": {},
     "output_type": "execute_result"
    }
   ],
   "source": [
    "user(0)"
   ]
  },
  {
   "cell_type": "code",
   "execution_count": 152,
   "metadata": {},
   "outputs": [],
   "source": [
    "def generate_recommendation(model, user_id, dfs, n_items): \n",
    "    # Obtenir une liste de tous les identifiants de films à partir du jeu de données \n",
    "    arts_ids = arts\n",
    " \n",
    "    # Obtenir une liste de tous les identifiants de films qui ont été regardés par l'utilisateur \n",
    "    arts_ids_user = user(user_id)\n",
    "    # Obtenir une liste de tous les ID de films qui n'ont pas été regardés par l'utilisateur \n",
    "    arts_ids_to_pred = np.setdiff1d(arts_ids, arts_ids_user) \n",
    " \n",
    "    # Appliquer une note de 4 à toutes les interactions (uniquement pour correspondre au format de l'ensemble de données Surprise) \n",
    "    test_set = [[user_id, art_id, 0] for art_id in arts_ids_to_pred] \n",
    "    \n",
    "    # Prédire les notes et générer des recommandations \n",
    "    predictions = model.test(test_set)\n",
    "    pred_ratings = np.array([pred.est for pred in predictions]) \n",
    "    print(\"Top {0} recommandations d'articles pour l'utilisateur {1} :\".format(n_items, user_id)) \n",
    "    # Classer les n meilleurs films en fonction des prédictions notes \n",
    "    index_max = (-pred_ratings).argsort()[:n_items] \n",
    "    result = []\n",
    "    for i in index_max: \n",
    "        art_id = arts_ids_to_pred[i] \n",
    "        print(dfs[dfs[\"click_article_id\"]==art_id][\"click_article_id\"].values[0] , pred_ratings[i])\n",
    "        result.append({\"article_id\":dfs[dfs[\"click_article_id\"]==art_id][\"click_article_id\"].values[0] , \"predictions\":str(pred_ratings[i])})\n",
    "    return result\n",
    " \n",
    " \n"
   ]
  },
  {
   "cell_type": "markdown",
   "metadata": {},
   "source": [
    "Testons notre fonction"
   ]
  },
  {
   "cell_type": "code",
   "execution_count": 161,
   "metadata": {},
   "outputs": [
    {
     "name": "stdout",
     "output_type": "stream",
     "text": [
      "Top 5 recommandations d'articles pour l'utilisateur 0 :\n",
      "27 1\n",
      "232012 1\n",
      "232039 1\n",
      "232040 1\n",
      "232044 1\n"
     ]
    },
    {
     "data": {
      "text/plain": [
       "[{'article_id': 27, 'predictions': '1'},\n",
       " {'article_id': 232012, 'predictions': '1'},\n",
       " {'article_id': 232039, 'predictions': '1'},\n",
       " {'article_id': 232040, 'predictions': '1'},\n",
       " {'article_id': 232044, 'predictions': '1'}]"
      ]
     },
     "execution_count": 161,
     "metadata": {},
     "output_type": "execute_result"
    }
   ],
   "source": [
    "# définir l'ID utilisateur auquel nous voulons donner la recommandation \n",
    "userID = 0 \n",
    "# définir le nombre de films top-n que nous voulons recommander \n",
    "n_items = 5 \n",
    "model = loaded_model[\"algo\"]\n",
    "# générer une recommandation en utilisant le modèle que nous avons formé \n",
    "generate_recommendation(model, userID,dfs,n_items)"
   ]
  },
  {
   "cell_type": "markdown",
   "metadata": {},
   "source": [
    "Nous avons pu trouver un modèle, cependant les résultats seraient plus probants si nous avions les taux de préférence des utilisateurs."
   ]
  },
  {
   "cell_type": "markdown",
   "metadata": {},
   "source": [
    "# Conclusion"
   ]
  },
  {
   "cell_type": "markdown",
   "metadata": {},
   "source": [
    "Le système de recommendation basé sur le contenu est rapide à mettre en oeuvre et adapté aux petits volumes de données. Cependant, la matrice de similarité du cosinus peut rapidement devenir importante et provoquer des problèmes de mémoire.\n",
    "Le système de recommandation Collaborative filtering est plus adapté aux grands volumes de données. Mais il est plus précis dans les cas où nous disposons des préférences utilisateurs, ce qui n'est pas le cas ici."
   ]
  },
  {
   "cell_type": "markdown",
   "metadata": {},
   "source": [
    "Le système de recommandation basé sur la contenu sera donc un choix plus adapté au vu de nos données disponibles.\n"
   ]
  }
 ],
 "metadata": {
  "interpreter": {
   "hash": "309fe208171c65d4db4c91bd8ffdeced667eb03bdd515edf7626e5bbc0174ca8"
  },
  "kernelspec": {
   "display_name": "Python 3.7.13 ('env_t')",
   "language": "python",
   "name": "python3"
  },
  "language_info": {
   "codemirror_mode": {
    "name": "ipython",
    "version": 3
   },
   "file_extension": ".py",
   "mimetype": "text/x-python",
   "name": "python",
   "nbconvert_exporter": "python",
   "pygments_lexer": "ipython3",
   "version": "3.8.13"
  },
  "orig_nbformat": 4
 },
 "nbformat": 4,
 "nbformat_minor": 2
}
